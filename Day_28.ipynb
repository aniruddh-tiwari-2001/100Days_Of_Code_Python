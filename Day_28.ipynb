{
 "cells": [
  {
   "cell_type": "markdown",
   "id": "9e832fd5-f65b-40c6-9ef6-421e547e3590",
   "metadata": {},
   "source": [
    "# Day_28\n",
    "## Topics covered on Day 28:\n",
    "- Solved some interview coding problems"
   ]
  },
  {
   "cell_type": "markdown",
   "id": "05b0a15c-f143-4513-9ff7-5c440fe6d474",
   "metadata": {},
   "source": [
    "### Problem1:\n",
    "ALMOST THERE: Given an integer n, return True if n is within 10 of either 100 or 200\n",
    "\n",
    "almost_there(90) --> True\n",
    "\n",
    "almost_there(104) --> True\n",
    "\n",
    "almost_there(150) --> False\n",
    "\n",
    "almost_there(209) --> True"
   ]
  },
  {
   "cell_type": "code",
   "execution_count": 1,
   "id": "356cab9e-81cc-48b0-89a1-a17bfbff85c0",
   "metadata": {},
   "outputs": [],
   "source": [
    "def almost_there(n):\n",
    "    return (abs(100-n)<=10) or (abs(200-n)<=10)"
   ]
  },
  {
   "cell_type": "code",
   "execution_count": 2,
   "id": "af9ce4c1-df56-44c0-a383-60d3c7fdbfe0",
   "metadata": {},
   "outputs": [
    {
     "name": "stdout",
     "output_type": "stream",
     "text": [
      "True\n",
      "True\n",
      "False\n",
      "True\n"
     ]
    }
   ],
   "source": [
    "print(almost_there(90))\n",
    "\n",
    "print(almost_there(104))\n",
    "\n",
    "print(almost_there(150))\n",
    "\n",
    "print(almost_there(209))"
   ]
  },
  {
   "cell_type": "markdown",
   "id": "6db69b29-f239-4de7-a440-4a65eedfc8ae",
   "metadata": {},
   "source": [
    "### Problem 3\n",
    "FIND 33:\n",
    "    \n",
    "Given a list of ints, return True if the array contains a 3 next to a 3 somewhere.\n",
    "\n",
    "has_33([1, 3, 3]) → True\n",
    "\n",
    "has_33([1, 3, 1, 3]) → False\n",
    "\n",
    "has_33([3, 1, 3]) → False"
   ]
  },
  {
   "cell_type": "code",
   "execution_count": 3,
   "id": "1bb1c77d-571e-4f61-9f69-f7a59f2d1a05",
   "metadata": {},
   "outputs": [],
   "source": [
    "def has_33(list_33):\n",
    "    for i in range(0,len(list_33)-1):\n",
    "        if list_33[i] == 3 and list_33[i+1] == 3:\n",
    "            return True\n",
    "    return False"
   ]
  },
  {
   "cell_type": "code",
   "execution_count": 4,
   "id": "f1d5d5da-f6a8-44cf-8caf-4653e1016a50",
   "metadata": {},
   "outputs": [
    {
     "name": "stdout",
     "output_type": "stream",
     "text": [
      "True\n",
      "False\n",
      "False\n"
     ]
    }
   ],
   "source": [
    "print(has_33([1, 3, 3]))\n",
    "print(has_33([1, 3, 1, 3]))\n",
    "print(has_33([3, 1, 3]))"
   ]
  },
  {
   "cell_type": "code",
   "execution_count": 5,
   "id": "0e4fc067-9149-479c-bccb-212d1f017e7b",
   "metadata": {},
   "outputs": [],
   "source": [
    "def has_33(list_33):\n",
    "    for i in range(0,len(list_33)-1):\n",
    "        if list_33[i:i+2] == [3,3]:\n",
    "            return True\n",
    "    return False"
   ]
  },
  {
   "cell_type": "code",
   "execution_count": 6,
   "id": "769f4b63-9ca8-4306-b993-a4cfa0eca758",
   "metadata": {},
   "outputs": [
    {
     "name": "stdout",
     "output_type": "stream",
     "text": [
      "True\n",
      "False\n",
      "False\n"
     ]
    }
   ],
   "source": [
    "print(has_33([1, 3, 3]))\n",
    "print(has_33([1, 3, 1, 3]))\n",
    "print(has_33([3, 1, 3]))"
   ]
  },
  {
   "cell_type": "markdown",
   "id": "61216b0a-d606-4dfa-8170-64e93b7c48e4",
   "metadata": {},
   "source": [
    "### Problem 3:\n",
    "PAPER DOLL: Given a string, return a string where for every character in the original there are three characters\n",
    "\n",
    "paper_doll('Hello') --> 'HHHeeellllllooo'\n",
    "\n",
    "paper_doll('Mississippi') --> 'MMMiiissssssiiippppppiii'"
   ]
  },
  {
   "cell_type": "code",
   "execution_count": 7,
   "id": "68f308e7-c2cd-4426-8906-32b15cab2ff7",
   "metadata": {},
   "outputs": [],
   "source": [
    "def paper_doll(n):\n",
    "    lis_n = list(n)\n",
    "    lis = []\n",
    "    for i in lis_n:\n",
    "        x = lis.append(i*3)\n",
    "    return \"\".join(lis)"
   ]
  },
  {
   "cell_type": "code",
   "execution_count": 8,
   "id": "02dcf69d-7a4f-4302-b2ed-8350b59b84ac",
   "metadata": {},
   "outputs": [
    {
     "name": "stdout",
     "output_type": "stream",
     "text": [
      "HHHeeellllllooo\n",
      "MMMiiissssssiiissssssiiippppppiii\n"
     ]
    }
   ],
   "source": [
    "print(paper_doll('Hello'))\n",
    "print(paper_doll('Mississippi'))"
   ]
  },
  {
   "cell_type": "code",
   "execution_count": 9,
   "id": "426bc5d2-27b9-49d3-aba2-47668b9eb902",
   "metadata": {},
   "outputs": [],
   "source": [
    "def paper_doll(n):\n",
    "    result = \"\"\n",
    "    for i in n:\n",
    "        result+=i*3\n",
    "    return result"
   ]
  },
  {
   "cell_type": "code",
   "execution_count": 10,
   "id": "08e63c96-d6ae-44d1-88ea-28426eeec17f",
   "metadata": {},
   "outputs": [
    {
     "name": "stdout",
     "output_type": "stream",
     "text": [
      "HHHeeellllllooo\n",
      "MMMiiissssssiiissssssiiippppppiii\n"
     ]
    }
   ],
   "source": [
    "print(paper_doll('Hello'))\n",
    "print(paper_doll('Mississippi'))"
   ]
  },
  {
   "cell_type": "markdown",
   "id": "62c2afee-2572-43a5-9712-4f4054d9aa55",
   "metadata": {},
   "source": [
    "### Problem 3:\n",
    "BLACKJACK: Given three integers between 1 and 11, if their sum is less than or equal to 21, return their sum. If their sum exceeds 21 and there's an eleven, reduce the total sum by 10. Finally, if the sum (even after adjustment) exceeds 21, return 'BUST'\n",
    "\n",
    "blackjack(5,6,7) --> 18\n",
    "\n",
    "blackjack(9,9,9) --> 'BUST'\n",
    "\n",
    "blackjack(9,9,11) --> 19"
   ]
  },
  {
   "cell_type": "code",
   "execution_count": 11,
   "id": "ef205afa-5ed0-495f-9149-d7317bc9593e",
   "metadata": {},
   "outputs": [],
   "source": [
    "def blackjack(f,s,t):\n",
    "    lst = []\n",
    "    for i in (f,s,t):\n",
    "        x = lst.append(i)\n",
    "    add = sum(lst)\n",
    "    if add<=21:\n",
    "        return add\n",
    "    elif add>21 and 11 in lst:\n",
    "        return add-10\n",
    "    else:\n",
    "        return \"BUST\""
   ]
  },
  {
   "cell_type": "code",
   "execution_count": 12,
   "id": "19340d56-eb55-4689-92bd-1057679c1d1d",
   "metadata": {},
   "outputs": [
    {
     "name": "stdout",
     "output_type": "stream",
     "text": [
      "18\n",
      "19\n",
      "BUST\n"
     ]
    }
   ],
   "source": [
    "print(blackjack(5,6,7))\n",
    "print(blackjack(9,9,11))\n",
    "print(blackjack(9,9,9))"
   ]
  },
  {
   "cell_type": "code",
   "execution_count": 13,
   "id": "b6464a86-1479-4983-9083-4f0453a8a69f",
   "metadata": {},
   "outputs": [],
   "source": [
    "def blackjack(f,s,t):\n",
    "    if  sum([f,s,t])<=21:\n",
    "        return sum([f,s,t])\n",
    "    elif 11 in [f,s,t] and sum([f,s,t]) <= 31:\n",
    "        return sum([f,s,t])-10 \n",
    "    else:\n",
    "        return \"BUST\""
   ]
  },
  {
   "cell_type": "code",
   "execution_count": 14,
   "id": "6d05924b-9cb2-417c-9d43-7cffdd8ee66e",
   "metadata": {},
   "outputs": [
    {
     "name": "stdout",
     "output_type": "stream",
     "text": [
      "18\n",
      "19\n",
      "BUST\n"
     ]
    }
   ],
   "source": [
    "print(blackjack(5,6,7))\n",
    "print(blackjack(9,9,11))\n",
    "print(blackjack(9,9,9))"
   ]
  },
  {
   "cell_type": "markdown",
   "id": "08f7222a-3f0d-4830-bd2c-35825a2ec03b",
   "metadata": {},
   "source": [
    "### Problem 4 :\n",
    "SUMMER OF '69: Return the sum of the numbers in the array, except ignore sections of numbers starting with a 6 and extending to the next 9 (every 6 will be followed by at least one 9). Return 0 for no numbers.\n",
    "\n",
    "summer_69([1, 3, 5]) --> 9\n",
    "\n",
    "summer_69([4, 5, 6, 7, 8, 9]) --> 9\n",
    "\n",
    "summer_69([2, 1, 6, 9, 11]) --> 14"
   ]
  },
  {
   "cell_type": "code",
   "execution_count": 15,
   "id": "012b7d4e-ad10-4340-8240-fe0a1c1a5c6e",
   "metadata": {},
   "outputs": [],
   "source": [
    "def summer_69(lis):\n",
    "    total = 0\n",
    "    add = True\n",
    "    \n",
    "    for i in lis:\n",
    "        while add:\n",
    "            if i!=6:\n",
    "                total+=i\n",
    "                break\n",
    "            else:\n",
    "                add = False\n",
    "        while not add:\n",
    "            if i != 9:\n",
    "                break\n",
    "            else:\n",
    "                add = True\n",
    "                break\n",
    "    return total"
   ]
  },
  {
   "cell_type": "code",
   "execution_count": 16,
   "id": "02616d4b-3e54-49be-af3d-3ce4ddf5af91",
   "metadata": {},
   "outputs": [
    {
     "data": {
      "text/plain": [
       "9"
      ]
     },
     "execution_count": 16,
     "metadata": {},
     "output_type": "execute_result"
    }
   ],
   "source": [
    "summer_69([1, 3, 5])"
   ]
  },
  {
   "cell_type": "code",
   "execution_count": 17,
   "id": "e724c846-ff8b-49c4-9e7b-7afed8f00b66",
   "metadata": {},
   "outputs": [
    {
     "data": {
      "text/plain": [
       "9"
      ]
     },
     "execution_count": 17,
     "metadata": {},
     "output_type": "execute_result"
    }
   ],
   "source": [
    "summer_69([4, 5, 6, 7, 8, 9]) "
   ]
  },
  {
   "cell_type": "code",
   "execution_count": 18,
   "id": "1c35b9e5-abb1-4e25-8dbc-ffd259cc842c",
   "metadata": {},
   "outputs": [
    {
     "data": {
      "text/plain": [
       "14"
      ]
     },
     "execution_count": 18,
     "metadata": {},
     "output_type": "execute_result"
    }
   ],
   "source": [
    "summer_69([2, 1, 6, 9, 11]) "
   ]
  },
  {
   "cell_type": "markdown",
   "id": "319cb0d6-b282-4674-8da9-b38d76953b01",
   "metadata": {},
   "source": [
    "### Problem 5 :\n",
    "SPY GAME: Write a function that takes in a list of integers and returns True if it contains 007 in order\n",
    " \n",
    "spy_game([1,2,4,0,0,7,5]) --> True\n",
    "\n",
    "spy_game([1,0,2,4,0,5,7]) --> True\n",
    "\n",
    "spy_game([1,7,2,0,4,5,0]) --> False"
   ]
  },
  {
   "cell_type": "code",
   "execution_count": 19,
   "id": "57f7023c-3769-4542-b588-d30951c8b47e",
   "metadata": {},
   "outputs": [],
   "source": [
    "def spy_game(n):\n",
    "    code = [0,0,7,'x']\n",
    "    for i in n:\n",
    "        if i == code[0]:\n",
    "            code.pop(0)\n",
    "    return len(code) == 1"
   ]
  },
  {
   "cell_type": "code",
   "execution_count": 20,
   "id": "0888c132-4939-4271-a825-494c34ced223",
   "metadata": {},
   "outputs": [
    {
     "name": "stdout",
     "output_type": "stream",
     "text": [
      "True\n",
      "True\n",
      "False\n"
     ]
    }
   ],
   "source": [
    "print(spy_game([1,2,4,0,0,7,5]))\n",
    "print(spy_game([1,0,2,4,0,5,7]))\n",
    "print(spy_game([1,7,2,0,4,5,0]))"
   ]
  },
  {
   "cell_type": "markdown",
   "id": "1fd9ab9a-e7a8-488a-a8f4-48011d5af1db",
   "metadata": {},
   "source": [
    "## Problem 6:\n",
    "COUNT PRIMES: Write a function that returns the number of prime numbers that exist up to and including a given number\n",
    "\n",
    "count_primes(100) --> 25\n",
    "\n",
    "By convention, 0 and 1 are not prime."
   ]
  },
  {
   "cell_type": "code",
   "execution_count": 21,
   "id": "2026fd99-3823-47e9-b3a7-85790915892f",
   "metadata": {},
   "outputs": [],
   "source": [
    "def count_primes(n):\n",
    "    if n <2:\n",
    "        return 0\n",
    "    prime = [2]\n",
    "    x = 3\n",
    "    while x<=n:\n",
    "        for i in range(3,x,2):\n",
    "            if x%i == 0:\n",
    "                x+=2\n",
    "                break\n",
    "        else:\n",
    "            prime.append(x)\n",
    "            x+=2\n",
    "    print(prime)\n",
    "    return len(prime)"
   ]
  },
  {
   "cell_type": "code",
   "execution_count": 22,
   "id": "772fc6c1-8d69-47bb-9794-134a8aa2449f",
   "metadata": {},
   "outputs": [
    {
     "name": "stdout",
     "output_type": "stream",
     "text": [
      "[2, 3, 5, 7, 11, 13, 17, 19, 23, 29, 31, 37, 41, 43, 47, 53, 59, 61, 67, 71, 73, 79, 83, 89, 97]\n"
     ]
    },
    {
     "data": {
      "text/plain": [
       "25"
      ]
     },
     "execution_count": 22,
     "metadata": {},
     "output_type": "execute_result"
    }
   ],
   "source": [
    "count_primes(100)"
   ]
  },
  {
   "cell_type": "code",
   "execution_count": null,
   "id": "c7d322b0-3fe7-4b74-88ae-3c23a92f2270",
   "metadata": {},
   "outputs": [],
   "source": []
  }
 ],
 "metadata": {
  "kernelspec": {
   "display_name": "Python 3 (ipykernel)",
   "language": "python",
   "name": "python3"
  },
  "language_info": {
   "codemirror_mode": {
    "name": "ipython",
    "version": 3
   },
   "file_extension": ".py",
   "mimetype": "text/x-python",
   "name": "python",
   "nbconvert_exporter": "python",
   "pygments_lexer": "ipython3",
   "version": "3.10.8"
  }
 },
 "nbformat": 4,
 "nbformat_minor": 5
}
