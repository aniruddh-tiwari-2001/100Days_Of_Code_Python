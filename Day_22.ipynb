{
 "cells": [
  {
   "cell_type": "markdown",
   "id": "d1ba65da-7452-4704-9509-4e59cbec8fa9",
   "metadata": {},
   "source": [
    "# Day 22"
   ]
  },
  {
   "cell_type": "code",
   "execution_count": null,
   "id": "17dcfae8-75d4-49d9-805a-496c9a993a7a",
   "metadata": {},
   "outputs": [],
   "source": []
  },
  {
   "cell_type": "markdown",
   "id": "c510d3d5-fb43-416a-8add-9eec3f8508c9",
   "metadata": {},
   "source": [
    "## Problem 1\n",
    "Check if any number in a list is even\n",
    "Let's return a boolean indicating if any number in a list is even. Notice here how return breaks out of the loop and exits the function"
   ]
  },
  {
   "cell_type": "code",
   "execution_count": 10,
   "id": "2aca28fd-34f9-41a1-965a-7d1637de760b",
   "metadata": {},
   "outputs": [],
   "source": [
    "def check_even(num_list):\n",
    "    for i in num_list:\n",
    "        if i % 2 == 0:\n",
    "            return True\n",
    "        else:\n",
    "            pass\n",
    "    return False"
   ]
  },
  {
   "cell_type": "code",
   "execution_count": 11,
   "id": "8c4a4337-1d00-4fb0-be7d-3c84780b7ced",
   "metadata": {},
   "outputs": [
    {
     "data": {
      "text/plain": [
       "True"
      ]
     },
     "execution_count": 11,
     "metadata": {},
     "output_type": "execute_result"
    }
   ],
   "source": [
    "check_even([1,2,3,4,5,6])"
   ]
  },
  {
   "cell_type": "code",
   "execution_count": 12,
   "id": "7aa8acb6-e947-4370-a28b-c7863f16a3da",
   "metadata": {},
   "outputs": [
    {
     "data": {
      "text/plain": [
       "False"
      ]
     },
     "execution_count": 12,
     "metadata": {},
     "output_type": "execute_result"
    }
   ],
   "source": [
    "check_even([1,3,5])"
   ]
  },
  {
   "cell_type": "markdown",
   "id": "c43480df-4930-4c05-a4db-9916f6055c71",
   "metadata": {},
   "source": [
    "# Problem 2\n",
    "Return all even numbers in a list"
   ]
  },
  {
   "cell_type": "code",
   "execution_count": 24,
   "id": "5539664c-9ea3-4d36-a165-d48b0a9c343a",
   "metadata": {},
   "outputs": [],
   "source": [
    "def even_num(num_list):\n",
    "    even = []\n",
    "    for i in num_list:\n",
    "        if i%2==0:\n",
    "            even.append(i)\n",
    "        else:\n",
    "            pass\n",
    "    return even"
   ]
  },
  {
   "cell_type": "code",
   "execution_count": 25,
   "id": "14482c57-d371-4f59-bfdd-4e2f35ec7a74",
   "metadata": {},
   "outputs": [
    {
     "data": {
      "text/plain": [
       "[2, 4, 6, 8, 10]"
      ]
     },
     "execution_count": 25,
     "metadata": {},
     "output_type": "execute_result"
    }
   ],
   "source": [
    "even_num([1,2,3,4,5,6,7,8,9,10])"
   ]
  },
  {
   "cell_type": "markdown",
   "id": "fa8bed9d-c6e8-45ab-9506-477bcc092c98",
   "metadata": {},
   "source": [
    "## Problem 3\n",
    "Let's imagine the following list:\n",
    "\n",
    "work_hours = [('Abby',100),('Billy',400),('Cassie',800)]\n",
    "\n",
    "The employee of the month function will return both the name and number of hours worked for the top performer (judged by number of hours worked)."
   ]
  },
  {
   "cell_type": "code",
   "execution_count": 26,
   "id": "17ac64c8-acda-4a2f-8ebf-29298ea9e707",
   "metadata": {},
   "outputs": [],
   "source": [
    "def find_emp(emps):\n",
    "    max_hr = 0\n",
    "    emp_name = ''\n",
    "    for emp,hr in emps:\n",
    "        if hr>max_hr:\n",
    "            max_hr = hr\n",
    "            emp_name = emp\n",
    "        else:\n",
    "            pass\n",
    "    return (emp_name,max_hr)"
   ]
  },
  {
   "cell_type": "code",
   "execution_count": 27,
   "id": "b8b4be08-63df-4c2a-857f-cb2277ebe462",
   "metadata": {},
   "outputs": [
    {
     "data": {
      "text/plain": [
       "('Cassie', 800)"
      ]
     },
     "execution_count": 27,
     "metadata": {},
     "output_type": "execute_result"
    }
   ],
   "source": [
    "find_emp([('Abby',100),('Billy',400),('Cassie',800)])"
   ]
  },
  {
   "cell_type": "markdown",
   "id": "f40b4d98-9e8e-45f7-bb3d-eb5a7db4f4a4",
   "metadata": {},
   "source": [
    "## Problem 3\n",
    "LESSER OF TWO EVENS: Write a function that returns the lesser of two given numbers if both numbers are even, but returns the greater if one or both numbers are odd\n",
    "\n",
    "lesser_of_two_evens(2,4) --> 2\n",
    "\n",
    "lesser_of_two_evens(2,5) --> 5"
   ]
  },
  {
   "cell_type": "code",
   "execution_count": 40,
   "id": "5a257263-4a57-4442-b310-ba809af49801",
   "metadata": {},
   "outputs": [],
   "source": [
    "def numbera(num1, num2):\n",
    "    if num1 % 2 == 0 and num2 % 2 == 0:\n",
    "        return min(num1,num2)\n",
    "    else:\n",
    "       return max(num1,num2)\n",
    "    "
   ]
  },
  {
   "cell_type": "code",
   "execution_count": 41,
   "id": "f2df9f2e-d571-489d-833e-d6bb4b1be66e",
   "metadata": {},
   "outputs": [
    {
     "data": {
      "text/plain": [
       "2"
      ]
     },
     "execution_count": 41,
     "metadata": {},
     "output_type": "execute_result"
    }
   ],
   "source": [
    "numbera(2, 4)"
   ]
  },
  {
   "cell_type": "code",
   "execution_count": 42,
   "id": "4145306f-7c54-40c4-921d-330007eae84d",
   "metadata": {},
   "outputs": [
    {
     "data": {
      "text/plain": [
       "5"
      ]
     },
     "execution_count": 42,
     "metadata": {},
     "output_type": "execute_result"
    }
   ],
   "source": [
    "numbera(5, 4)"
   ]
  },
  {
   "cell_type": "markdown",
   "id": "d335d8ed-da53-4bce-92df-631429c21d6c",
   "metadata": {},
   "source": [
    "## Problem 4\n",
    "ANIMAL CRACKERS: Write a function takes a two-word string and returns True if both words begin with same letter\n",
    "\n",
    "animal_crackers('Levelheaded Llama') --> True\n",
    "\n",
    "animal_crackers('Crazy Kangaroo') --> False"
   ]
  },
  {
   "cell_type": "code",
   "execution_count": 48,
   "id": "519782d4-361e-4da6-bda5-b189ba71959f",
   "metadata": {},
   "outputs": [],
   "source": [
    "def animal_crackers():\n",
    "    s1,s2 = map(str, input().split())\n",
    "    if s1[0].lower() == s2[0].lower():\n",
    "        return True\n",
    "    else:\n",
    "        return False"
   ]
  },
  {
   "cell_type": "code",
   "execution_count": 49,
   "id": "caedaeea-50ab-4a4b-82a5-cfa854c3f664",
   "metadata": {},
   "outputs": [
    {
     "name": "stdin",
     "output_type": "stream",
     "text": [
      " Levelheaded Llama\n"
     ]
    },
    {
     "data": {
      "text/plain": [
       "True"
      ]
     },
     "execution_count": 49,
     "metadata": {},
     "output_type": "execute_result"
    }
   ],
   "source": [
    "animal_crackers()"
   ]
  },
  {
   "cell_type": "code",
   "execution_count": 50,
   "id": "8769e7ef-475b-480a-92c8-b8b0c8194e39",
   "metadata": {},
   "outputs": [
    {
     "name": "stdin",
     "output_type": "stream",
     "text": [
      " Crazy Kangaroo\n"
     ]
    },
    {
     "data": {
      "text/plain": [
       "False"
      ]
     },
     "execution_count": 50,
     "metadata": {},
     "output_type": "execute_result"
    }
   ],
   "source": [
    "animal_crackers()"
   ]
  },
  {
   "cell_type": "code",
   "execution_count": 51,
   "id": "9d784cb0-a5ab-48fe-811e-4a43c621199c",
   "metadata": {},
   "outputs": [
    {
     "name": "stdin",
     "output_type": "stream",
     "text": [
      " Levelheaded llama\n"
     ]
    },
    {
     "data": {
      "text/plain": [
       "True"
      ]
     },
     "execution_count": 51,
     "metadata": {},
     "output_type": "execute_result"
    }
   ],
   "source": [
    "animal_crackers()"
   ]
  },
  {
   "cell_type": "markdown",
   "id": "7b55914b-6ce6-4a7a-b953-3a1c72169b64",
   "metadata": {},
   "source": [
    "## Problem 5\n",
    "MAKES TWENTY: Given two integers, return True if the sum of the integers is 20 or if one of the integers is 20. If not, return False\n",
    "\n",
    "makes_twenty(20,10) --> True\n",
    "\n",
    "makes_twenty(12,8) --> True\n",
    "\n",
    "makes_twenty(2,3) --> False"
   ]
  },
  {
   "cell_type": "code",
   "execution_count": 54,
   "id": "55dd7128-ff70-4039-bd04-78a425554662",
   "metadata": {},
   "outputs": [],
   "source": [
    "def makes_twenty(a,b):\n",
    "    if a + b == 20 and a or b == 20:\n",
    "        return True\n",
    "    else:\n",
    "        return False"
   ]
  },
  {
   "cell_type": "code",
   "execution_count": 55,
   "id": "9bf0fb9b-5f64-4b72-ade1-373deccd8315",
   "metadata": {},
   "outputs": [
    {
     "data": {
      "text/plain": [
       "True"
      ]
     },
     "execution_count": 55,
     "metadata": {},
     "output_type": "execute_result"
    }
   ],
   "source": [
    "makes_twenty(10,10)"
   ]
  },
  {
   "cell_type": "code",
   "execution_count": 56,
   "id": "130baa71-c581-4938-8b00-d13d02529860",
   "metadata": {},
   "outputs": [
    {
     "data": {
      "text/plain": [
       "True"
      ]
     },
     "execution_count": 56,
     "metadata": {},
     "output_type": "execute_result"
    }
   ],
   "source": [
    "makes_twenty(5,20)"
   ]
  },
  {
   "cell_type": "code",
   "execution_count": 57,
   "id": "587d4b9d-a5eb-4377-bc5d-9013da173f06",
   "metadata": {},
   "outputs": [
    {
     "data": {
      "text/plain": [
       "False"
      ]
     },
     "execution_count": 57,
     "metadata": {},
     "output_type": "execute_result"
    }
   ],
   "source": [
    "makes_twenty(4,5)"
   ]
  },
  {
   "cell_type": "code",
   "execution_count": 58,
   "id": "5d388fb3-47de-4b8c-ac8a-c3fa82b61d27",
   "metadata": {},
   "outputs": [
    {
     "data": {
      "text/plain": [
       "True"
      ]
     },
     "execution_count": 58,
     "metadata": {},
     "output_type": "execute_result"
    }
   ],
   "source": [
    "makes_twenty(12, 8)"
   ]
  },
  {
   "cell_type": "markdown",
   "id": "51aee224-8644-49eb-973c-d24647c36d35",
   "metadata": {},
   "source": [
    "## Problem 6\n",
    "OLD MACDONALD: Write a function that capitalizes the first and fourth letters of a name\n",
    "\n",
    "old_macdonald('macdonald') --> MacDonald\n"
   ]
  },
  {
   "cell_type": "code",
   "execution_count": 87,
   "id": "c04e0490-6b34-4b67-bcc4-3f1d55e9e47b",
   "metadata": {},
   "outputs": [],
   "source": [
    "def old_macdonald(name):\n",
    "    if len(name)>3:\n",
    "        name_lis = list(name)\n",
    "        name_lis[0] = name_lis[0].upper()\n",
    "        name_lis[3] = name_lis[3].upper()\n",
    "        name = ''.join(name_lis)\n",
    "        return name\n",
    "    else:\n",
    "        return 'Name is too short'"
   ]
  },
  {
   "cell_type": "code",
   "execution_count": 88,
   "id": "81a4e399-acbf-4fdf-8d8c-f2d98bf883d9",
   "metadata": {},
   "outputs": [
    {
     "data": {
      "text/plain": [
       "'MacDonald'"
      ]
     },
     "execution_count": 88,
     "metadata": {},
     "output_type": "execute_result"
    }
   ],
   "source": [
    "old_macdonald('macdonald') "
   ]
  },
  {
   "cell_type": "code",
   "execution_count": 89,
   "id": "d3d9f4cc-d94b-461e-8153-858b8307e9df",
   "metadata": {},
   "outputs": [
    {
     "data": {
      "text/plain": [
       "'Name is too short'"
      ]
     },
     "execution_count": 89,
     "metadata": {},
     "output_type": "execute_result"
    }
   ],
   "source": [
    "old_macdonald('mac') "
   ]
  },
  {
   "cell_type": "code",
   "execution_count": 94,
   "id": "929c5228-0427-448b-a437-417f3922a8f9",
   "metadata": {},
   "outputs": [],
   "source": [
    "def old_macdonald(name):\n",
    "    if len(name)>3:\n",
    "        return name[:3].capitalize()+name[3:].capitalize()\n",
    "    else:\n",
    "        return 'Name is too short'"
   ]
  },
  {
   "cell_type": "code",
   "execution_count": 95,
   "id": "5232f2a3-1ba2-48bc-8331-5542e4faca2b",
   "metadata": {},
   "outputs": [
    {
     "data": {
      "text/plain": [
       "'MacDonald'"
      ]
     },
     "execution_count": 95,
     "metadata": {},
     "output_type": "execute_result"
    }
   ],
   "source": [
    "old_macdonald('macdonald') "
   ]
  },
  {
   "cell_type": "code",
   "execution_count": 96,
   "id": "52764d3f-d9de-40fe-84b5-3ad50b6afa0c",
   "metadata": {},
   "outputs": [
    {
     "data": {
      "text/plain": [
       "'Name is too short'"
      ]
     },
     "execution_count": 96,
     "metadata": {},
     "output_type": "execute_result"
    }
   ],
   "source": [
    "old_macdonald('mac') "
   ]
  },
  {
   "cell_type": "markdown",
   "id": "e98870d3-03e5-450e-9642-b7b2c7414643",
   "metadata": {},
   "source": [
    "## Problem 7\n",
    "MASTER YODA: Given a sentence, return a sentence with the words reversed\n",
    "\n",
    "master_yoda('I am home') --> 'home am I'\n",
    "\n",
    "master_yoda('We are ready') --> 'ready are We'\n"
   ]
  },
  {
   "cell_type": "code",
   "execution_count": 116,
   "id": "90189041-9929-4bf9-8575-be63f3a172da",
   "metadata": {},
   "outputs": [],
   "source": [
    "def master_yoda(msg):\n",
    "    msg = msg.split()\n",
    "    msg = ' '.join(msg)\n",
    "    return msg"
   ]
  },
  {
   "cell_type": "code",
   "execution_count": 118,
   "id": "34be8168-1679-412a-aa64-9ccb7ce90cef",
   "metadata": {},
   "outputs": [
    {
     "data": {
      "text/plain": [
       "'I am home'"
      ]
     },
     "execution_count": 118,
     "metadata": {},
     "output_type": "execute_result"
    }
   ],
   "source": [
    "master_yoda('I am home')"
   ]
  },
  {
   "cell_type": "code",
   "execution_count": 119,
   "id": "71cb2be2-22a2-4597-acc6-1961fea82ba0",
   "metadata": {},
   "outputs": [
    {
     "data": {
      "text/plain": [
       "'We are ready'"
      ]
     },
     "execution_count": 119,
     "metadata": {},
     "output_type": "execute_result"
    }
   ],
   "source": [
    "master_yoda('We are ready')"
   ]
  },
  {
   "cell_type": "markdown",
   "id": "4df36b95-8351-436a-b910-641f0270321e",
   "metadata": {},
   "source": [
    "## Problem 8:\n",
    "ALMOST THERE: Given an integer n, return True if n is within 10 of either 100 or 200\n",
    "\n",
    "almost_there(90) --> True\n",
    "\n",
    "almost_there(104) --> True\n",
    "\n",
    "almost_there(150) --> False\n",
    "\n",
    "almost_there(209) --> True"
   ]
  },
  {
   "cell_type": "code",
   "execution_count": 120,
   "id": "90c5e083-a7e4-467a-b570-77aabd3f2dfd",
   "metadata": {},
   "outputs": [],
   "source": [
    "def almost_there(n):\n",
    "    return (abs(100-n)<=10 or (abs(200-n))<=10)"
   ]
  },
  {
   "cell_type": "code",
   "execution_count": 121,
   "id": "d6d4b331-c392-42c1-8faf-90aa9fce8aa6",
   "metadata": {},
   "outputs": [
    {
     "name": "stdout",
     "output_type": "stream",
     "text": [
      "True\n",
      "True\n",
      "False\n",
      "True\n"
     ]
    }
   ],
   "source": [
    "print(almost_there(90))\n",
    "print(almost_there(104))\n",
    "print(almost_there(150))\n",
    "print(almost_there(209))"
   ]
  },
  {
   "cell_type": "markdown",
   "id": "75df74f1-f4c4-489e-a0a1-2f2f64c2e954",
   "metadata": {},
   "source": [
    "## Problem 9\n",
    "FIND 33:\n",
    "\n",
    "Given a list of ints, return True if the array contains a 3 next to a 3 somewhere.\n",
    "\n",
    "has_33([1, 3, 3]) → True\n",
    "\n",
    "has_33([1, 3, 1, 3]) → False\n",
    "\n",
    "has_33([3, 1, 3]) → False"
   ]
  },
  {
   "cell_type": "code",
   "execution_count": null,
   "id": "13774d80-c2c8-4a1b-8267-37501c93b0a7",
   "metadata": {},
   "outputs": [],
   "source": [
    "def has_33(lis):\n",
    "    "
   ]
  },
  {
   "cell_type": "code",
   "execution_count": 127,
   "id": "4fd4b734-94d3-4a5b-acfb-9187f0c7c036",
   "metadata": {},
   "outputs": [
    {
     "name": "stdout",
     "output_type": "stream",
     "text": [
      "False\n",
      "False\n",
      "True\n",
      "True\n"
     ]
    }
   ],
   "source": [
    "lis = [1,2,3,3]\n",
    "for i in lis:\n",
    "    if i == 3:\n",
    "        print(True)\n",
    "    else:\n",
    "        print(False)"
   ]
  },
  {
   "cell_type": "code",
   "execution_count": null,
   "id": "0fa48e3e-0a20-4c70-9cb1-83131a5e0f8e",
   "metadata": {},
   "outputs": [],
   "source": []
  }
 ],
 "metadata": {
  "kernelspec": {
   "display_name": "Python 3 (ipykernel)",
   "language": "python",
   "name": "python3"
  },
  "language_info": {
   "codemirror_mode": {
    "name": "ipython",
    "version": 3
   },
   "file_extension": ".py",
   "mimetype": "text/x-python",
   "name": "python",
   "nbconvert_exporter": "python",
   "pygments_lexer": "ipython3",
   "version": "3.10.8"
  }
 },
 "nbformat": 4,
 "nbformat_minor": 5
}
