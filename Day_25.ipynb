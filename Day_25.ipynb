{
 "cells": [
  {
   "cell_type": "markdown",
   "id": "a85f1fae-d697-401f-8b3c-f2f4559d86d7",
   "metadata": {},
   "source": [
    "# Day_25\n",
    "## Topics going to be cover in Day 24\n",
    "- Revision of topics:\n",
    "    - OOPs\n",
    "    - Genrator Functions and *args and **kargs\n",
    "    - Attempted to solve a case"
   ]
  },
  {
   "cell_type": "markdown",
   "id": "cd39de0c-37bc-4d2c-a25b-bf68c608cd64",
   "metadata": {},
   "source": [
    "### Q1, Create a vehicle class with an init method having instance variables as name_of_vehicle, max_speed and average_of_vehicle."
   ]
  },
  {
   "cell_type": "code",
   "execution_count": 2,
   "id": "43a43ec8-7950-4b41-b165-4c17a53958d9",
   "metadata": {},
   "outputs": [],
   "source": [
    "class vehicle:\n",
    "    def __init__(self, name_of_vehicle, max_speed, average_of_vehicle):\n",
    "        self.name_of_vehicle = name_of_vehicle\n",
    "        self.max_speed = max_speed\n",
    "        self.average_of_vehicle = average_of_vehicle\n",
    "    def display(self):\n",
    "        return self.name_of_vehicle, self.max_speed, self.average_of_vehicle"
   ]
  },
  {
   "cell_type": "code",
   "execution_count": 3,
   "id": "473c69d5-df15-4e30-a1c0-f7fdec72f68a",
   "metadata": {},
   "outputs": [],
   "source": [
    "obj_1 = vehicle('Altroz', 600, 120)"
   ]
  },
  {
   "cell_type": "code",
   "execution_count": 4,
   "id": "6d043b1a-0b69-40fe-9cd4-e78a43349ca6",
   "metadata": {},
   "outputs": [
    {
     "data": {
      "text/plain": [
       "('Altroz', 600, 120)"
      ]
     },
     "execution_count": 4,
     "metadata": {},
     "output_type": "execute_result"
    }
   ],
   "source": [
    "obj_1.display()"
   ]
  },
  {
   "cell_type": "markdown",
   "id": "5708c43f-a9e9-4fa5-bff5-341be75dafc2",
   "metadata": {},
   "source": [
    "### Q2. Create a child class car from the vehicle class created in Que 1, which will inherit the vehicle class. Create a method named seating_capacity which takes capacity as an argument and returns the name of the vehicle and its seating capacity."
   ]
  },
  {
   "cell_type": "code",
   "execution_count": 5,
   "id": "7ac59201-e92c-4fce-93d7-cee69fb16e6a",
   "metadata": {},
   "outputs": [],
   "source": [
    "class car(vehicle):\n",
    "    def seating_capacity(self, capacity):\n",
    "        return f\"{self.name_of_vehicle} capacity is {capacity}\""
   ]
  },
  {
   "cell_type": "code",
   "execution_count": 6,
   "id": "3cec94c9-2197-416e-8525-7b98e84b4aa0",
   "metadata": {},
   "outputs": [
    {
     "name": "stdout",
     "output_type": "stream",
     "text": [
      "('Altroz', 600, 120)\n",
      "Altroz capacity is 6\n"
     ]
    }
   ],
   "source": [
    "c = car('Altroz', 600, 120)\n",
    "print(c.display())\n",
    "print(c.seating_capacity(6))"
   ]
  },
  {
   "cell_type": "markdown",
   "id": "6edd190a-fae9-4588-8b92-31bb5b3baaea",
   "metadata": {},
   "source": [
    "### Q3. What is multiple inheritance? Write a python code to demonstrate multiple inheritance."
   ]
  },
  {
   "cell_type": "raw",
   "id": "4f393c07-9b78-408a-9ae5-8daaab526c03",
   "metadata": {},
   "source": [
    "Ans :- Multiple inheritance in Python allows a class to inherit attributes and methods from multiple parent classes."
   ]
  },
  {
   "cell_type": "code",
   "execution_count": 7,
   "id": "dd869920-8965-4bc5-87c5-3fba6da83ce1",
   "metadata": {},
   "outputs": [],
   "source": [
    "class leng:\n",
    "    def __init__(self, l):\n",
    "        self.l = l\n",
    "\n",
    "class bre:\n",
    "    def __init__(self, b):\n",
    "        self.b = b\n",
    "\n",
    "class area(leng, bre):\n",
    "    def __init__(self, l, b):\n",
    "        leng.__init__(self, l)\n",
    "        bre.__init__(self, b)\n",
    "    def area_rec(self):\n",
    "        return self.l * self.b"
   ]
  },
  {
   "cell_type": "code",
   "execution_count": 8,
   "id": "ed194c19-4ff2-48a4-9e84-126ce53fe987",
   "metadata": {},
   "outputs": [],
   "source": [
    "length = leng(5)"
   ]
  },
  {
   "cell_type": "code",
   "execution_count": 9,
   "id": "00f276f1-79a5-4283-8202-0b8c53a11aa3",
   "metadata": {},
   "outputs": [],
   "source": [
    "breath = bre(5)"
   ]
  },
  {
   "cell_type": "code",
   "execution_count": 10,
   "id": "7182aa9b-792f-4c1a-96ae-efdadb0c719c",
   "metadata": {},
   "outputs": [],
   "source": [
    "obj = area(length.l, breath.b)"
   ]
  },
  {
   "cell_type": "code",
   "execution_count": 11,
   "id": "5829a955-1b4b-4715-9f10-72c5f8148079",
   "metadata": {},
   "outputs": [
    {
     "data": {
      "text/plain": [
       "25"
      ]
     },
     "execution_count": 11,
     "metadata": {},
     "output_type": "execute_result"
    }
   ],
   "source": [
    "obj.area_rec()"
   ]
  },
  {
   "cell_type": "markdown",
   "id": "f6e127ad-79e3-4834-af4b-6716afe663ed",
   "metadata": {},
   "source": [
    "### Q4. What are getter and setter in python? Create a class and create a getter and a setter method in this class."
   ]
  },
  {
   "cell_type": "markdown",
   "id": "92a10bfb-b07e-4f3b-b3b6-8986b37308b9",
   "metadata": {},
   "source": [
    "In Python, getters and setters are methods used to access and modify the attributes (also known as properties or instance variables) of a class. They provide a way to control the read and write operations on class attributes, allowing for encapsulation and data hiding.\n",
    "\n",
    "A getter is a method that retrieves the value of an attribute, while a setter is a method that sets the value of an attribute"
   ]
  },
  {
   "cell_type": "code",
   "execution_count": 12,
   "id": "6e1c6592-bb45-4a08-b24c-c38f58bda041",
   "metadata": {},
   "outputs": [],
   "source": [
    "class Circle:\n",
    "    def __init__(self, radius):\n",
    "        self._radius = radius  \n",
    "\n",
    "    def get_radius(self):\n",
    "        return self._radius\n",
    "\n",
    "    def set_radius(self, new_radius):\n",
    "        if new_radius >= 0:\n",
    "            self._radius = new_radius\n",
    "        else:\n",
    "            raise ValueError(\"Radius cannot be negative.\")"
   ]
  },
  {
   "cell_type": "code",
   "execution_count": 13,
   "id": "4037ef51-38f7-4ecc-bde6-72152e271ec7",
   "metadata": {},
   "outputs": [],
   "source": [
    "my_circle = Circle(5)"
   ]
  },
  {
   "cell_type": "code",
   "execution_count": 14,
   "id": "8de07b24-77ee-42e6-a02d-ebb6dc731369",
   "metadata": {},
   "outputs": [
    {
     "name": "stdout",
     "output_type": "stream",
     "text": [
      "5\n"
     ]
    }
   ],
   "source": [
    "print(my_circle.get_radius())"
   ]
  },
  {
   "cell_type": "code",
   "execution_count": 15,
   "id": "5b780cb2-c3d1-4ede-94c6-fe3c1aa6702a",
   "metadata": {},
   "outputs": [],
   "source": [
    "my_circle.set_radius(7)"
   ]
  },
  {
   "cell_type": "code",
   "execution_count": 16,
   "id": "6ef41a71-56fe-4937-8d75-60ab4ef5881a",
   "metadata": {},
   "outputs": [
    {
     "name": "stdout",
     "output_type": "stream",
     "text": [
      "7\n"
     ]
    }
   ],
   "source": [
    "print(my_circle.get_radius()) "
   ]
  },
  {
   "cell_type": "markdown",
   "id": "76f54b39-7e19-4669-b01b-227bc9524d44",
   "metadata": {},
   "source": [
    "## Problem Statement: Order Processing for an Online Store\n",
    "\n",
    "We are developing a program to process online store orders. Each order consists of customer information, item purchases, and additional details. Our goal is to create a set of functions to handle different aspects of order processing.\n",
    "\n",
    "Requirements:\n",
    "\n",
    "Define a function named process_customer_info that takes parameters name, email, and **kwargs to handle customer information. This function should print the customer's name, email, and any additional information passed as keyword arguments.\n",
    "\n",
    "Define a function named process_order_items that takes variable-length arguments *args to handle the items in the order. This function should print each item in the order.\n",
    "\n",
    "Define a function named calculate_total_amount that takes variable-length arguments *args to calculate the total amount of the order. This function should handle numeric arguments (integers or floats) and return the sum of all valid item prices. If any invalid item price is encountered, it should print an error message.\n",
    "\n",
    "Define a function named process_order that takes parameters customer_info, *items, and **kwargs to handle the complete order processing. This function should call the process_customer_info function to print customer information, call the process_order_items function to print the items in the order, retrieve the item prices from the kwargs dictionary, call the calculate_total_amount function to calculate the total amount, and finally, print a receipt containing the customer's name.\n",
    "\n",
    "Please ensure the function names and parameters match the specifications provided."
   ]
  },
  {
   "cell_type": "code",
   "execution_count": 17,
   "id": "e3bb955a-4299-4624-9314-344a60bc074a",
   "metadata": {},
   "outputs": [
    {
     "name": "stdout",
     "output_type": "stream",
     "text": [
      "Order processing initiated\n",
      "Processing customer info for John\n",
      "Email: john@gmail.com\n",
      "Additional information:\n",
      "phone: 9424669633\n",
      "Processing order items:\n",
      "Shirt\n",
      "Jeans\n",
      "Shoes\n",
      "Total amount: $53\n",
      "Order Process Completed\n",
      "---Receipt---\n",
      "Customer: John\n"
     ]
    }
   ],
   "source": [
    "def process_customer_info(name, email, **kwargs):\n",
    "    print(f\"Processing customer info for {name}\")\n",
    "    print(f\"Email: {email}\")\n",
    "    print(\"Additional information:\")\n",
    "\n",
    "    for k, v in kwargs.items():\n",
    "        print(f\"{k}: {v}\")\n",
    "\n",
    "\n",
    "def process_order_items(*args):\n",
    "    print(\"Processing order items:\")\n",
    "    for item in args:\n",
    "        print(item)\n",
    "\n",
    "\n",
    "def calculate_total_amount(*args):\n",
    "    total = 0\n",
    "    for arg in args:\n",
    "        if isinstance(arg, (int, float)):\n",
    "            total += arg\n",
    "        else:\n",
    "            print(f\"Invalid item price: {arg}\")\n",
    "    return total\n",
    "\n",
    "\n",
    "def process_order(customer_info, *items, **kwargs):\n",
    "    print(\"Order processing initiated\")\n",
    "    process_customer_info(**customer_info)\n",
    "    process_order_items(*items)\n",
    "\n",
    "    item_prices = kwargs.get(\"item_prices\")\n",
    "    total_amount = calculate_total_amount(*item_prices)\n",
    "    print(f\"Total amount: ${total_amount}\")\n",
    "    print(\"Order Process Completed\")\n",
    "\n",
    "    print(\"---Receipt---\")\n",
    "    print(f\"Customer: {customer_info['name']}\")\n",
    "\n",
    "\n",
    "customer_info = {\"name\": \"John\", \"email\": \"john@gmail.com\", \"phone\": \"9424669633\"}\n",
    "items = (\"Shirt\", \"Jeans\", \"Shoes\")\n",
    "order_details = {\"address\": \"xyz\", \"item_prices\": (14, 19, 20)}\n",
    "\n",
    "process_order(customer_info, *items, **order_details)\n"
   ]
  },
  {
   "cell_type": "code",
   "execution_count": null,
   "id": "053516de-0f40-4f5a-9ae2-8e55dc5a142e",
   "metadata": {},
   "outputs": [],
   "source": []
  },
  {
   "cell_type": "code",
   "execution_count": null,
   "id": "c21575a1-0512-4926-bbe3-a3b370f7695b",
   "metadata": {},
   "outputs": [],
   "source": []
  }
 ],
 "metadata": {
  "kernelspec": {
   "display_name": "Python 3 (ipykernel)",
   "language": "python",
   "name": "python3"
  },
  "language_info": {
   "codemirror_mode": {
    "name": "ipython",
    "version": 3
   },
   "file_extension": ".py",
   "mimetype": "text/x-python",
   "name": "python",
   "nbconvert_exporter": "python",
   "pygments_lexer": "ipython3",
   "version": "3.10.8"
  }
 },
 "nbformat": 4,
 "nbformat_minor": 5
}
