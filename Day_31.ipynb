{
 "cells": [
  {
   "cell_type": "markdown",
   "id": "fed0a416-8aa9-405a-b71b-f88c8af75a3c",
   "metadata": {},
   "source": [
    "# Day 31\n",
    "## Topic covered on Day 31:\n",
    "- Multithreading"
   ]
  },
  {
   "cell_type": "markdown",
   "id": "57534785-fdb0-4ac0-b689-b72ffb7ca391",
   "metadata": {},
   "source": [
    "# Multithreading"
   ]
  },
  {
   "cell_type": "code",
   "execution_count": 1,
   "id": "5acff98e-8336-4f91-95b8-f896eb3bc4a7",
   "metadata": {},
   "outputs": [],
   "source": [
    "import threading"
   ]
  },
  {
   "cell_type": "code",
   "execution_count": 2,
   "id": "fd6a97f7-7802-4a11-b2ed-70a00aa89d59",
   "metadata": {},
   "outputs": [],
   "source": [
    "def test(id):\n",
    "    print(\"Program starts %d\"%id)"
   ]
  },
  {
   "cell_type": "code",
   "execution_count": 3,
   "id": "b8a99303-b242-4bd6-9468-b7f195c0a319",
   "metadata": {},
   "outputs": [
    {
     "name": "stdout",
     "output_type": "stream",
     "text": [
      "Program starts 45\n"
     ]
    }
   ],
   "source": [
    "test(45)"
   ]
  },
  {
   "cell_type": "code",
   "execution_count": 4,
   "id": "51194a10-d5f7-418e-bf30-b722f23f5082",
   "metadata": {},
   "outputs": [],
   "source": [
    "thred = [threading.Thread(target=test, args=(i,) )for i in range(10)]"
   ]
  },
  {
   "cell_type": "code",
   "execution_count": 5,
   "id": "454bdc50-be6f-4c20-b30b-4106cf64dfab",
   "metadata": {},
   "outputs": [
    {
     "name": "stdout",
     "output_type": "stream",
     "text": [
      "Program starts 0\n",
      "Program starts 1\n",
      "Program starts 2\n",
      "Program starts 3\n",
      "Program starts 4\n",
      "Program starts 5\n",
      "Program starts 6\n",
      "Program starts 7\n",
      "Program starts 8\n",
      "Program starts 9\n"
     ]
    }
   ],
   "source": [
    "for t in thred:\n",
    "    t.start()"
   ]
  },
  {
   "cell_type": "code",
   "execution_count": 6,
   "id": "17108882-4758-4768-89e8-959ab9fdccb4",
   "metadata": {},
   "outputs": [
    {
     "data": {
      "text/plain": [
       "[0, 1, 2, 3, 4, 5, 6, 7, 8, 9]"
      ]
     },
     "execution_count": 6,
     "metadata": {},
     "output_type": "execute_result"
    }
   ],
   "source": [
    "list(range(10))"
   ]
  },
  {
   "cell_type": "code",
   "execution_count": 7,
   "id": "6d558ab4-b8f5-4d86-b3e6-ba911769bb19",
   "metadata": {},
   "outputs": [
    {
     "data": {
      "text/plain": [
       "[<Thread(Thread-5 (test), stopped 140065921558080)>,\n",
       " <Thread(Thread-6 (test), stopped 140065921558080)>,\n",
       " <Thread(Thread-7 (test), stopped 140065921558080)>,\n",
       " <Thread(Thread-8 (test), stopped 140065921558080)>,\n",
       " <Thread(Thread-9 (test), stopped 140065921558080)>,\n",
       " <Thread(Thread-10 (test), stopped 140065921558080)>,\n",
       " <Thread(Thread-11 (test), stopped 140065921558080)>,\n",
       " <Thread(Thread-12 (test), stopped 140065921558080)>,\n",
       " <Thread(Thread-13 (test), stopped 140065921558080)>,\n",
       " <Thread(Thread-14 (test), stopped 140065921558080)>]"
      ]
     },
     "execution_count": 7,
     "metadata": {},
     "output_type": "execute_result"
    }
   ],
   "source": [
    "thred"
   ]
  },
  {
   "cell_type": "code",
   "execution_count": 8,
   "id": "e469b67b-8b2f-4b16-84cb-100ec16a3aa7",
   "metadata": {},
   "outputs": [
    {
     "data": {
      "text/plain": [
       "140066471492928"
      ]
     },
     "execution_count": 8,
     "metadata": {},
     "output_type": "execute_result"
    }
   ],
   "source": [
    "id(thred)"
   ]
  },
  {
   "cell_type": "code",
   "execution_count": 9,
   "id": "a75e65fa-b4a8-49fe-a1eb-8219adc9a595",
   "metadata": {},
   "outputs": [],
   "source": [
    "# Storing multiple files in multipal file\n",
    "import threading\n",
    "import urllib.request\n",
    "\n",
    "def file_download(url, filename):\n",
    "     urllib.request.urlretrieve(url, filename)"
   ]
  },
  {
   "cell_type": "code",
   "execution_count": 10,
   "id": "bbc9fbd0-df2c-4342-bbea-f875364aa163",
   "metadata": {},
   "outputs": [],
   "source": [
    "file_download('https://github.com/itsfoss/text-files/blob/master/sherlock.txt', \"Ttest.txt\")"
   ]
  },
  {
   "cell_type": "code",
   "execution_count": 11,
   "id": "8b9170dc-2c12-4ce0-9784-a579255126f7",
   "metadata": {},
   "outputs": [],
   "source": [
    "url_list = ['https://github.com/itsfoss/text-files/blob/master/sherlock.txt', 'https://github.com/itsfoss/text-files/blob/master/agatha_complete.txt', 'https://github.com/itsfoss/text-files/blob/master/agatha.txt']"
   ]
  },
  {
   "cell_type": "code",
   "execution_count": 12,
   "id": "b5d1d7f5-7694-4fed-b59b-25a22bbd1dcb",
   "metadata": {},
   "outputs": [
    {
     "data": {
      "text/plain": [
       "['https://github.com/itsfoss/text-files/blob/master/sherlock.txt',\n",
       " 'https://github.com/itsfoss/text-files/blob/master/agatha_complete.txt',\n",
       " 'https://github.com/itsfoss/text-files/blob/master/agatha.txt']"
      ]
     },
     "execution_count": 12,
     "metadata": {},
     "output_type": "execute_result"
    }
   ],
   "source": [
    "url_list"
   ]
  },
  {
   "cell_type": "code",
   "execution_count": 13,
   "id": "04cd72e9-58da-4aaa-aada-de83ed24b849",
   "metadata": {},
   "outputs": [],
   "source": [
    "file_name_liat = ['data1.txt','data2.txt','data3.txt']"
   ]
  },
  {
   "cell_type": "code",
   "execution_count": 14,
   "id": "870c3d4a-d528-407b-b67f-15cb846c22f1",
   "metadata": {},
   "outputs": [],
   "source": [
    "the = [threading.Thread(target=file_download, args=(url_list[i],file_name_liat[i])) for i in range(len(url_list))]"
   ]
  },
  {
   "cell_type": "code",
   "execution_count": 15,
   "id": "71583304-6d78-4216-b59a-5f7118971abc",
   "metadata": {},
   "outputs": [
    {
     "data": {
      "text/plain": [
       "[<Thread(Thread-15 (file_download), initial)>,\n",
       " <Thread(Thread-16 (file_download), initial)>,\n",
       " <Thread(Thread-17 (file_download), initial)>]"
      ]
     },
     "execution_count": 15,
     "metadata": {},
     "output_type": "execute_result"
    }
   ],
   "source": [
    "the"
   ]
  },
  {
   "cell_type": "code",
   "execution_count": 16,
   "id": "d231c303-b3a9-4c8f-ac56-9281449ce3e4",
   "metadata": {},
   "outputs": [],
   "source": [
    "for t in the:\n",
    "    t.start()"
   ]
  },
  {
   "cell_type": "code",
   "execution_count": 17,
   "id": "52a87ac1-b868-4726-870f-c60614186e7c",
   "metadata": {},
   "outputs": [
    {
     "data": {
      "text/plain": [
       "[<Thread(Thread-15 (file_download), started 140065921558080)>,\n",
       " <Thread(Thread-16 (file_download), started 140065913165376)>,\n",
       " <Thread(Thread-17 (file_download), started 140065904772672)>]"
      ]
     },
     "execution_count": 17,
     "metadata": {},
     "output_type": "execute_result"
    }
   ],
   "source": [
    "the"
   ]
  },
  {
   "cell_type": "code",
   "execution_count": 24,
   "id": "16512af7-bbaa-47ab-8746-f4138e3e1f21",
   "metadata": {},
   "outputs": [],
   "source": [
    "import time"
   ]
  },
  {
   "cell_type": "code",
   "execution_count": 31,
   "id": "d42cae16-8e64-4919-a057-5c699586e1e6",
   "metadata": {},
   "outputs": [],
   "source": [
    "def test1(id):\n",
    "    for i in range(10):\n",
    "        print(\"test1 %d printing %d %s\"%(id,i,time.ctime()))\n",
    "        time.sleep(1)"
   ]
  },
  {
   "cell_type": "code",
   "execution_count": 32,
   "id": "34033ae1-f559-414d-9b8e-371887fa6759",
   "metadata": {},
   "outputs": [
    {
     "name": "stdout",
     "output_type": "stream",
     "text": [
      "test1 1 printing 0 Tue Jun 27 17:32:17 2023\n",
      "test1 1 printing 1 Tue Jun 27 17:32:18 2023\n",
      "test1 1 printing 2 Tue Jun 27 17:32:19 2023\n",
      "test1 1 printing 3 Tue Jun 27 17:32:20 2023\n",
      "test1 1 printing 4 Tue Jun 27 17:32:21 2023\n",
      "test1 1 printing 5 Tue Jun 27 17:32:22 2023\n",
      "test1 1 printing 6 Tue Jun 27 17:32:23 2023\n",
      "test1 1 printing 7 Tue Jun 27 17:32:24 2023\n",
      "test1 1 printing 8 Tue Jun 27 17:32:25 2023\n",
      "test1 1 printing 9 Tue Jun 27 17:32:26 2023\n"
     ]
    }
   ],
   "source": [
    "test1(1)"
   ]
  },
  {
   "cell_type": "code",
   "execution_count": 33,
   "id": "8489b01e-4f4a-4b45-ae92-9cc8078dc30f",
   "metadata": {},
   "outputs": [],
   "source": [
    "thread1 = [threading.Thread(target=test1,args=(i, )) for i in range(3)]"
   ]
  },
  {
   "cell_type": "code",
   "execution_count": 34,
   "id": "4ac71baa-5d15-4424-a808-f59b37e26840",
   "metadata": {},
   "outputs": [
    {
     "name": "stdout",
     "output_type": "stream",
     "text": [
      "test1 0 printing 0 Tue Jun 27 17:32:34 2023\n",
      "test1 1 printing 0 Tue Jun 27 17:32:34 2023\n",
      "test1 2 printing 0 Tue Jun 27 17:32:34 2023\n",
      "test1 0 printing 1 Tue Jun 27 17:32:35 2023test1 1 printing 1 Tue Jun 27 17:32:35 2023\n",
      "\n",
      "test1 2 printing 1 Tue Jun 27 17:32:35 2023\n",
      "test1 2 printing 2 Tue Jun 27 17:32:36 2023\n",
      "test1 0 printing 2 Tue Jun 27 17:32:36 2023\n",
      "test1 1 printing 2 Tue Jun 27 17:32:36 2023\n",
      "test1 2 printing 3 Tue Jun 27 17:32:37 2023\n",
      "test1 1 printing 3 Tue Jun 27 17:32:37 2023\n",
      "test1 0 printing 3 Tue Jun 27 17:32:37 2023\n",
      "test1 2 printing 4 Tue Jun 27 17:32:38 2023\n",
      "test1 0 printing 4 Tue Jun 27 17:32:38 2023\n",
      "test1 1 printing 4 Tue Jun 27 17:32:38 2023\n",
      "test1 2 printing 5 Tue Jun 27 17:32:39 2023\n",
      "test1 0 printing 5 Tue Jun 27 17:32:39 2023\n",
      "test1 1 printing 5 Tue Jun 27 17:32:39 2023\n",
      "test1 2 printing 6 Tue Jun 27 17:32:40 2023\n",
      "test1 1 printing 6 Tue Jun 27 17:32:40 2023\n",
      "test1 0 printing 6 Tue Jun 27 17:32:40 2023\n",
      "test1 2 printing 7 Tue Jun 27 17:32:41 2023\n",
      "test1 1 printing 7 Tue Jun 27 17:32:41 2023\n",
      "test1 0 printing 7 Tue Jun 27 17:32:41 2023\n",
      "test1 2 printing 8 Tue Jun 27 17:32:42 2023\n",
      "test1 1 printing 8 Tue Jun 27 17:32:42 2023\n",
      "test1 0 printing 8 Tue Jun 27 17:32:42 2023\n",
      "test1 2 printing 9 Tue Jun 27 17:32:43 2023\n",
      "test1 1 printing 9 Tue Jun 27 17:32:43 2023\n",
      "test1 0 printing 9 Tue Jun 27 17:32:43 2023\n"
     ]
    }
   ],
   "source": [
    "for i in thread1:\n",
    "    i.start()"
   ]
  },
  {
   "cell_type": "code",
   "execution_count": 39,
   "id": "214b649a-c805-4034-9765-aa6660de4029",
   "metadata": {},
   "outputs": [],
   "source": [
    "import threading\n",
    "\n",
    "shared_var = 0\n",
    "lock_var = threading.Lock()"
   ]
  },
  {
   "cell_type": "code",
   "execution_count": 60,
   "id": "b710afe8-279e-4a33-a3de-a47244b3cb0e",
   "metadata": {},
   "outputs": [],
   "source": [
    "def test2(id):\n",
    "    global shared_var\n",
    "    with lock_var:\n",
    "        shared_var = shared_var+1\n",
    "        print(\"test2 id %d has increased the shared variable by %d\"%(id, shared_var))\n",
    "        time.sleep(1)"
   ]
  },
  {
   "cell_type": "code",
   "execution_count": 61,
   "id": "f52c09af-13d7-4a14-a066-c47cfc9f7c1c",
   "metadata": {},
   "outputs": [],
   "source": [
    "ther3 = [threading.Thread(target=test2,args=(i,)) for i in range(3)]"
   ]
  },
  {
   "cell_type": "code",
   "execution_count": 62,
   "id": "f3b26381-6319-426c-bc3e-a75d1c1f0875",
   "metadata": {},
   "outputs": [
    {
     "data": {
      "text/plain": [
       "[<Thread(Thread-42 (test2), initial)>,\n",
       " <Thread(Thread-43 (test2), initial)>,\n",
       " <Thread(Thread-44 (test2), initial)>]"
      ]
     },
     "execution_count": 62,
     "metadata": {},
     "output_type": "execute_result"
    }
   ],
   "source": [
    "ther3"
   ]
  },
  {
   "cell_type": "code",
   "execution_count": 63,
   "id": "22a4a9c8-c0c3-4b83-a56b-6678eb272cdb",
   "metadata": {},
   "outputs": [
    {
     "name": "stdout",
     "output_type": "stream",
     "text": [
      "test2 id 0 has increased the shared variable by 16\n",
      "test2 id 1 has increased the shared variable by 17\n",
      "test2 id 2 has increased the shared variable by 18\n"
     ]
    }
   ],
   "source": [
    "for t in ther3:\n",
    "    t.start()"
   ]
  },
  {
   "cell_type": "code",
   "execution_count": null,
   "id": "ec5dc568-d044-446b-a7c4-5f25af0944fc",
   "metadata": {},
   "outputs": [],
   "source": []
  }
 ],
 "metadata": {
  "kernelspec": {
   "display_name": "Python 3 (ipykernel)",
   "language": "python",
   "name": "python3"
  },
  "language_info": {
   "codemirror_mode": {
    "name": "ipython",
    "version": 3
   },
   "file_extension": ".py",
   "mimetype": "text/x-python",
   "name": "python",
   "nbconvert_exporter": "python",
   "pygments_lexer": "ipython3",
   "version": "3.10.8"
  }
 },
 "nbformat": 4,
 "nbformat_minor": 5
}
