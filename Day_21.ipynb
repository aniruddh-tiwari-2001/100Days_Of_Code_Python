{
 "cells": [
  {
   "cell_type": "markdown",
   "id": "a1e75c3a-cc43-4ce7-9e39-8e8b9d8907fb",
   "metadata": {},
   "source": [
    "# Day 21"
   ]
  },
  {
   "cell_type": "code",
   "execution_count": null,
   "id": "ae7bd876-3f85-4d80-8476-cbfcb519af64",
   "metadata": {},
   "outputs": [],
   "source": []
  },
  {
   "cell_type": "markdown",
   "id": "09644cd0-c0c5-451e-850a-23c82c650fb5",
   "metadata": {},
   "source": [
    "## Problem 1:\n",
    "\n",
    "Chef has three water bottles. At any point, if at least two of them are empty, she will fill them up. But if at most one bottle is empty, she will wait and not fill them up now.\n",
    "\n",
    "You are given three integers B1, B2, and B3. B1 denotes whether the first bottle is full or empty (1 for full, 0 for empty). Similarly, B2 denotes the status of the second bottle, and B3 denotes the status of the third bottle.\n",
    "\n",
    "Output \"Water filling time\" if Chef has to fill the bottles now. If not, output \"Not now\".\n",
    "\n",
    "Input Format:\n",
    "The first line of input contains a single integer T, denoting the number of test cases.\n",
    "Each of the next T lines contains three space-separated integers: B1, B2, B3.\n",
    "\n",
    "Output Format:\n",
    "For each test case, output on a new line either \"Water filling time\" or \"Not now\".\n",
    "\n",
    "Constraints:\n",
    "1 ≤ T ≤ 1000\n",
    "B1, B2, B3 are either 0 or 1."
   ]
  },
  {
   "cell_type": "code",
   "execution_count": 1,
   "id": "30a81c13-ea76-47f9-9684-25f1f24b5a3a",
   "metadata": {},
   "outputs": [
    {
     "name": "stdin",
     "output_type": "stream",
     "text": [
      " 5\n",
      " 0 0 0\n"
     ]
    },
    {
     "name": "stdout",
     "output_type": "stream",
     "text": [
      "Water filling time\n"
     ]
    },
    {
     "name": "stdin",
     "output_type": "stream",
     "text": [
      " 1 1 1 \n"
     ]
    },
    {
     "name": "stdout",
     "output_type": "stream",
     "text": [
      "Not now\n"
     ]
    },
    {
     "name": "stdin",
     "output_type": "stream",
     "text": [
      " 1 1 0 \n"
     ]
    },
    {
     "name": "stdout",
     "output_type": "stream",
     "text": [
      "Not now\n"
     ]
    },
    {
     "name": "stdin",
     "output_type": "stream",
     "text": [
      " 0 1 0\n"
     ]
    },
    {
     "name": "stdout",
     "output_type": "stream",
     "text": [
      "Water filling time\n"
     ]
    },
    {
     "name": "stdin",
     "output_type": "stream",
     "text": [
      " 0 1 1\n"
     ]
    },
    {
     "name": "stdout",
     "output_type": "stream",
     "text": [
      "Not now\n"
     ]
    }
   ],
   "source": [
    "# cook your dish here\n",
    "t = int(input())\n",
    "for i in range(t):\n",
    "    B1,B2,B3 = map(int,input().split())\n",
    "    x = B1+B2+B3\n",
    "    if x>=2:\n",
    "        print(\"Not now\")\n",
    "    else:\n",
    "        print(\"Water filling time\")\n"
   ]
  },
  {
   "cell_type": "markdown",
   "id": "33c35386-86c9-4316-972e-3ca903aaff82",
   "metadata": {},
   "source": [
    "## Problem 2:\n",
    "\n",
    "In Chefland, a valid phone number consists of 5 digits with no leading zeros. For example, 98765, 10000, 98765, and 71023 are valid phone numbers, while 04123, 9231, 04123,9231, and 872310 are not.\n",
    "\n",
    "Chef went to a store and purchased N items, where the cost of each item is X. Find out whether the total bill is equivalent to a valid phone number.\n",
    "\n",
    "Input Format:\n",
    "The first line of input contains a single integer T, denoting the number of test cases.\n",
    "Each of the next T lines contains two space-separated integers: N and X, representing the number of items Chef bought and the cost per item.\n",
    "\n",
    "Output Format:\n",
    "For each test case, output on a new line \"YES\" if the total bill is equivalent to a valid phone number, and \"NO\" otherwise. The output is case-insensitive.\n",
    "\n",
    "Constraints:\n",
    "\n",
    "1 ≤ T ≤ 100\n",
    "\n",
    "1 ≤ N, X ≤ 1000"
   ]
  },
  {
   "cell_type": "code",
   "execution_count": 2,
   "id": "f4716cbc-232d-4bcb-9d52-b5d5c04e0dd6",
   "metadata": {},
   "outputs": [
    {
     "name": "stdin",
     "output_type": "stream",
     "text": [
      " 4\n",
      " 25 785\n"
     ]
    },
    {
     "name": "stdout",
     "output_type": "stream",
     "text": [
      "YES\n"
     ]
    },
    {
     "name": "stdin",
     "output_type": "stream",
     "text": [
      " 402 11\n"
     ]
    },
    {
     "name": "stdout",
     "output_type": "stream",
     "text": [
      "NO\n"
     ]
    },
    {
     "name": "stdin",
     "output_type": "stream",
     "text": [
      " 100 100\n"
     ]
    },
    {
     "name": "stdout",
     "output_type": "stream",
     "text": [
      "YES\n"
     ]
    },
    {
     "name": "stdin",
     "output_type": "stream",
     "text": [
      " 333 333\n"
     ]
    },
    {
     "name": "stdout",
     "output_type": "stream",
     "text": [
      "NO\n"
     ]
    }
   ],
   "source": [
    "# cook your dish here\n",
    "t = int(input())\n",
    "for i in range(t):\n",
    "    n,x = map(int,input().split())\n",
    "    y = n*x\n",
    "    z = str(y)\n",
    "    if len(z) ==5:\n",
    "        print(\"YES\")\n",
    "    else:\n",
    "        print(\"NO\")\n",
    "    "
   ]
  },
  {
   "cell_type": "markdown",
   "id": "32e9f7be-a892-43b2-ac7d-aaac5821cebf",
   "metadata": {},
   "source": [
    "## Problem 3:\n",
    "\n",
    "Chef owns a car that can run 15 kilometers using 1 liter of petrol. He wants to attend a programming camp at DAIICT.\n",
    "\n",
    "X liters of petrol are present in Chef's car. The distance between his house and DAIICT is Y kilometers. Determine whether Chef can attend the event and return to his home with the given amount of petrol.\n",
    "\n",
    "Note: Chef has to return back home, so the total distance to be covered would be 2 * Y.\n",
    "\n",
    "Input Format:\n",
    "The first line of input contains a single integer T, denoting the number of test cases.\n",
    "Each test case consists of two space-separated integers X and Y, representing the amount of petrol in liters and the distance between Chef's house and DAIICT in kilometers, respectively.\n",
    "\n",
    "Output Format:\n",
    "For each test case, print \"YES\" if it is possible for the Chef to attend the event and return home, else print \"NO\".\n",
    "\n",
    "The output is case-insensitive. That is, the strings \"YES\", \"yes\", \"YeS\", and \"yES\" will be treated as equivalent.\n",
    "\n",
    "Constraints:\n",
    "1 ≤ T ≤ 1000\n",
    "1 ≤ X, Y ≤ 1000"
   ]
  },
  {
   "cell_type": "code",
   "execution_count": 12,
   "id": "61582469-91d5-4f3b-a66b-ae72b8f4ba53",
   "metadata": {},
   "outputs": [
    {
     "name": "stdin",
     "output_type": "stream",
     "text": [
      " 1\n",
      " 15 14\n"
     ]
    },
    {
     "name": "stdout",
     "output_type": "stream",
     "text": [
      "YES\n"
     ]
    }
   ],
   "source": [
    "# cook your dish here\n",
    "t = int(input())\n",
    "for i in range(t):\n",
    "    x,y = map(int, input().split())\n",
    "    if (15*x)>=(y*2):\n",
    "        print(\"YES\")\n",
    "    else:\n",
    "        print(\"NO\")"
   ]
  },
  {
   "cell_type": "markdown",
   "id": "a2f89170-f53f-400e-9b56-f3cda5cf0fd2",
   "metadata": {},
   "source": [
    "## Problem 4:\n",
    "\n",
    "Chef bought car insurance with the following policy:\n",
    "\n",
    "The maximum rebatable amount for any damage is Rs X lakhs.\n",
    "If the amount required for repairing the damage is ≤ X lakhs, that amount is rebated in full.\n",
    "Chef's car meets an accident and requires Rs Y lakhs for repairing.\n",
    "\n",
    "Determine the amount that will be rebated by the insurance company.\n",
    "\n",
    "Input Format:\n",
    "The first line of input contains a single integer T, denoting the number of test cases.\n",
    "Each test case consists of two space-separated integers X and Y, representing the maximum rebatable amount and the amount required for repairing the car, respectively.\n",
    "\n",
    "Output Format:\n",
    "For each test case, output the amount (in lakhs) that will be rebated by the insurance company.\n",
    "\n",
    "Constraints:\n",
    "\n",
    "1 ≤ T ≤ 1000\n",
    "1 ≤ X, Y ≤ 30"
   ]
  },
  {
   "cell_type": "code",
   "execution_count": null,
   "id": "03bf5b98-5802-48c0-a78f-57faf94317c1",
   "metadata": {},
   "outputs": [],
   "source": [
    "# cook your dish here\n",
    "t = int(input())\n",
    "for i in range(t):\n",
    "    x,y = map(int, input().split())\n",
    "    if x>=y:\n",
    "        print(y)\n",
    "    else:\n",
    "        print(x)"
   ]
  },
  {
   "cell_type": "markdown",
   "id": "adfd2a82-fd4d-4d4b-8371-80ff0d23f73e",
   "metadata": {},
   "source": [
    "## Polymorphism"
   ]
  },
  {
   "cell_type": "code",
   "execution_count": 1,
   "id": "0e951c64-cd6f-4718-9c37-09233882a789",
   "metadata": {},
   "outputs": [],
   "source": [
    "def test(a,b):\n",
    "    return a+b"
   ]
  },
  {
   "cell_type": "code",
   "execution_count": 2,
   "id": "8b0287eb-4621-47f1-b93a-b7e8f5f8b733",
   "metadata": {},
   "outputs": [
    {
     "data": {
      "text/plain": [
       "7"
      ]
     },
     "execution_count": 2,
     "metadata": {},
     "output_type": "execute_result"
    }
   ],
   "source": [
    "test(3,4)"
   ]
  },
  {
   "cell_type": "code",
   "execution_count": 3,
   "id": "e927a94a-9633-4eab-b8ec-4e45dfe1a340",
   "metadata": {},
   "outputs": [
    {
     "data": {
      "text/plain": [
       "'Aniruddh Tiwari '"
      ]
     },
     "execution_count": 3,
     "metadata": {},
     "output_type": "execute_result"
    }
   ],
   "source": [
    "test(\"Aniruddh \", \"Tiwari \")"
   ]
  },
  {
   "cell_type": "code",
   "execution_count": 4,
   "id": "248c1042-b627-4381-933e-5c6082d974d7",
   "metadata": {},
   "outputs": [
    {
     "data": {
      "text/plain": [
       "[1, 2, 4, 5, 6, 2, 3, 4, 5, 67, 8]"
      ]
     },
     "execution_count": 4,
     "metadata": {},
     "output_type": "execute_result"
    }
   ],
   "source": [
    "test([1,2,4,5,6], [2,3,4,5,67,8])"
   ]
  },
  {
   "cell_type": "code",
   "execution_count": 5,
   "id": "f911cda1-1a9c-44ba-8e62-a4722b00b6d1",
   "metadata": {},
   "outputs": [],
   "source": [
    "class data_science:\n",
    "    def syllabus(self):\n",
    "        print(\"This is my Syllabus for data science master\")"
   ]
  },
  {
   "cell_type": "code",
   "execution_count": 6,
   "id": "5b2ffba9-4ae5-4247-bed4-da63dd76fd73",
   "metadata": {},
   "outputs": [],
   "source": [
    "class web_dev:\n",
    "    def syllabus(self):\n",
    "        print(\"This is my Syllabus for web dev\")"
   ]
  },
  {
   "cell_type": "code",
   "execution_count": 7,
   "id": "d8ee61db-ce32-44d6-9c90-8750b40b84cf",
   "metadata": {},
   "outputs": [],
   "source": [
    "def class_paecer(calss_obj):\n",
    "    for i in calss_obj:\n",
    "        i.syllabus()"
   ]
  },
  {
   "cell_type": "code",
   "execution_count": 8,
   "id": "2ae4cad7-ae3a-4d26-b62b-2ecfa1c86e6f",
   "metadata": {},
   "outputs": [],
   "source": [
    "data_science = data_science()"
   ]
  },
  {
   "cell_type": "code",
   "execution_count": 9,
   "id": "6799a7b7-d0df-4696-994b-aaa819071437",
   "metadata": {},
   "outputs": [],
   "source": [
    "web_dev = web_dev()"
   ]
  },
  {
   "cell_type": "code",
   "execution_count": 10,
   "id": "7f714712-70e0-4d7e-a998-8fce8713770b",
   "metadata": {},
   "outputs": [],
   "source": [
    "calss_obj = [data_science, web_dev]"
   ]
  },
  {
   "cell_type": "code",
   "execution_count": 11,
   "id": "965399b3-0df9-4d97-ac22-5e5c26cce548",
   "metadata": {},
   "outputs": [
    {
     "name": "stdout",
     "output_type": "stream",
     "text": [
      "This is my Syllabus for data science master\n",
      "This is my Syllabus for web dev\n"
     ]
    }
   ],
   "source": [
    "class_paecer(calss_obj)"
   ]
  },
  {
   "cell_type": "code",
   "execution_count": null,
   "id": "c7a80ccd-dc1a-42a0-8ff1-1d6731e982cc",
   "metadata": {},
   "outputs": [],
   "source": []
  }
 ],
 "metadata": {
  "kernelspec": {
   "display_name": "Python 3 (ipykernel)",
   "language": "python",
   "name": "python3"
  },
  "language_info": {
   "codemirror_mode": {
    "name": "ipython",
    "version": 3
   },
   "file_extension": ".py",
   "mimetype": "text/x-python",
   "name": "python",
   "nbconvert_exporter": "python",
   "pygments_lexer": "ipython3",
   "version": "3.10.8"
  }
 },
 "nbformat": 4,
 "nbformat_minor": 5
}
