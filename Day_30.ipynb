{
 "cells": [
  {
   "cell_type": "markdown",
   "id": "9a9328af-1292-4165-ade7-8dfee00390fa",
   "metadata": {},
   "source": [
    "# Day_30\n",
    "## Topics covered on Day 30:\n",
    "- Working With Files Oprations\n",
    "- Reading And Writing Files\n",
    "- Buffered Read And Write Other File Methods\n",
    "- Logging Debugger"
   ]
  },
  {
   "cell_type": "markdown",
   "id": "26df609c-5978-487e-a3c0-c68fd72af62c",
   "metadata": {},
   "source": [
    "# Exceptions Handling With Try Except"
   ]
  },
  {
   "cell_type": "code",
   "execution_count": 1,
   "id": "48a11891-bf93-41f8-8e7e-585ef0680b60",
   "metadata": {},
   "outputs": [],
   "source": [
    "a = 10"
   ]
  },
  {
   "cell_type": "code",
   "execution_count": 2,
   "id": "d4d6e041-c15a-42f6-ad1a-c41ae95ecfdb",
   "metadata": {},
   "outputs": [
    {
     "ename": "ZeroDivisionError",
     "evalue": "division by zero",
     "output_type": "error",
     "traceback": [
      "\u001b[0;31m---------------------------------------------------------------------------\u001b[0m",
      "\u001b[0;31mZeroDivisionError\u001b[0m                         Traceback (most recent call last)",
      "Cell \u001b[0;32mIn[2], line 1\u001b[0m\n\u001b[0;32m----> 1\u001b[0m \u001b[43ma\u001b[49m\u001b[38;5;241;43m/\u001b[39;49m\u001b[38;5;241;43m0\u001b[39;49m\n",
      "\u001b[0;31mZeroDivisionError\u001b[0m: division by zero"
     ]
    }
   ],
   "source": [
    "a/0"
   ]
  },
  {
   "cell_type": "code",
   "execution_count": 3,
   "id": "4455f570-53a6-4ef6-b85b-874d7c94119a",
   "metadata": {},
   "outputs": [
    {
     "name": "stdout",
     "output_type": "stream",
     "text": [
      "This is my print\n"
     ]
    }
   ],
   "source": [
    "f = open(\"test_e.txt\", \"r\")\n",
    "print(\"This is my print\")"
   ]
  },
  {
   "cell_type": "code",
   "execution_count": 4,
   "id": "9f74ab5c-30da-416d-bc29-d0503c111806",
   "metadata": {},
   "outputs": [
    {
     "name": "stdout",
     "output_type": "stream",
     "text": [
      "This is my except block name 'l' is not defined\n",
      "7\n"
     ]
    }
   ],
   "source": [
    "try :\n",
    "    f = open(\"test_e.txt\", \"r\")\n",
    "    for i in l:\n",
    "        print(a)\n",
    "except Exception as e:\n",
    "    print(\"This is my except block\",e)\n",
    "    a = 2+5\n",
    "    print(a)\n",
    "    "
   ]
  },
  {
   "cell_type": "code",
   "execution_count": 5,
   "id": "43042f7e-5cb8-464f-abc6-23799738bc8f",
   "metadata": {},
   "outputs": [],
   "source": [
    "try :\n",
    "    f = open(\"test_e.txt\", \"w\")\n",
    "    f.write(\"Write into my file\")\n",
    "    f.close()\n",
    "except Exception as e:\n",
    "    print(\"This is my except block\",e)"
   ]
  },
  {
   "cell_type": "code",
   "execution_count": 6,
   "id": "b4e2bd74-6bf5-4f3c-93be-557189170cf7",
   "metadata": {},
   "outputs": [
    {
     "name": "stdout",
     "output_type": "stream",
     "text": [
      "This will executed once your try will executed without error\n"
     ]
    }
   ],
   "source": [
    "try :\n",
    "    f = open(\"test_e.txt\", \"w\")\n",
    "    f.write(\"Write into my file 1\")\n",
    "except Exception as e:\n",
    "    print(\"This is my except block\",e)\n",
    "else:\n",
    "    f.close()\n",
    "    print(\"This will executed once your try will executed without error\")"
   ]
  },
  {
   "cell_type": "code",
   "execution_count": 7,
   "id": "1e06b5ba-9806-4aad-9d35-ecfb23d5e4ca",
   "metadata": {},
   "outputs": [
    {
     "name": "stdout",
     "output_type": "stream",
     "text": [
      "Finally will execute itself in any situatuion\n"
     ]
    }
   ],
   "source": [
    "try :\n",
    "    f = open(\"test_e2.txt\", \"w\")\n",
    "    f.write(\"Write into my file data buvkdsnh\")\n",
    "finally:\n",
    "    print(\"Finally will execute itself in any situatuion\")"
   ]
  },
  {
   "cell_type": "code",
   "execution_count": 8,
   "id": "2285493f-ef56-491b-849b-54c7a6955d10",
   "metadata": {},
   "outputs": [
    {
     "name": "stdout",
     "output_type": "stream",
     "text": [
      "Finally will execute itself in any situatuion\n"
     ]
    },
    {
     "ename": "FileNotFoundError",
     "evalue": "[Errno 2] No such file or directory: 'test_e5.txt'",
     "output_type": "error",
     "traceback": [
      "\u001b[0;31m---------------------------------------------------------------------------\u001b[0m",
      "\u001b[0;31mFileNotFoundError\u001b[0m                         Traceback (most recent call last)",
      "Cell \u001b[0;32mIn[8], line 2\u001b[0m\n\u001b[1;32m      1\u001b[0m \u001b[38;5;28;01mtry\u001b[39;00m :\n\u001b[0;32m----> 2\u001b[0m     f \u001b[38;5;241m=\u001b[39m \u001b[38;5;28;43mopen\u001b[39;49m\u001b[43m(\u001b[49m\u001b[38;5;124;43m\"\u001b[39;49m\u001b[38;5;124;43mtest_e5.txt\u001b[39;49m\u001b[38;5;124;43m\"\u001b[39;49m\u001b[43m,\u001b[49m\u001b[43m \u001b[49m\u001b[38;5;124;43m\"\u001b[39;49m\u001b[38;5;124;43mr\u001b[39;49m\u001b[38;5;124;43m\"\u001b[39;49m\u001b[43m)\u001b[49m\n\u001b[1;32m      3\u001b[0m     f\u001b[38;5;241m.\u001b[39mwrite(\u001b[38;5;124m\"\u001b[39m\u001b[38;5;124mWrite into my file data buvkdsnh\u001b[39m\u001b[38;5;124m\"\u001b[39m)\n\u001b[1;32m      4\u001b[0m \u001b[38;5;28;01mfinally\u001b[39;00m:\n",
      "File \u001b[0;32m/opt/conda/lib/python3.10/site-packages/IPython/core/interactiveshell.py:282\u001b[0m, in \u001b[0;36m_modified_open\u001b[0;34m(file, *args, **kwargs)\u001b[0m\n\u001b[1;32m    275\u001b[0m \u001b[38;5;28;01mif\u001b[39;00m file \u001b[38;5;129;01min\u001b[39;00m {\u001b[38;5;241m0\u001b[39m, \u001b[38;5;241m1\u001b[39m, \u001b[38;5;241m2\u001b[39m}:\n\u001b[1;32m    276\u001b[0m     \u001b[38;5;28;01mraise\u001b[39;00m \u001b[38;5;167;01mValueError\u001b[39;00m(\n\u001b[1;32m    277\u001b[0m         \u001b[38;5;124mf\u001b[39m\u001b[38;5;124m\"\u001b[39m\u001b[38;5;124mIPython won\u001b[39m\u001b[38;5;124m'\u001b[39m\u001b[38;5;124mt let you open fd=\u001b[39m\u001b[38;5;132;01m{\u001b[39;00mfile\u001b[38;5;132;01m}\u001b[39;00m\u001b[38;5;124m by default \u001b[39m\u001b[38;5;124m\"\u001b[39m\n\u001b[1;32m    278\u001b[0m         \u001b[38;5;124m\"\u001b[39m\u001b[38;5;124mas it is likely to crash IPython. If you know what you are doing, \u001b[39m\u001b[38;5;124m\"\u001b[39m\n\u001b[1;32m    279\u001b[0m         \u001b[38;5;124m\"\u001b[39m\u001b[38;5;124myou can use builtins\u001b[39m\u001b[38;5;124m'\u001b[39m\u001b[38;5;124m open.\u001b[39m\u001b[38;5;124m\"\u001b[39m\n\u001b[1;32m    280\u001b[0m     )\n\u001b[0;32m--> 282\u001b[0m \u001b[38;5;28;01mreturn\u001b[39;00m \u001b[43mio_open\u001b[49m\u001b[43m(\u001b[49m\u001b[43mfile\u001b[49m\u001b[43m,\u001b[49m\u001b[43m \u001b[49m\u001b[38;5;241;43m*\u001b[39;49m\u001b[43margs\u001b[49m\u001b[43m,\u001b[49m\u001b[43m \u001b[49m\u001b[38;5;241;43m*\u001b[39;49m\u001b[38;5;241;43m*\u001b[39;49m\u001b[43mkwargs\u001b[49m\u001b[43m)\u001b[49m\n",
      "\u001b[0;31mFileNotFoundError\u001b[0m: [Errno 2] No such file or directory: 'test_e5.txt'"
     ]
    }
   ],
   "source": [
    "try :\n",
    "    f = open(\"test_e5.txt\", \"r\")\n",
    "    f.write(\"Write into my file data buvkdsnh\")\n",
    "finally:\n",
    "    print(\"Finally will execute itself in any situatuion\")"
   ]
  },
  {
   "cell_type": "markdown",
   "id": "d017daee-682c-4aa2-9ef2-08faef543b00",
   "metadata": {},
   "source": [
    "# Custom Exception Handling"
   ]
  },
  {
   "cell_type": "code",
   "execution_count": 9,
   "id": "4f25d9ce-82be-4b90-bfab-f36a441abb7b",
   "metadata": {},
   "outputs": [
    {
     "name": "stdin",
     "output_type": "stream",
     "text": [
      "Enter Your Age:-  -12\n"
     ]
    }
   ],
   "source": [
    "age = int(input(\"Enter Your Age:- \"))"
   ]
  },
  {
   "cell_type": "code",
   "execution_count": 10,
   "id": "07a9f035-9092-4c63-97a5-008aad79e90e",
   "metadata": {},
   "outputs": [],
   "source": [
    "class validateage(Exception):\n",
    "    def __init__(self, msg):\n",
    "        self.msg = msg"
   ]
  },
  {
   "cell_type": "code",
   "execution_count": 11,
   "id": "e1c2baf1-0d6f-4641-ba7e-e139a4a2796e",
   "metadata": {},
   "outputs": [],
   "source": [
    "def validaeteage(age):\n",
    "    if age<0:\n",
    "        raise validateage(\"Entered age is negative\")\n",
    "    elif age>200:\n",
    "        raise validateage(\"Entered age is very very high\")\n",
    "    else:\n",
    "        print(\"Age is Vaild\")"
   ]
  },
  {
   "cell_type": "code",
   "execution_count": 12,
   "id": "29d1f4e6-efd5-46b6-bbc9-3a731d63e988",
   "metadata": {},
   "outputs": [
    {
     "name": "stdin",
     "output_type": "stream",
     "text": [
      "Enter Your Age:-  -12\n"
     ]
    },
    {
     "name": "stdout",
     "output_type": "stream",
     "text": [
      "Entered age is negative\n"
     ]
    }
   ],
   "source": [
    "try:\n",
    "    age = int(input(\"Enter Your Age:- \"))\n",
    "    validaeteage(age)\n",
    "    \n",
    "except validateage as e:\n",
    "    print(e)"
   ]
  },
  {
   "cell_type": "markdown",
   "id": "ebc8741c-fcfd-4798-b52a-283142dd93a2",
   "metadata": {},
   "source": [
    "# List Of General Use Exceptions"
   ]
  },
  {
   "cell_type": "code",
   "execution_count": 19,
   "id": "ef858ad4-bcb9-4522-934e-f7deade620a1",
   "metadata": {},
   "outputs": [
    {
     "name": "stdout",
     "output_type": "stream",
     "text": [
      "division by zero\n"
     ]
    }
   ],
   "source": [
    "try:\n",
    "    a = 10/0\n",
    "except ZeroDivisionError as e:\n",
    "    print(e)\n"
   ]
  },
  {
   "cell_type": "code",
   "execution_count": 20,
   "id": "cb6c3ea9-b417-48c3-8a84-df54342525fb",
   "metadata": {},
   "outputs": [
    {
     "name": "stdout",
     "output_type": "stream",
     "text": [
      "invalid literal for int() with base 10: 'Golu'\n"
     ]
    }
   ],
   "source": [
    "try :\n",
    "    int(\"Golu\")\n",
    "except (ValueError, TypeError) as e:\n",
    "    print(e)"
   ]
  },
  {
   "cell_type": "code",
   "execution_count": 21,
   "id": "4bf41908-c6a8-4188-be8b-e585ba2582a1",
   "metadata": {},
   "outputs": [
    {
     "name": "stdout",
     "output_type": "stream",
     "text": [
      "This will catch and error\n"
     ]
    }
   ],
   "source": [
    "try:\n",
    "    int(\"fds\")\n",
    "except:\n",
    "    print(\"This will catch and error\")"
   ]
  },
  {
   "cell_type": "code",
   "execution_count": 22,
   "id": "bd51c92d-cfc8-48f0-894e-73a054627f55",
   "metadata": {},
   "outputs": [
    {
     "name": "stdout",
     "output_type": "stream",
     "text": [
      "No module named 'sudh'\n"
     ]
    }
   ],
   "source": [
    "try:\n",
    "    import sudh\n",
    "except ImportError as e:\n",
    "    print(e)"
   ]
  },
  {
   "cell_type": "code",
   "execution_count": 25,
   "id": "79c37e85-3a01-48ee-bb38-b1e2220b03d6",
   "metadata": {},
   "outputs": [
    {
     "name": "stdout",
     "output_type": "stream",
     "text": [
      "'Key2'\n"
     ]
    }
   ],
   "source": [
    "try :\n",
    "    d = {\"key\":\"Goly\", 1:[231,34,564]}\n",
    "    print(d[\"Key2\"])\n",
    "except KeyError as e:\n",
    "    print(e)"
   ]
  },
  {
   "cell_type": "code",
   "execution_count": 27,
   "id": "510dac18-2640-4957-a9ae-5aa4d20bae90",
   "metadata": {},
   "outputs": [
    {
     "name": "stdout",
     "output_type": "stream",
     "text": [
      "'str' object has no attribute 'test'\n"
     ]
    }
   ],
   "source": [
    "try :\n",
    "    \"adsf\".test()\n",
    "except AttributeError as e:\n",
    "    print(e)"
   ]
  },
  {
   "cell_type": "code",
   "execution_count": 28,
   "id": "fa2e481f-dcf6-4813-b2ec-354eedfabf1c",
   "metadata": {},
   "outputs": [
    {
     "name": "stdout",
     "output_type": "stream",
     "text": [
      "list index out of range\n"
     ]
    }
   ],
   "source": [
    "try :\n",
    "    l = [34,45,54,54]\n",
    "    l[10]\n",
    "except IndexError as e:\n",
    "    print(e)"
   ]
  },
  {
   "cell_type": "code",
   "execution_count": 29,
   "id": "22fdcc3b-2475-4f1e-8406-8663daf58b57",
   "metadata": {},
   "outputs": [
    {
     "name": "stdout",
     "output_type": "stream",
     "text": [
      "unsupported operand type(s) for +: 'int' and 'str'\n"
     ]
    }
   ],
   "source": [
    "try :\n",
    "    123 + \"weadfsvc \"\n",
    "except TypeError as e:\n",
    "    print(e)"
   ]
  },
  {
   "cell_type": "code",
   "execution_count": 31,
   "id": "3d8e62c1-c35f-4ef0-9dd3-a616d4af6da9",
   "metadata": {},
   "outputs": [
    {
     "name": "stdout",
     "output_type": "stream",
     "text": [
      "[Errno 2] No such file or directory: 'test32.txt'\n"
     ]
    }
   ],
   "source": [
    "try :\n",
    "    with open(\"test32.txt\", \"r\") as f:\n",
    "        f.read()\n",
    "except FileNotFoundError as e:\n",
    "    print(e)"
   ]
  },
  {
   "cell_type": "code",
   "execution_count": 33,
   "id": "85458b54-49ba-4569-8178-1922af26f32b",
   "metadata": {},
   "outputs": [
    {
     "data": {
      "text/plain": [
       "['__cause__',\n",
       " '__class__',\n",
       " '__context__',\n",
       " '__delattr__',\n",
       " '__dict__',\n",
       " '__dir__',\n",
       " '__doc__',\n",
       " '__eq__',\n",
       " '__format__',\n",
       " '__ge__',\n",
       " '__getattribute__',\n",
       " '__gt__',\n",
       " '__hash__',\n",
       " '__init__',\n",
       " '__init_subclass__',\n",
       " '__le__',\n",
       " '__lt__',\n",
       " '__ne__',\n",
       " '__new__',\n",
       " '__reduce__',\n",
       " '__reduce_ex__',\n",
       " '__repr__',\n",
       " '__setattr__',\n",
       " '__setstate__',\n",
       " '__sizeof__',\n",
       " '__str__',\n",
       " '__subclasshook__',\n",
       " '__suppress_context__',\n",
       " '__traceback__',\n",
       " 'args',\n",
       " 'with_traceback']"
      ]
     },
     "execution_count": 33,
     "metadata": {},
     "output_type": "execute_result"
    }
   ],
   "source": [
    "dir(Exception)"
   ]
  },
  {
   "cell_type": "code",
   "execution_count": 36,
   "id": "9f5a5b44-3deb-4535-af97-a24e604797b8",
   "metadata": {},
   "outputs": [
    {
     "name": "stdout",
     "output_type": "stream",
     "text": [
      "[Errno 2] No such file or directory: 'test32.txt'\n"
     ]
    }
   ],
   "source": [
    "try :\n",
    "    with open(\"test32.txt\", \"r\") as f:\n",
    "        f.read()\n",
    "except Exception as e:\n",
    "    print(e)\n",
    "except FileNotFoundError as e:\n",
    "    print(e)"
   ]
  },
  {
   "cell_type": "code",
   "execution_count": 39,
   "id": "e9b4a499-2ac0-4b71-941a-ad67625c9440",
   "metadata": {},
   "outputs": [],
   "source": [
    "def test(file):\n",
    "    try :\n",
    "        with open(\"test32.txt\", \"r\") as f:\n",
    "            f.read()\n",
    "    except Exception as e:\n",
    "        print(e)\n",
    "    except FileNotFoundError as e:\n",
    "        print(e)"
   ]
  },
  {
   "cell_type": "markdown",
   "id": "4e376b8c-14ca-4d97-93a2-bec557638fc1",
   "metadata": {},
   "source": [
    "# Best Practice Exception Handling"
   ]
  },
  {
   "cell_type": "code",
   "execution_count": 43,
   "id": "edc01055-519c-476e-b313-4314702cee87",
   "metadata": {},
   "outputs": [
    {
     "name": "stdout",
     "output_type": "stream",
     "text": [
      "division by zero\n"
     ]
    }
   ],
   "source": [
    "# Use always a specific exception\n",
    "try:\n",
    "    10/0\n",
    "except Exception as e:\n",
    "    print(e)"
   ]
  },
  {
   "cell_type": "code",
   "execution_count": 45,
   "id": "f355c91d-b198-4f5e-a9ca-cdef0f68d73f",
   "metadata": {},
   "outputs": [
    {
     "name": "stdout",
     "output_type": "stream",
     "text": [
      "division by zero\n"
     ]
    }
   ],
   "source": [
    "# This is rigth way\n",
    "try:\n",
    "    10/0\n",
    "except ZeroDivisionError as e:\n",
    "    print(e)"
   ]
  },
  {
   "cell_type": "code",
   "execution_count": 46,
   "id": "853ddb4b-99dd-4da9-981c-56647e36fa2c",
   "metadata": {},
   "outputs": [
    {
     "name": "stdout",
     "output_type": "stream",
     "text": [
      "I am trying to hendal ZeroDivisionError division by zero\n"
     ]
    }
   ],
   "source": [
    "# print always a proper message\n",
    "try:\n",
    "    10/0\n",
    "except ZeroDivisionError as e:\n",
    "    print(\"I am trying to hendal ZeroDivisionError\",e)"
   ]
  },
  {
   "cell_type": "code",
   "execution_count": 54,
   "id": "c51898a7-f28e-45ce-861e-06f39ea8f093",
   "metadata": {},
   "outputs": [
    {
     "name": "stdout",
     "output_type": "stream",
     "text": [
      "I am trying to hendal ZeroDivisionError division by zero\n"
     ]
    }
   ],
   "source": [
    "# Always try to log you error\n",
    "import logging\n",
    "logging.basicConfig(filename = \"error.log\", level = logging.ERROR)\n",
    "try :\n",
    "    10/0\n",
    "except ZeroDivisionError as e:\n",
    "    print(\"I am trying to hendal ZeroDivisionError {}\".format(e))"
   ]
  },
  {
   "cell_type": "code",
   "execution_count": 55,
   "id": "46210e34-88c7-4052-9b08-401dfd894628",
   "metadata": {},
   "outputs": [],
   "source": [
    "# always avoid to write a multiple exception handling"
   ]
  },
  {
   "cell_type": "code",
   "execution_count": 57,
   "id": "9ad6ddcc-ff02-40c9-85e0-0d7e1c79a830",
   "metadata": {},
   "outputs": [],
   "source": [
    "# Document all the erro\n",
    "# Cleanup all the resources\n",
    "try :\n",
    "    with open(\"testt.txt\", \"w\") as f:\n",
    "        f.write(\"THis is my data\")\n",
    "except FileNotFoundError as e:\n",
    "    logging.error(\"I am handling file not found {}\".format(e))\n",
    "finally:\n",
    "    f.close()"
   ]
  },
  {
   "cell_type": "code",
   "execution_count": null,
   "id": "05a409ef-02f4-451b-ad06-3151dd1d582f",
   "metadata": {},
   "outputs": [],
   "source": []
  }
 ],
 "metadata": {
  "kernelspec": {
   "display_name": "Python 3 (ipykernel)",
   "language": "python",
   "name": "python3"
  },
  "language_info": {
   "codemirror_mode": {
    "name": "ipython",
    "version": 3
   },
   "file_extension": ".py",
   "mimetype": "text/x-python",
   "name": "python",
   "nbconvert_exporter": "python",
   "pygments_lexer": "ipython3",
   "version": "3.10.8"
  }
 },
 "nbformat": 4,
 "nbformat_minor": 5
}
