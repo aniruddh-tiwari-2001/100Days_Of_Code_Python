{
 "cells": [
  {
   "cell_type": "markdown",
   "id": "7e46c9f5-592a-4699-b084-8fb4123dad65",
   "metadata": {},
   "source": [
    "# Day_26\n",
    "## Topics going to be cover in Day 26\n",
    "- Decorators\n",
    "- Class Methods\n",
    "- Static Method"
   ]
  },
  {
   "cell_type": "markdown",
   "id": "ab60bb8e-9b38-459d-844c-31f05e8ec035",
   "metadata": {},
   "source": [
    "## Decorators"
   ]
  },
  {
   "cell_type": "code",
   "execution_count": 1,
   "id": "d861f712-c840-4d15-93ab-e6cfa9526b71",
   "metadata": {},
   "outputs": [],
   "source": [
    "def test():\n",
    "    print(\"This is the start my function\")\n",
    "    print(\"This is my function\")\n",
    "    print(4+5)\n",
    "    print(\"This is the end my function\")"
   ]
  },
  {
   "cell_type": "code",
   "execution_count": 2,
   "id": "af539a03-a2f0-4bf4-ba41-68f6b7a5c8fe",
   "metadata": {},
   "outputs": [
    {
     "name": "stdout",
     "output_type": "stream",
     "text": [
      "This is the start my function\n",
      "This is my function\n",
      "9\n",
      "This is the end my function\n"
     ]
    }
   ],
   "source": [
    "test()"
   ]
  },
  {
   "cell_type": "code",
   "execution_count": 3,
   "id": "7b763400-0916-4e8e-9fa3-d726bfa6f803",
   "metadata": {},
   "outputs": [],
   "source": [
    "def decorate(func):\n",
    "    def inner_dec():\n",
    "        print(\"This is the start my function\")\n",
    "        func()\n",
    "        print(\"This is the end my function\")\n",
    "    return inner_dec"
   ]
  },
  {
   "cell_type": "code",
   "execution_count": 4,
   "id": "a8d8082a-7b46-41f2-9c07-51366a824b6f",
   "metadata": {},
   "outputs": [],
   "source": [
    "@decorate\n",
    "def test():\n",
    "    print(6+7)"
   ]
  },
  {
   "cell_type": "code",
   "execution_count": 5,
   "id": "591f8d8a-d6f4-4409-9917-af0e735973f7",
   "metadata": {},
   "outputs": [
    {
     "name": "stdout",
     "output_type": "stream",
     "text": [
      "This is the start my function\n",
      "13\n",
      "This is the end my function\n"
     ]
    }
   ],
   "source": [
    "test()"
   ]
  },
  {
   "cell_type": "code",
   "execution_count": 6,
   "id": "fe86eee0-616b-405d-bdb5-515d656efb28",
   "metadata": {},
   "outputs": [],
   "source": [
    "import time \n",
    "\n",
    "def timer_test(func):\n",
    "    def timer_test_inner():\n",
    "        start = time.time()\n",
    "        func()\n",
    "        end = time.time()\n",
    "        print(end-start)\n",
    "    return timer_test_inner\n",
    "    "
   ]
  },
  {
   "cell_type": "code",
   "execution_count": 7,
   "id": "ee9e665c-7350-482b-bfce-56f330b516f0",
   "metadata": {},
   "outputs": [],
   "source": [
    "def test2():\n",
    "    print(123+54)"
   ]
  },
  {
   "cell_type": "code",
   "execution_count": 8,
   "id": "75ba9370-e10e-4ed9-9eb0-b5042c9f4fe2",
   "metadata": {},
   "outputs": [
    {
     "name": "stdout",
     "output_type": "stream",
     "text": [
      "177\n"
     ]
    }
   ],
   "source": [
    "test2()"
   ]
  },
  {
   "cell_type": "code",
   "execution_count": 9,
   "id": "bec68631-66c9-4135-a252-01d798ac6926",
   "metadata": {},
   "outputs": [],
   "source": [
    "@timer_test\n",
    "def test2():\n",
    "    print(123+54)"
   ]
  },
  {
   "cell_type": "code",
   "execution_count": 10,
   "id": "60b935b0-ba53-40db-9794-2e7d148c8f36",
   "metadata": {},
   "outputs": [
    {
     "name": "stdout",
     "output_type": "stream",
     "text": [
      "177\n",
      "4.482269287109375e-05\n"
     ]
    }
   ],
   "source": [
    "test2()"
   ]
  },
  {
   "cell_type": "code",
   "execution_count": 11,
   "id": "20e6b07f-a0b9-4751-8485-84246bcc8e09",
   "metadata": {},
   "outputs": [],
   "source": [
    "@timer_test\n",
    "def test3():\n",
    "    for i in range(100000000):\n",
    "        pass"
   ]
  },
  {
   "cell_type": "code",
   "execution_count": 12,
   "id": "46ee3b9c-7728-40c3-8558-61ce89579511",
   "metadata": {},
   "outputs": [
    {
     "name": "stdout",
     "output_type": "stream",
     "text": [
      "2.077929973602295\n"
     ]
    }
   ],
   "source": [
    "test3()"
   ]
  },
  {
   "cell_type": "markdown",
   "id": "b1891bc3-26e2-4db4-81d0-13c2c1e1e6a1",
   "metadata": {},
   "source": [
    "## Class Methods\n",
    "using class method we dont need to create a object to access the constractor varibles"
   ]
  },
  {
   "cell_type": "code",
   "execution_count": 13,
   "id": "1dcca091-7fe0-4795-ab7e-ef469156da18",
   "metadata": {},
   "outputs": [],
   "source": [
    "class pwskills:\n",
    "    \n",
    "    def __init__(self, name, email):\n",
    "        self.name = name\n",
    "        self.email = email\n",
    "    \n",
    "    def students_details(self):\n",
    "        print(self.name, self.email)"
   ]
  },
  {
   "cell_type": "code",
   "execution_count": 14,
   "id": "d3682425-5e4f-4fd8-939d-053554680eec",
   "metadata": {},
   "outputs": [],
   "source": [
    "pw = pwskills('Aniruddh', 'aniruddh@gmail.com')"
   ]
  },
  {
   "cell_type": "code",
   "execution_count": 15,
   "id": "a355551b-232a-46ec-b74d-55b744b74758",
   "metadata": {},
   "outputs": [
    {
     "name": "stdout",
     "output_type": "stream",
     "text": [
      "Aniruddh aniruddh@gmail.com\n"
     ]
    }
   ],
   "source": [
    "pw.students_details()"
   ]
  },
  {
   "cell_type": "code",
   "execution_count": 16,
   "id": "c9bc007d-f260-43d0-ba40-e9176c256d1d",
   "metadata": {},
   "outputs": [
    {
     "data": {
      "text/plain": [
       "'Aniruddh'"
      ]
     },
     "execution_count": 16,
     "metadata": {},
     "output_type": "execute_result"
    }
   ],
   "source": [
    "pw.name"
   ]
  },
  {
   "cell_type": "code",
   "execution_count": 17,
   "id": "85232a9a-fd36-4ca0-aa8c-cfcc8256cc9e",
   "metadata": {},
   "outputs": [
    {
     "data": {
      "text/plain": [
       "'aniruddh@gmail.com'"
      ]
     },
     "execution_count": 17,
     "metadata": {},
     "output_type": "execute_result"
    }
   ],
   "source": [
    "pw.email"
   ]
  },
  {
   "cell_type": "code",
   "execution_count": 18,
   "id": "fb8a0c21-11c3-464d-9881-f64a0374dd62",
   "metadata": {},
   "outputs": [],
   "source": [
    "class pwskills1:\n",
    "    \n",
    "    def __init__(self, name, email):\n",
    "        self.name = name\n",
    "        self.email = email\n",
    "    @classmethod\n",
    "    def details(cls, name, email):\n",
    "        return cls(name, email)\n",
    "    \n",
    "    def students_details(self):\n",
    "        print(self.name, self.email)"
   ]
  },
  {
   "cell_type": "code",
   "execution_count": 19,
   "id": "3624295f-63d9-42d9-ab07-603a3eea9380",
   "metadata": {},
   "outputs": [],
   "source": [
    "pw1 = pwskills1.details('Golu', 'golu@gmail.com')"
   ]
  },
  {
   "cell_type": "code",
   "execution_count": 20,
   "id": "2f13dced-3a60-4e97-91f9-6804600582db",
   "metadata": {},
   "outputs": [
    {
     "data": {
      "text/plain": [
       "'Golu'"
      ]
     },
     "execution_count": 20,
     "metadata": {},
     "output_type": "execute_result"
    }
   ],
   "source": [
    "pw1.name"
   ]
  },
  {
   "cell_type": "code",
   "execution_count": 21,
   "id": "d3b3cfa7-9c7f-4b9b-9a36-77b73869826e",
   "metadata": {},
   "outputs": [
    {
     "name": "stdout",
     "output_type": "stream",
     "text": [
      "Golu golu@gmail.com\n"
     ]
    }
   ],
   "source": [
    "pw1.students_details()"
   ]
  },
  {
   "cell_type": "code",
   "execution_count": 22,
   "id": "cece26ab-14a7-4a42-a65d-b10075382ef1",
   "metadata": {},
   "outputs": [],
   "source": [
    "class pwskills2:\n",
    "    \n",
    "    mobile_number = 9424669633\n",
    "    \n",
    "    def __init__(self, name, email):\n",
    "        self.name = name\n",
    "        self.email = email\n",
    "    \n",
    "    @classmethod\n",
    "    def change_number(cls, mobile):\n",
    "        pwskills2.mobile_number = mobile\n",
    "        \n",
    "    @classmethod\n",
    "    def details(cls, name, email):\n",
    "        return cls(name, email)\n",
    "    \n",
    "    def students_details(self):\n",
    "        print(self.name, self.email, pwskills2.mobile_number) # we are accessing the number in this way because the number is coming from the class not from the method"
   ]
  },
  {
   "cell_type": "code",
   "execution_count": 23,
   "id": "2e0cc7ab-7fb7-4add-b534-96bff585d2ec",
   "metadata": {},
   "outputs": [
    {
     "data": {
      "text/plain": [
       "9424669633"
      ]
     },
     "execution_count": 23,
     "metadata": {},
     "output_type": "execute_result"
    }
   ],
   "source": [
    "# old number\n",
    "pwskills2.mobile_number"
   ]
  },
  {
   "cell_type": "code",
   "execution_count": 24,
   "id": "bda4ac7f-5688-41ff-8bfb-003f3d167ab5",
   "metadata": {},
   "outputs": [],
   "source": [
    "# changing the number\n",
    "pwskills2.change_number(9424669644)"
   ]
  },
  {
   "cell_type": "code",
   "execution_count": 25,
   "id": "c06434ca-0bff-4277-80c3-6354a6d322b0",
   "metadata": {},
   "outputs": [
    {
     "data": {
      "text/plain": [
       "9424669644"
      ]
     },
     "execution_count": 25,
     "metadata": {},
     "output_type": "execute_result"
    }
   ],
   "source": [
    "# New number\n",
    "pwskills2.mobile_number"
   ]
  },
  {
   "cell_type": "code",
   "execution_count": 26,
   "id": "9d86a9fb-f34a-40eb-baa2-eccbb089133a",
   "metadata": {},
   "outputs": [],
   "source": [
    "# Using object\n",
    "pw_obj = pwskills2('Golu', 'golu@gmail.com')"
   ]
  },
  {
   "cell_type": "code",
   "execution_count": 27,
   "id": "635ff315-a918-427e-842b-396450e079df",
   "metadata": {},
   "outputs": [
    {
     "name": "stdout",
     "output_type": "stream",
     "text": [
      "Golu golu@gmail.com 9424669644\n"
     ]
    }
   ],
   "source": [
    "pw_obj.students_details()"
   ]
  },
  {
   "cell_type": "code",
   "execution_count": 28,
   "id": "95f9e286-635c-4a6d-87f4-0355bca9a49f",
   "metadata": {},
   "outputs": [],
   "source": [
    "# Using class method\n",
    "pw = pwskills2.details('Golu', 'golu@gmail.com')"
   ]
  },
  {
   "cell_type": "code",
   "execution_count": 29,
   "id": "3aaf0430-ace7-445b-94c6-fdaf4b4e87e8",
   "metadata": {},
   "outputs": [
    {
     "name": "stdout",
     "output_type": "stream",
     "text": [
      "Golu golu@gmail.com 9424669644\n"
     ]
    }
   ],
   "source": [
    "pw.students_details()"
   ]
  },
  {
   "cell_type": "code",
   "execution_count": 30,
   "id": "ecae06dc-2ce5-4833-8f29-8785b95f8e6c",
   "metadata": {},
   "outputs": [],
   "source": [
    "class pwskills3:\n",
    "    \n",
    "    mobile_number = 9424669633\n",
    "    \n",
    "    def __init__(self, name, email):\n",
    "        self.name = name\n",
    "        self.email = email\n",
    "    \n",
    "    @classmethod\n",
    "    def change_number(cls, mobile):\n",
    "        pwskills2.mobile_number = mobile\n",
    "        \n",
    "    @classmethod\n",
    "    def details(cls, name, email):\n",
    "        return cls(name, email)\n",
    "    \n",
    "    def students_details(self):\n",
    "        print(self.name, self.email, pwskills2.mobile_number) # we are accessing the number in this way because the number is coming from the class not from the method"
   ]
  },
  {
   "cell_type": "code",
   "execution_count": 31,
   "id": "fc222885-bdca-4cdc-be9b-e752fcbbb227",
   "metadata": {},
   "outputs": [],
   "source": [
    "# how to add external function as a part of class function\n",
    "def course_detals(cls, course_name):\n",
    "    print(\"Course Name is \", course_name)"
   ]
  },
  {
   "cell_type": "code",
   "execution_count": 32,
   "id": "97157764-1a10-4560-81e8-5c50a79e57c1",
   "metadata": {},
   "outputs": [],
   "source": [
    "pwskills3.course_detals = classmethod(course_detals)"
   ]
  },
  {
   "cell_type": "code",
   "execution_count": 33,
   "id": "22acebde-f2a0-4076-bb1b-95f537b9acae",
   "metadata": {},
   "outputs": [
    {
     "name": "stdout",
     "output_type": "stream",
     "text": [
      "Course Name is  Data Science Masters 2.0\n"
     ]
    }
   ],
   "source": [
    "pwskills3.course_detals(\"Data Science Masters 2.0\")"
   ]
  },
  {
   "cell_type": "code",
   "execution_count": 34,
   "id": "44cd7fb1-bf17-4f5f-a296-46d1763294fa",
   "metadata": {},
   "outputs": [],
   "source": [
    "def mentor(cls, list_of_mentor):\n",
    "    print(list_of_mentor)"
   ]
  },
  {
   "cell_type": "code",
   "execution_count": 35,
   "id": "0b96b3ee-9e4f-4ea6-b232-2601c23e934a",
   "metadata": {},
   "outputs": [],
   "source": [
    "pwskills3.mentor = classmethod(mentor)"
   ]
  },
  {
   "cell_type": "code",
   "execution_count": 36,
   "id": "94bbadf8-14b2-4e84-8e26-be5e99fcca07",
   "metadata": {},
   "outputs": [
    {
     "name": "stdout",
     "output_type": "stream",
     "text": [
      "['Sudhanshu', 'Krish']\n"
     ]
    }
   ],
   "source": [
    "pwskills3.mentor(['Sudhanshu', 'Krish'])"
   ]
  },
  {
   "cell_type": "code",
   "execution_count": 37,
   "id": "fbd518a9-2e21-4e51-8d7b-21e75890801d",
   "metadata": {},
   "outputs": [],
   "source": [
    "class pwskills4:\n",
    "    \n",
    "    mobile_number = 9424669633\n",
    "    \n",
    "    def __init__(self, name, email):\n",
    "        self.name = name\n",
    "        self.email = email\n",
    "    \n",
    "    @classmethod\n",
    "    def change_number(cls, mobile):\n",
    "        pwskills2.mobile_number = mobile\n",
    "        \n",
    "    @classmethod\n",
    "    def details(cls, name, email):\n",
    "        return cls(name, email)\n",
    "    \n",
    "    def students_details(self):\n",
    "        print(self.name, self.email, pwskills2.mobile_number) # we are accessing the number in this way because the number is coming from the class not from the method"
   ]
  },
  {
   "cell_type": "code",
   "execution_count": 38,
   "id": "060e43bf-dadf-4eb0-b7e0-efecf2c90b8f",
   "metadata": {},
   "outputs": [],
   "source": [
    "# How to delete a fuction\n",
    "del pwskills4.change_number"
   ]
  },
  {
   "cell_type": "code",
   "execution_count": 39,
   "id": "db7363a9-de7e-4c44-97c0-db0fe01e33a8",
   "metadata": {},
   "outputs": [
    {
     "ename": "AttributeError",
     "evalue": "type object 'pwskills4' has no attribute 'change_number'",
     "output_type": "error",
     "traceback": [
      "\u001b[0;31m---------------------------------------------------------------------------\u001b[0m",
      "\u001b[0;31mAttributeError\u001b[0m                            Traceback (most recent call last)",
      "Cell \u001b[0;32mIn[39], line 1\u001b[0m\n\u001b[0;32m----> 1\u001b[0m \u001b[43mpwskills4\u001b[49m\u001b[38;5;241;43m.\u001b[39;49m\u001b[43mchange_number\u001b[49m(\u001b[38;5;241m798465213\u001b[39m)\n",
      "\u001b[0;31mAttributeError\u001b[0m: type object 'pwskills4' has no attribute 'change_number'"
     ]
    }
   ],
   "source": [
    "pwskills4.change_number(798465213)"
   ]
  },
  {
   "cell_type": "code",
   "execution_count": 40,
   "id": "993661c9-80b8-4853-b2ba-795721ebd7da",
   "metadata": {},
   "outputs": [],
   "source": [
    "# Diffretn way to delete a function\n",
    "delattr(pwskills4,\"details\")"
   ]
  },
  {
   "cell_type": "code",
   "execution_count": 41,
   "id": "90ba6549-47cd-4e2a-acff-05d53d93b91b",
   "metadata": {},
   "outputs": [],
   "source": [
    "delattr(pwskills4, \"students_details\")"
   ]
  },
  {
   "cell_type": "code",
   "execution_count": 42,
   "id": "98068a70-0c53-49e7-8391-f8d2d024d915",
   "metadata": {},
   "outputs": [],
   "source": [
    "delattr(pwskills4, \"mobile_number\")"
   ]
  },
  {
   "cell_type": "markdown",
   "id": "a1b2cd78-7635-4f25-80a7-ed5f11c4c274",
   "metadata": {},
   "source": [
    "## Static Method"
   ]
  },
  {
   "cell_type": "code",
   "execution_count": 43,
   "id": "2f544f26-3d32-47fa-a75e-aad545930362",
   "metadata": {},
   "outputs": [],
   "source": [
    "class pwskills5:\n",
    "    def student_details(self, name, email, phone_number):\n",
    "        print(name, email, phone_number)"
   ]
  },
  {
   "cell_type": "code",
   "execution_count": 44,
   "id": "ace7f66f-eeba-4839-87c9-6ade3232784c",
   "metadata": {},
   "outputs": [],
   "source": [
    "pw = pwskills5()"
   ]
  },
  {
   "cell_type": "code",
   "execution_count": 45,
   "id": "b38782d0-0a59-4a7d-aac1-5092a57d8bce",
   "metadata": {},
   "outputs": [
    {
     "name": "stdout",
     "output_type": "stream",
     "text": [
      "Aniruddh aniruddh@gamil.com 9424669633\n"
     ]
    }
   ],
   "source": [
    "pw.student_details(\"Aniruddh\", \"aniruddh@gamil.com\", 9424669633)"
   ]
  },
  {
   "cell_type": "code",
   "execution_count": 46,
   "id": "12da1c9d-a6d7-4626-b18f-dcdf81bfe709",
   "metadata": {},
   "outputs": [],
   "source": [
    "class pwskills6:\n",
    "    def student_details(self, name, email, phone_number):\n",
    "        print(name, email, phone_number)\n",
    "    \n",
    "    @staticmethod ## This is the prefered way to use because it is a right way to reuse a function\n",
    "    def mentor_class(list_of_mentor):\n",
    "        print(list_of_mentor)\n",
    "        \n",
    "    def mentor(self,list_mentor): ## imprefered way\n",
    "        print(list_mentor)"
   ]
  },
  {
   "cell_type": "code",
   "execution_count": 47,
   "id": "b45ff809-3175-4ec1-b027-d2445047bc03",
   "metadata": {},
   "outputs": [
    {
     "name": "stdout",
     "output_type": "stream",
     "text": [
      "['sudhanshu', 'Krish']\n"
     ]
    }
   ],
   "source": [
    "pwskills6.mentor_class([\"sudhanshu\",\"Krish\"])"
   ]
  },
  {
   "cell_type": "code",
   "execution_count": 48,
   "id": "daaeb749-0435-475d-982e-b93ea6514e04",
   "metadata": {},
   "outputs": [],
   "source": [
    "stu1 = pwskills6()"
   ]
  },
  {
   "cell_type": "code",
   "execution_count": 49,
   "id": "a959d7a8-fc98-4fad-9df6-306354eb3bb8",
   "metadata": {},
   "outputs": [],
   "source": [
    "stu2 = pwskills6()"
   ]
  },
  {
   "cell_type": "code",
   "execution_count": 50,
   "id": "668bf8a6-c7a8-4375-8d01-127080f71447",
   "metadata": {},
   "outputs": [],
   "source": [
    "stu3 = pwskills6()"
   ]
  },
  {
   "cell_type": "code",
   "execution_count": 51,
   "id": "470b7f49-a352-47f7-88b9-044023a724dc",
   "metadata": {},
   "outputs": [],
   "source": [
    "stu4 = pwskills6()"
   ]
  },
  {
   "cell_type": "code",
   "execution_count": 52,
   "id": "52117076-1499-4ada-8034-1d2ceb8a9451",
   "metadata": {},
   "outputs": [
    {
     "name": "stdout",
     "output_type": "stream",
     "text": [
      "['sudhanshu', 'Krish']\n"
     ]
    }
   ],
   "source": [
    "stu1.mentor([\"sudhanshu\",\"Krish\"])"
   ]
  },
  {
   "cell_type": "code",
   "execution_count": 53,
   "id": "c5686da2-d6fd-40a0-9e01-679579db2be0",
   "metadata": {},
   "outputs": [],
   "source": [
    "## how to use a staticmethod inside a classmethod or as a intence method\n",
    "class pwskills7:\n",
    "    def student_details(self, name, email, phone_number):\n",
    "        print(name, email, phone_number)\n",
    "    \n",
    "    @staticmethod ## This is the prefered way to use because it is a right way to reuse a function\n",
    "    def mentor_class(list_of_mentor):\n",
    "        print(list_of_mentor)\n",
    "        \n",
    "    @classmethod\n",
    "    def class_name(cls):\n",
    "        cls.mentor_class(['sudhanshu', 'Krish'])\n",
    "        \n",
    "    def mentor(self,list_mentor): ## imprefered way\n",
    "        print(list_mentor)"
   ]
  },
  {
   "cell_type": "code",
   "execution_count": 54,
   "id": "51651b33-0712-4332-9631-12a5e2fe2029",
   "metadata": {},
   "outputs": [
    {
     "name": "stdout",
     "output_type": "stream",
     "text": [
      "['sudhanshu', 'Krish']\n"
     ]
    }
   ],
   "source": [
    "pwskills7.class_name()"
   ]
  },
  {
   "cell_type": "code",
   "execution_count": 55,
   "id": "341783d5-5a4f-464d-aee1-da7c207a1c4b",
   "metadata": {},
   "outputs": [],
   "source": [
    "## how to class one staticmethod inside another staticmethod\n",
    "class pwskills8:\n",
    "    def student_details(self, name, email, phone_number):\n",
    "        print(name, email, phone_number)\n",
    "        \n",
    "    \n",
    "    @staticmethod\n",
    "    def mentor_id(mail_id_mentor):\n",
    "        print(mail_id_mentor)\n",
    "        \n",
    "        \n",
    "    \n",
    "    @staticmethod \n",
    "    def mentor_class(list_of_mentor):\n",
    "        pwskills8.mentor_id(['sudhanshu@gmail.com', 'krish@gmail.com'])\n",
    "        print(list_of_mentor)\n",
    "        \n",
    "    @classmethod\n",
    "    def class_name(cls):\n",
    "        cls.mentor_class(['sudhanshu', 'Krish'])\n",
    "        \n",
    "    def mentor(self,list_mentor):\n",
    "        print(list_mentor)\n",
    "        self.mentor_class(['sudhanshu', 'Krish'])"
   ]
  },
  {
   "cell_type": "code",
   "execution_count": 56,
   "id": "33d33e1a-39f4-4cb9-bd29-dd52689f4076",
   "metadata": {},
   "outputs": [
    {
     "name": "stdout",
     "output_type": "stream",
     "text": [
      "['sudhanshu@gmail.com', 'krish@gmail.com']\n",
      "['sudhanshu', 'Krish']\n"
     ]
    }
   ],
   "source": [
    "pwskills8.mentor_class(['sudhanshu', 'Krish'])"
   ]
  },
  {
   "cell_type": "code",
   "execution_count": 57,
   "id": "c1e59eb2-0201-4e39-910e-4e50c51616e6",
   "metadata": {},
   "outputs": [
    {
     "name": "stdout",
     "output_type": "stream",
     "text": [
      "['sudhanshu@gmail.com', 'krish@gmail.com']\n",
      "['sudhanshu', 'Krish']\n"
     ]
    }
   ],
   "source": [
    "pwskills8.class_name()"
   ]
  },
  {
   "cell_type": "code",
   "execution_count": 58,
   "id": "05823fa3-502d-48c5-b4cd-e0f3569fe209",
   "metadata": {},
   "outputs": [],
   "source": [
    "pw = pwskills8()"
   ]
  },
  {
   "cell_type": "code",
   "execution_count": 59,
   "id": "0c87d125-93ba-4b8d-ad39-6e06e9f35dad",
   "metadata": {},
   "outputs": [
    {
     "name": "stdout",
     "output_type": "stream",
     "text": [
      "['sudhanshu', 'Krish']\n",
      "['sudhanshu@gmail.com', 'krish@gmail.com']\n",
      "['sudhanshu', 'Krish']\n"
     ]
    }
   ],
   "source": [
    "pw.mentor(['sudhanshu', 'Krish'])"
   ]
  }
 ],
 "metadata": {
  "kernelspec": {
   "display_name": "Python 3 (ipykernel)",
   "language": "python",
   "name": "python3"
  },
  "language_info": {
   "codemirror_mode": {
    "name": "ipython",
    "version": 3
   },
   "file_extension": ".py",
   "mimetype": "text/x-python",
   "name": "python",
   "nbconvert_exporter": "python",
   "pygments_lexer": "ipython3",
   "version": "3.10.8"
  }
 },
 "nbformat": 4,
 "nbformat_minor": 5
}
