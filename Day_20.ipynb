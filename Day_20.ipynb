{
 "cells": [
  {
   "cell_type": "markdown",
   "id": "843d249f-c29f-4f17-b0e1-addea0ab3baf",
   "metadata": {},
   "source": [
    "# Day 20"
   ]
  },
  {
   "cell_type": "markdown",
   "id": "185853a6-d6df-4ff9-84b8-978e8bb9a6ca",
   "metadata": {},
   "source": [
    "## Topic Coover in Day 20:\n",
    "- OOPS Concepts\n",
    "- Some CWC problems"
   ]
  },
  {
   "cell_type": "markdown",
   "id": "e3189d99-93fb-4902-acee-4d86cbf2c7de",
   "metadata": {},
   "source": [
    "### Problem 1:\n",
    "\n",
    "To access CRED programs, one needs to have a credit score of 750 or more. Given that the present credit score is X, determine if one can access CRED programs or not.\n",
    "\n",
    "If it is possible to access CRED programs, output YES. Otherwise, output NO.\n",
    "\n",
    "Input Format:\n",
    "The first and only line of input contains a single integer X, the credit score.\n",
    "\n",
    "Output Format:\n",
    "Print YES if it is possible to access CRED programs. Otherwise, print NO.\n",
    "\n",
    "You may print each character of the string in uppercase or lowercase (for example, the strings YeS, yEs, yes and YES will all be treated as identical).\n",
    "\n",
    "Constraints:\n",
    "    \n",
    "0 ≤ X ≤ 1000"
   ]
  },
  {
   "cell_type": "code",
   "execution_count": 1,
   "id": "a2f42d29-9a88-4c44-a2f5-75abcd459622",
   "metadata": {},
   "outputs": [
    {
     "name": "stdin",
     "output_type": "stream",
     "text": [
      " 8765\n"
     ]
    },
    {
     "name": "stdout",
     "output_type": "stream",
     "text": [
      "YES\n"
     ]
    }
   ],
   "source": [
    "# cook your dish here\n",
    "x = int(input())\n",
    "if x>=750:\n",
    "    print(\"YES\")\n",
    "else:\n",
    "    print(\"NO\")"
   ]
  },
  {
   "cell_type": "markdown",
   "id": "64411aab-540a-47f1-a44b-0796b8a75726",
   "metadata": {},
   "source": [
    "### Problem 2:\n",
    "\n",
    "Given an integer N, write a program to obtain the sum of the first and last digits of this number.\n",
    "\n",
    "Input Format:\n",
    "The first line contains an integer T, the total number of test cases. Then, follow T lines, each line containing an integer N.\n",
    "\n",
    "Output Format:\n",
    "For each test case, display the sum of the first and last digits of N on a new line.\n",
    "\n",
    "Constraints:\n",
    "\n",
    "1 ≤ T ≤ 1000\n",
    "\n",
    "1 ≤ N ≤ 1000000"
   ]
  },
  {
   "cell_type": "code",
   "execution_count": 2,
   "id": "89b0f64f-0692-440b-8306-f9d62be9f74b",
   "metadata": {},
   "outputs": [
    {
     "name": "stdin",
     "output_type": "stream",
     "text": [
      " 1\n",
      " 12345\n"
     ]
    },
    {
     "name": "stdout",
     "output_type": "stream",
     "text": [
      "6\n"
     ]
    }
   ],
   "source": [
    "t = int(input())\n",
    "for i in range(t):\n",
    "    n = input()\n",
    "    print(int(n[0])+int(n[-1]))"
   ]
  },
  {
   "cell_type": "code",
   "execution_count": null,
   "id": "7f227b9c-b8ce-4af5-b049-136de443b4a0",
   "metadata": {},
   "outputs": [],
   "source": []
  },
  {
   "cell_type": "code",
   "execution_count": 1,
   "id": "9c3d891d-48eb-4da4-a516-c72cb1929625",
   "metadata": {},
   "outputs": [],
   "source": [
    "a = 1"
   ]
  },
  {
   "cell_type": "code",
   "execution_count": 2,
   "id": "051ce010-edb1-41d8-9dfa-1836628153ac",
   "metadata": {},
   "outputs": [
    {
     "name": "stdout",
     "output_type": "stream",
     "text": [
      "<class 'int'>\n"
     ]
    }
   ],
   "source": [
    "print(type(a))"
   ]
  },
  {
   "cell_type": "markdown",
   "id": "c86c98c8-bfc8-4dcf-8572-b87f9ad13946",
   "metadata": {},
   "source": [
    "## Class is a blueprint. \n",
    "Class is just a classification of real world entite"
   ]
  },
  {
   "cell_type": "markdown",
   "id": "cff1039c-1bcf-43cc-942f-54d1b62bc378",
   "metadata": {},
   "source": [
    "Obeject is a enite\n",
    "for making code organised we use OOPs concepts"
   ]
  },
  {
   "cell_type": "code",
   "execution_count": 3,
   "id": "0a8cffbb-dd4e-4e3a-8c90-4e585eb58410",
   "metadata": {},
   "outputs": [],
   "source": [
    "class test:\n",
    "    pass"
   ]
  },
  {
   "cell_type": "code",
   "execution_count": 4,
   "id": "ca139f74-25be-4e4b-b349-eed74327c60f",
   "metadata": {},
   "outputs": [],
   "source": [
    "a = test()"
   ]
  },
  {
   "cell_type": "code",
   "execution_count": 5,
   "id": "205b4197-24d3-4c51-a61f-bfd4312a9db8",
   "metadata": {},
   "outputs": [
    {
     "data": {
      "text/plain": [
       "__main__.test"
      ]
     },
     "execution_count": 5,
     "metadata": {},
     "output_type": "execute_result"
    }
   ],
   "source": [
    "type(a)"
   ]
  },
  {
   "cell_type": "code",
   "execution_count": 6,
   "id": "d55e2985-3979-44f9-97ec-89200919978e",
   "metadata": {},
   "outputs": [
    {
     "name": "stdout",
     "output_type": "stream",
     "text": [
      "<class '__main__.test'>\n"
     ]
    }
   ],
   "source": [
    "print(type(a))"
   ]
  },
  {
   "cell_type": "code",
   "execution_count": 7,
   "id": "1bde40ef-99da-4f23-8f31-02ebed6a7ce2",
   "metadata": {},
   "outputs": [],
   "source": [
    "class pwskills:\n",
    "    def wlecome_msg(self):\n",
    "        print(\"Welcome to PwSkills\")"
   ]
  },
  {
   "cell_type": "code",
   "execution_count": 8,
   "id": "394b2e00-f5a2-4500-b39d-f048d7756821",
   "metadata": {},
   "outputs": [],
   "source": [
    "golu = pwskills()"
   ]
  },
  {
   "cell_type": "code",
   "execution_count": 9,
   "id": "2ddda14a-9deb-435b-be02-4e146ec93979",
   "metadata": {},
   "outputs": [
    {
     "name": "stdout",
     "output_type": "stream",
     "text": [
      "<class '__main__.pwskills'>\n"
     ]
    }
   ],
   "source": [
    "print(type(golu))"
   ]
  },
  {
   "cell_type": "code",
   "execution_count": 10,
   "id": "355d2c10-d1b3-4f78-9dca-2eaa88766725",
   "metadata": {},
   "outputs": [
    {
     "name": "stdout",
     "output_type": "stream",
     "text": [
      "Welcome to PwSkills\n"
     ]
    }
   ],
   "source": [
    "golu.wlecome_msg()"
   ]
  },
  {
   "cell_type": "code",
   "execution_count": 11,
   "id": "d7090b85-0ef0-4230-804d-99428e0aec5d",
   "metadata": {},
   "outputs": [],
   "source": [
    "aniruddh = pwskills()"
   ]
  },
  {
   "cell_type": "code",
   "execution_count": 12,
   "id": "a7db3bdb-6a0c-43c7-931a-7844c68d7ea7",
   "metadata": {},
   "outputs": [
    {
     "name": "stdout",
     "output_type": "stream",
     "text": [
      "Welcome to PwSkills\n"
     ]
    }
   ],
   "source": [
    "aniruddh.wlecome_msg()"
   ]
  },
  {
   "cell_type": "code",
   "execution_count": 13,
   "id": "407fb2d1-8b59-48b0-b01b-243b1ccb1d99",
   "metadata": {},
   "outputs": [],
   "source": [
    "class pwkills1:\n",
    "    def __init__(self, phone_number, email_id, student_id):\n",
    "        self.phone_number = phone_number\n",
    "        self.email_id = email_id\n",
    "        self.student_id = student_id\n",
    "    def return_student_details(self):\n",
    "        return self.student_id, self.phone_number, self.email_id"
   ]
  },
  {
   "cell_type": "code",
   "execution_count": 14,
   "id": "3e2b6c2b-f9fb-4aa9-b9c3-74fa25fce692",
   "metadata": {},
   "outputs": [
    {
     "ename": "TypeError",
     "evalue": "pwkills1.__init__() missing 3 required positional arguments: 'phone_number', 'email_id', and 'student_id'",
     "output_type": "error",
     "traceback": [
      "\u001b[0;31m---------------------------------------------------------------------------\u001b[0m",
      "\u001b[0;31mTypeError\u001b[0m                                 Traceback (most recent call last)",
      "Cell \u001b[0;32mIn[14], line 1\u001b[0m\n\u001b[0;32m----> 1\u001b[0m rohan \u001b[38;5;241m=\u001b[39m \u001b[43mpwkills1\u001b[49m\u001b[43m(\u001b[49m\u001b[43m)\u001b[49m\n",
      "\u001b[0;31mTypeError\u001b[0m: pwkills1.__init__() missing 3 required positional arguments: 'phone_number', 'email_id', and 'student_id'"
     ]
    }
   ],
   "source": [
    "rohan = pwkills1()"
   ]
  },
  {
   "cell_type": "code",
   "execution_count": null,
   "id": "5f678739-ffe2-41bd-a071-bd7d25ba9171",
   "metadata": {},
   "outputs": [],
   "source": [
    "aniruddh = pwkills1(9424669633, \"aniruddh8022@gmail.com\", 101)"
   ]
  },
  {
   "cell_type": "code",
   "execution_count": 15,
   "id": "9af67db0-37e9-4627-931a-186e167f4750",
   "metadata": {},
   "outputs": [
    {
     "ename": "AttributeError",
     "evalue": "'pwskills' object has no attribute 'return_student_details'",
     "output_type": "error",
     "traceback": [
      "\u001b[0;31m---------------------------------------------------------------------------\u001b[0m",
      "\u001b[0;31mAttributeError\u001b[0m                            Traceback (most recent call last)",
      "Cell \u001b[0;32mIn[15], line 1\u001b[0m\n\u001b[0;32m----> 1\u001b[0m \u001b[43maniruddh\u001b[49m\u001b[38;5;241;43m.\u001b[39;49m\u001b[43mreturn_student_details\u001b[49m()\n",
      "\u001b[0;31mAttributeError\u001b[0m: 'pwskills' object has no attribute 'return_student_details'"
     ]
    }
   ],
   "source": [
    "aniruddh.return_student_details()"
   ]
  },
  {
   "cell_type": "code",
   "execution_count": 16,
   "id": "664cd42d-5c9b-4017-9802-dac563e18bcb",
   "metadata": {},
   "outputs": [],
   "source": [
    "golu = pwkills1(9977009644, \"golu@gmial.com\", 102)"
   ]
  },
  {
   "cell_type": "code",
   "execution_count": 17,
   "id": "c0735319-d688-44e8-a088-602722e6c211",
   "metadata": {},
   "outputs": [
    {
     "data": {
      "text/plain": [
       "(102, 9977009644, 'golu@gmial.com')"
      ]
     },
     "execution_count": 17,
     "metadata": {},
     "output_type": "execute_result"
    }
   ],
   "source": [
    "golu.return_student_details()"
   ]
  },
  {
   "cell_type": "code",
   "execution_count": 18,
   "id": "a77080cb-6fb0-4628-9b15-7fbacdb22e5b",
   "metadata": {},
   "outputs": [
    {
     "data": {
      "text/plain": [
       "9977009644"
      ]
     },
     "execution_count": 18,
     "metadata": {},
     "output_type": "execute_result"
    }
   ],
   "source": [
    "golu.phone_number"
   ]
  },
  {
   "cell_type": "code",
   "execution_count": 19,
   "id": "d370c27b-d1d3-445a-b21b-3842f44e4f7a",
   "metadata": {},
   "outputs": [
    {
     "ename": "AttributeError",
     "evalue": "'pwskills' object has no attribute 'email_id'",
     "output_type": "error",
     "traceback": [
      "\u001b[0;31m---------------------------------------------------------------------------\u001b[0m",
      "\u001b[0;31mAttributeError\u001b[0m                            Traceback (most recent call last)",
      "Cell \u001b[0;32mIn[19], line 1\u001b[0m\n\u001b[0;32m----> 1\u001b[0m \u001b[43maniruddh\u001b[49m\u001b[38;5;241;43m.\u001b[39;49m\u001b[43memail_id\u001b[49m\n",
      "\u001b[0;31mAttributeError\u001b[0m: 'pwskills' object has no attribute 'email_id'"
     ]
    }
   ],
   "source": [
    "aniruddh.email_id"
   ]
  },
  {
   "cell_type": "code",
   "execution_count": 20,
   "id": "c699f74f-21e1-4dc2-9bb7-203ff2df6138",
   "metadata": {},
   "outputs": [],
   "source": [
    "class pwkills2:\n",
    "    def __init__(self, phone_number, email_id, student_id):\n",
    "        self.phone_number1 = phone_number\n",
    "        self.email_id1 = email_id\n",
    "        self.student_id1 = student_id\n",
    "    def return_student_details(self):\n",
    "        return self.student_id1, self.phone_number1, self.email_id1"
   ]
  },
  {
   "cell_type": "code",
   "execution_count": 21,
   "id": "c4f00f9c-a3d0-4791-bd97-c2f8e1404de7",
   "metadata": {},
   "outputs": [],
   "source": [
    "rahul = pwkills2(893258932, \"rahul@gmail.com\", 103)"
   ]
  },
  {
   "cell_type": "code",
   "execution_count": 22,
   "id": "67c0a56e-9ba4-43ca-9b77-1fb7466b344e",
   "metadata": {},
   "outputs": [
    {
     "data": {
      "text/plain": [
       "<__main__.pwkills2 at 0x7f0afaef0f70>"
      ]
     },
     "execution_count": 22,
     "metadata": {},
     "output_type": "execute_result"
    }
   ],
   "source": [
    "rahul"
   ]
  },
  {
   "cell_type": "code",
   "execution_count": 23,
   "id": "7ab4e11d-f41f-4334-b117-3876b849370e",
   "metadata": {},
   "outputs": [
    {
     "data": {
      "text/plain": [
       "(103, 893258932, 'rahul@gmail.com')"
      ]
     },
     "execution_count": 23,
     "metadata": {},
     "output_type": "execute_result"
    }
   ],
   "source": [
    "rahul.return_student_details()"
   ]
  },
  {
   "cell_type": "code",
   "execution_count": 24,
   "id": "2d3bbb1d-3c75-4247-b29b-518b00211805",
   "metadata": {},
   "outputs": [
    {
     "ename": "AttributeError",
     "evalue": "'pwkills2' object has no attribute 'phone_number'",
     "output_type": "error",
     "traceback": [
      "\u001b[0;31m---------------------------------------------------------------------------\u001b[0m",
      "\u001b[0;31mAttributeError\u001b[0m                            Traceback (most recent call last)",
      "Cell \u001b[0;32mIn[24], line 1\u001b[0m\n\u001b[0;32m----> 1\u001b[0m \u001b[43mrahul\u001b[49m\u001b[38;5;241;43m.\u001b[39;49m\u001b[43mphone_number\u001b[49m\n",
      "\u001b[0;31mAttributeError\u001b[0m: 'pwkills2' object has no attribute 'phone_number'"
     ]
    }
   ],
   "source": [
    "rahul.phone_number"
   ]
  },
  {
   "cell_type": "code",
   "execution_count": 25,
   "id": "1f08d768-3dc4-4b80-9449-aa4a57e69173",
   "metadata": {},
   "outputs": [
    {
     "data": {
      "text/plain": [
       "893258932"
      ]
     },
     "execution_count": 25,
     "metadata": {},
     "output_type": "execute_result"
    }
   ],
   "source": [
    "rahul.phone_number1"
   ]
  },
  {
   "cell_type": "code",
   "execution_count": 26,
   "id": "8cc435c2-c79a-4272-ace5-b12a803b27ac",
   "metadata": {},
   "outputs": [],
   "source": [
    "class pwkills3:\n",
    "    def __init__(golu, phone_number, email_id, student_id):\n",
    "        golu.phone_number1 = phone_number\n",
    "        golu.email_id1 = email_id\n",
    "        golu.student_id1 = student_id\n",
    "    def return_student_details(self):\n",
    "        return golu.student_id1, golu.phone_number1, golu.email_id1"
   ]
  },
  {
   "cell_type": "code",
   "execution_count": 27,
   "id": "a34867cc-5121-4603-9456-cb20c8337609",
   "metadata": {},
   "outputs": [],
   "source": [
    "ankit = pwkills3(12435674, \"ankit@gmial.com\", 104)"
   ]
  },
  {
   "cell_type": "code",
   "execution_count": 28,
   "id": "e6fde375-5521-442d-84ac-090cc3d22596",
   "metadata": {},
   "outputs": [
    {
     "data": {
      "text/plain": [
       "'ankit@gmial.com'"
      ]
     },
     "execution_count": 28,
     "metadata": {},
     "output_type": "execute_result"
    }
   ],
   "source": [
    "ankit.email_id1"
   ]
  },
  {
   "cell_type": "code",
   "execution_count": null,
   "id": "e24230c3-92c5-4167-bdd2-3ae2b4cceb8b",
   "metadata": {},
   "outputs": [],
   "source": []
  }
 ],
 "metadata": {
  "kernelspec": {
   "display_name": "Python 3 (ipykernel)",
   "language": "python",
   "name": "python3"
  },
  "language_info": {
   "codemirror_mode": {
    "name": "ipython",
    "version": 3
   },
   "file_extension": ".py",
   "mimetype": "text/x-python",
   "name": "python",
   "nbconvert_exporter": "python",
   "pygments_lexer": "ipython3",
   "version": "3.10.8"
  }
 },
 "nbformat": 4,
 "nbformat_minor": 5
}
