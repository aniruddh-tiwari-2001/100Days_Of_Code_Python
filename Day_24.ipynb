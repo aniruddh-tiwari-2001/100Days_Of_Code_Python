{
 "cells": [
  {
   "cell_type": "markdown",
   "id": "b98fd9a8-2521-463e-857a-3046124e71c3",
   "metadata": {},
   "source": [
    "# Day 24\n",
    "## Topics going to be cover in Day 24\n",
    "- Learn OOPs concepts:\n",
    "- Class and Objects\n",
    "- Polymorphism\n",
    "- Encapsulation\n",
    "- Inherithance\n",
    "\n",
    "     - Multilevel Inherithance\n",
    " \n",
    "     - Multiple inheritance\n",
    "- Abstraction"
   ]
  },
  {
   "cell_type": "code",
   "execution_count": 1,
   "id": "9c3d891d-48eb-4da4-a516-c72cb1929625",
   "metadata": {},
   "outputs": [],
   "source": [
    "a = 1"
   ]
  },
  {
   "cell_type": "code",
   "execution_count": 2,
   "id": "051ce010-edb1-41d8-9dfa-1836628153ac",
   "metadata": {},
   "outputs": [
    {
     "name": "stdout",
     "output_type": "stream",
     "text": [
      "<class 'int'>\n"
     ]
    }
   ],
   "source": [
    "print(type(a))"
   ]
  },
  {
   "cell_type": "markdown",
   "id": "c86c98c8-bfc8-4dcf-8572-b87f9ad13946",
   "metadata": {},
   "source": [
    "## Class is a blueprint. \n",
    "Class is just a classification of real world entite"
   ]
  },
  {
   "cell_type": "markdown",
   "id": "cff1039c-1bcf-43cc-942f-54d1b62bc378",
   "metadata": {},
   "source": [
    "Obeject is a enite\n",
    "for making code organised we use OOPs concepts"
   ]
  },
  {
   "cell_type": "code",
   "execution_count": 3,
   "id": "0a8cffbb-dd4e-4e3a-8c90-4e585eb58410",
   "metadata": {},
   "outputs": [],
   "source": [
    "class test:\n",
    "    pass"
   ]
  },
  {
   "cell_type": "code",
   "execution_count": 4,
   "id": "ca139f74-25be-4e4b-b349-eed74327c60f",
   "metadata": {},
   "outputs": [],
   "source": [
    "a = test()"
   ]
  },
  {
   "cell_type": "code",
   "execution_count": 5,
   "id": "205b4197-24d3-4c51-a61f-bfd4312a9db8",
   "metadata": {},
   "outputs": [
    {
     "data": {
      "text/plain": [
       "__main__.test"
      ]
     },
     "execution_count": 5,
     "metadata": {},
     "output_type": "execute_result"
    }
   ],
   "source": [
    "type(a)"
   ]
  },
  {
   "cell_type": "code",
   "execution_count": 6,
   "id": "d55e2985-3979-44f9-97ec-89200919978e",
   "metadata": {},
   "outputs": [
    {
     "name": "stdout",
     "output_type": "stream",
     "text": [
      "<class '__main__.test'>\n"
     ]
    }
   ],
   "source": [
    "print(type(a))"
   ]
  },
  {
   "cell_type": "code",
   "execution_count": 7,
   "id": "1bde40ef-99da-4f23-8f31-02ebed6a7ce2",
   "metadata": {},
   "outputs": [],
   "source": [
    "class pwskills:\n",
    "    def wlecome_msg(self):\n",
    "        print(\"Welcome to PwSkills\")"
   ]
  },
  {
   "cell_type": "code",
   "execution_count": 8,
   "id": "394b2e00-f5a2-4500-b39d-f048d7756821",
   "metadata": {},
   "outputs": [],
   "source": [
    "golu = pwskills()"
   ]
  },
  {
   "cell_type": "code",
   "execution_count": 9,
   "id": "2ddda14a-9deb-435b-be02-4e146ec93979",
   "metadata": {},
   "outputs": [
    {
     "name": "stdout",
     "output_type": "stream",
     "text": [
      "<class '__main__.pwskills'>\n"
     ]
    }
   ],
   "source": [
    "print(type(golu))"
   ]
  },
  {
   "cell_type": "code",
   "execution_count": 10,
   "id": "355d2c10-d1b3-4f78-9dca-2eaa88766725",
   "metadata": {},
   "outputs": [
    {
     "name": "stdout",
     "output_type": "stream",
     "text": [
      "Welcome to PwSkills\n"
     ]
    }
   ],
   "source": [
    "golu.wlecome_msg()"
   ]
  },
  {
   "cell_type": "code",
   "execution_count": 11,
   "id": "d7090b85-0ef0-4230-804d-99428e0aec5d",
   "metadata": {},
   "outputs": [],
   "source": [
    "aniruddh = pwskills()"
   ]
  },
  {
   "cell_type": "code",
   "execution_count": 12,
   "id": "a7db3bdb-6a0c-43c7-931a-7844c68d7ea7",
   "metadata": {},
   "outputs": [
    {
     "name": "stdout",
     "output_type": "stream",
     "text": [
      "Welcome to PwSkills\n"
     ]
    }
   ],
   "source": [
    "aniruddh.wlecome_msg()"
   ]
  },
  {
   "cell_type": "code",
   "execution_count": 13,
   "id": "407fb2d1-8b59-48b0-b01b-243b1ccb1d99",
   "metadata": {},
   "outputs": [],
   "source": [
    "class pwkills1:\n",
    "    def __init__(self, phone_number, email_id, student_id):\n",
    "        self.phone_number = phone_number\n",
    "        self.email_id = email_id\n",
    "        self.student_id = student_id\n",
    "    def return_student_details(self):\n",
    "        return self.student_id, self.phone_number, self.email_id"
   ]
  },
  {
   "cell_type": "code",
   "execution_count": 14,
   "id": "3e2b6c2b-f9fb-4aa9-b9c3-74fa25fce692",
   "metadata": {},
   "outputs": [
    {
     "ename": "TypeError",
     "evalue": "pwkills1.__init__() missing 3 required positional arguments: 'phone_number', 'email_id', and 'student_id'",
     "output_type": "error",
     "traceback": [
      "\u001b[0;31m---------------------------------------------------------------------------\u001b[0m",
      "\u001b[0;31mTypeError\u001b[0m                                 Traceback (most recent call last)",
      "Cell \u001b[0;32mIn[14], line 1\u001b[0m\n\u001b[0;32m----> 1\u001b[0m rohan \u001b[38;5;241m=\u001b[39m \u001b[43mpwkills1\u001b[49m\u001b[43m(\u001b[49m\u001b[43m)\u001b[49m\n",
      "\u001b[0;31mTypeError\u001b[0m: pwkills1.__init__() missing 3 required positional arguments: 'phone_number', 'email_id', and 'student_id'"
     ]
    }
   ],
   "source": [
    "rohan = pwkills1()"
   ]
  },
  {
   "cell_type": "code",
   "execution_count": 15,
   "id": "5f678739-ffe2-41bd-a071-bd7d25ba9171",
   "metadata": {},
   "outputs": [],
   "source": [
    "aniruddh = pwkills1(9424669633, \"aniruddh8022@gmail.com\", 101)"
   ]
  },
  {
   "cell_type": "code",
   "execution_count": 16,
   "id": "9af67db0-37e9-4627-931a-186e167f4750",
   "metadata": {},
   "outputs": [
    {
     "data": {
      "text/plain": [
       "(101, 9424669633, 'aniruddh8022@gmail.com')"
      ]
     },
     "execution_count": 16,
     "metadata": {},
     "output_type": "execute_result"
    }
   ],
   "source": [
    "aniruddh.return_student_details()"
   ]
  },
  {
   "cell_type": "code",
   "execution_count": 17,
   "id": "664cd42d-5c9b-4017-9802-dac563e18bcb",
   "metadata": {},
   "outputs": [],
   "source": [
    "golu = pwkills1(9977009644, \"golu@gmial.com\", 102)"
   ]
  },
  {
   "cell_type": "code",
   "execution_count": 18,
   "id": "c0735319-d688-44e8-a088-602722e6c211",
   "metadata": {},
   "outputs": [
    {
     "data": {
      "text/plain": [
       "(102, 9977009644, 'golu@gmial.com')"
      ]
     },
     "execution_count": 18,
     "metadata": {},
     "output_type": "execute_result"
    }
   ],
   "source": [
    "golu.return_student_details()"
   ]
  },
  {
   "cell_type": "code",
   "execution_count": 19,
   "id": "a77080cb-6fb0-4628-9b15-7fbacdb22e5b",
   "metadata": {},
   "outputs": [
    {
     "data": {
      "text/plain": [
       "9977009644"
      ]
     },
     "execution_count": 19,
     "metadata": {},
     "output_type": "execute_result"
    }
   ],
   "source": [
    "golu.phone_number"
   ]
  },
  {
   "cell_type": "code",
   "execution_count": 20,
   "id": "d370c27b-d1d3-445a-b21b-3842f44e4f7a",
   "metadata": {},
   "outputs": [
    {
     "data": {
      "text/plain": [
       "'aniruddh8022@gmail.com'"
      ]
     },
     "execution_count": 20,
     "metadata": {},
     "output_type": "execute_result"
    }
   ],
   "source": [
    "aniruddh.email_id"
   ]
  },
  {
   "cell_type": "code",
   "execution_count": 21,
   "id": "c699f74f-21e1-4dc2-9bb7-203ff2df6138",
   "metadata": {},
   "outputs": [],
   "source": [
    "class pwkills2:\n",
    "    def __init__(self, phone_number, email_id, student_id):\n",
    "        self.phone_number1 = phone_number\n",
    "        self.email_id1 = email_id\n",
    "        self.student_id1 = student_id\n",
    "    def return_student_details(self):\n",
    "        return self.student_id1, self.phone_number1, self.email_id1"
   ]
  },
  {
   "cell_type": "code",
   "execution_count": 22,
   "id": "c4f00f9c-a3d0-4791-bd97-c2f8e1404de7",
   "metadata": {},
   "outputs": [],
   "source": [
    "rahul = pwkills2(893258932, \"rahul@gmail.com\", 103)"
   ]
  },
  {
   "cell_type": "code",
   "execution_count": 23,
   "id": "67c0a56e-9ba4-43ca-9b77-1fb7466b344e",
   "metadata": {},
   "outputs": [
    {
     "data": {
      "text/plain": [
       "<__main__.pwkills2 at 0x7f63c45b43a0>"
      ]
     },
     "execution_count": 23,
     "metadata": {},
     "output_type": "execute_result"
    }
   ],
   "source": [
    "rahul"
   ]
  },
  {
   "cell_type": "code",
   "execution_count": 24,
   "id": "7ab4e11d-f41f-4334-b117-3876b849370e",
   "metadata": {},
   "outputs": [
    {
     "data": {
      "text/plain": [
       "(103, 893258932, 'rahul@gmail.com')"
      ]
     },
     "execution_count": 24,
     "metadata": {},
     "output_type": "execute_result"
    }
   ],
   "source": [
    "rahul.return_student_details()"
   ]
  },
  {
   "cell_type": "code",
   "execution_count": 25,
   "id": "2d3bbb1d-3c75-4247-b29b-518b00211805",
   "metadata": {},
   "outputs": [
    {
     "ename": "AttributeError",
     "evalue": "'pwkills2' object has no attribute 'phone_number'",
     "output_type": "error",
     "traceback": [
      "\u001b[0;31m---------------------------------------------------------------------------\u001b[0m",
      "\u001b[0;31mAttributeError\u001b[0m                            Traceback (most recent call last)",
      "Cell \u001b[0;32mIn[25], line 1\u001b[0m\n\u001b[0;32m----> 1\u001b[0m \u001b[43mrahul\u001b[49m\u001b[38;5;241;43m.\u001b[39;49m\u001b[43mphone_number\u001b[49m\n",
      "\u001b[0;31mAttributeError\u001b[0m: 'pwkills2' object has no attribute 'phone_number'"
     ]
    }
   ],
   "source": [
    "rahul.phone_number"
   ]
  },
  {
   "cell_type": "code",
   "execution_count": 26,
   "id": "1f08d768-3dc4-4b80-9449-aa4a57e69173",
   "metadata": {},
   "outputs": [
    {
     "data": {
      "text/plain": [
       "893258932"
      ]
     },
     "execution_count": 26,
     "metadata": {},
     "output_type": "execute_result"
    }
   ],
   "source": [
    "rahul.phone_number1"
   ]
  },
  {
   "cell_type": "code",
   "execution_count": 27,
   "id": "8cc435c2-c79a-4272-ace5-b12a803b27ac",
   "metadata": {},
   "outputs": [],
   "source": [
    "class pwkills3:\n",
    "    def __init__(golu, phone_number, email_id, student_id):\n",
    "        golu.phone_number1 = phone_number\n",
    "        golu.email_id1 = email_id\n",
    "        golu.student_id1 = student_id\n",
    "    def return_student_details(self):\n",
    "        return golu.student_id1, golu.phone_number1, golu.email_id1"
   ]
  },
  {
   "cell_type": "code",
   "execution_count": 28,
   "id": "a34867cc-5121-4603-9456-cb20c8337609",
   "metadata": {},
   "outputs": [],
   "source": [
    "ankit = pwkills3(12435674, \"ankit@gmial.com\", 104)"
   ]
  },
  {
   "cell_type": "code",
   "execution_count": 29,
   "id": "e6fde375-5521-442d-84ac-090cc3d22596",
   "metadata": {},
   "outputs": [
    {
     "data": {
      "text/plain": [
       "'ankit@gmial.com'"
      ]
     },
     "execution_count": 29,
     "metadata": {},
     "output_type": "execute_result"
    }
   ],
   "source": [
    "ankit.email_id1"
   ]
  },
  {
   "cell_type": "markdown",
   "id": "37286eff-9aaf-4cd3-9be9-c00127933146",
   "metadata": {},
   "source": [
    "## Polymorphism"
   ]
  },
  {
   "cell_type": "code",
   "execution_count": 30,
   "id": "9259a2e3-87b0-40c6-8f13-8e24ce96ec7a",
   "metadata": {},
   "outputs": [],
   "source": [
    "def test(a,b):\n",
    "    return a+b"
   ]
  },
  {
   "cell_type": "code",
   "execution_count": 31,
   "id": "f71cb041-f830-4719-aa6b-d4d62f63d71d",
   "metadata": {},
   "outputs": [
    {
     "data": {
      "text/plain": [
       "7"
      ]
     },
     "execution_count": 31,
     "metadata": {},
     "output_type": "execute_result"
    }
   ],
   "source": [
    "test(3,4)"
   ]
  },
  {
   "cell_type": "code",
   "execution_count": 32,
   "id": "c0b86a81-3693-4eae-8ad1-deaf99fb32a6",
   "metadata": {},
   "outputs": [
    {
     "data": {
      "text/plain": [
       "'Aniruddh Tiwari '"
      ]
     },
     "execution_count": 32,
     "metadata": {},
     "output_type": "execute_result"
    }
   ],
   "source": [
    "test(\"Aniruddh \", \"Tiwari \")"
   ]
  },
  {
   "cell_type": "code",
   "execution_count": 33,
   "id": "3d79a9fe-043b-46f5-abc9-ebbd10dd8c99",
   "metadata": {},
   "outputs": [
    {
     "data": {
      "text/plain": [
       "[1, 2, 4, 5, 6, 2, 3, 4, 5, 67, 8]"
      ]
     },
     "execution_count": 33,
     "metadata": {},
     "output_type": "execute_result"
    }
   ],
   "source": [
    "test([1,2,4,5,6], [2,3,4,5,67,8])"
   ]
  },
  {
   "cell_type": "code",
   "execution_count": 34,
   "id": "fd253b55-276d-49a4-bed1-29e1961eef42",
   "metadata": {},
   "outputs": [],
   "source": [
    "class data_science:\n",
    "    def syllabus(self):\n",
    "        print(\"This is my Syllabus for data science master\")"
   ]
  },
  {
   "cell_type": "code",
   "execution_count": 35,
   "id": "17729144-0979-49f2-9560-5fa8415a127f",
   "metadata": {},
   "outputs": [],
   "source": [
    "class web_dev:\n",
    "    def syllabus(self):\n",
    "        print(\"This is my Syllabus for web dev\")"
   ]
  },
  {
   "cell_type": "code",
   "execution_count": 36,
   "id": "74b0eddd-f769-450e-92d0-2e6f7f82ac87",
   "metadata": {},
   "outputs": [],
   "source": [
    "def class_paecer(calss_obj):\n",
    "    for i in calss_obj:\n",
    "        i.syllabus()"
   ]
  },
  {
   "cell_type": "code",
   "execution_count": 37,
   "id": "02bf906f-2836-4911-9405-3d747d48f7d5",
   "metadata": {},
   "outputs": [],
   "source": [
    "data_science = data_science()"
   ]
  },
  {
   "cell_type": "code",
   "execution_count": 38,
   "id": "8ef7dd7b-7202-4835-ab5e-5b75cb599847",
   "metadata": {},
   "outputs": [],
   "source": [
    "web_dev = web_dev()"
   ]
  },
  {
   "cell_type": "code",
   "execution_count": 39,
   "id": "f742c8ad-cc85-46b5-ac0d-92c779bc52be",
   "metadata": {},
   "outputs": [],
   "source": [
    "calss_obj = [data_science, web_dev]"
   ]
  },
  {
   "cell_type": "code",
   "execution_count": 40,
   "id": "a28acb77-9556-4eca-bf68-d082bc075aeb",
   "metadata": {},
   "outputs": [
    {
     "name": "stdout",
     "output_type": "stream",
     "text": [
      "This is my Syllabus for data science master\n",
      "This is my Syllabus for web dev\n"
     ]
    }
   ],
   "source": [
    "class_paecer(calss_obj)"
   ]
  },
  {
   "cell_type": "code",
   "execution_count": 41,
   "id": "2cf06f44-af61-4b10-bd87-f500906b0dba",
   "metadata": {},
   "outputs": [
    {
     "data": {
      "text/plain": [
       "list"
      ]
     },
     "execution_count": 41,
     "metadata": {},
     "output_type": "execute_result"
    }
   ],
   "source": [
    "type(calss_obj)"
   ]
  },
  {
   "cell_type": "markdown",
   "id": "a5c62024-82f2-460c-9afc-89731c9fd627",
   "metadata": {},
   "source": [
    "## Encapsulation\n",
    "encapsulation helps in controlling access to class members, it does not make the class private in Python. It provides conventions and limited access modifiers to indicate the intended visibility of class members.\n",
    "\n",
    "\n",
    "\n",
    "inshort we can say encapsulation helps make variables private in Python"
   ]
  },
  {
   "cell_type": "code",
   "execution_count": 42,
   "id": "806793fd-9668-4e8c-8057-a0a8a7bd86fc",
   "metadata": {},
   "outputs": [],
   "source": [
    "class test:\n",
    "    \n",
    "    def __init__(self, a, b):##init helps to pass the data in a class from object\n",
    "        self.a = a\n",
    "        self.b = b"
   ]
  },
  {
   "cell_type": "code",
   "execution_count": 43,
   "id": "2a31591d-14e1-48ed-9322-515b18a49a14",
   "metadata": {},
   "outputs": [],
   "source": [
    "t = test(23,24)"
   ]
  },
  {
   "cell_type": "code",
   "execution_count": 44,
   "id": "02f8ab63-bc6f-4faf-b8d1-635e911d8581",
   "metadata": {},
   "outputs": [],
   "source": [
    "t.a = 234"
   ]
  },
  {
   "cell_type": "code",
   "execution_count": 45,
   "id": "b7043241-0db2-4c1c-a1a5-ab01d508e394",
   "metadata": {},
   "outputs": [
    {
     "data": {
      "text/plain": [
       "234"
      ]
     },
     "execution_count": 45,
     "metadata": {},
     "output_type": "execute_result"
    }
   ],
   "source": [
    "t.a"
   ]
  },
  {
   "cell_type": "code",
   "execution_count": 46,
   "id": "e60e0ffb-8daf-464b-8d09-650a04538751",
   "metadata": {},
   "outputs": [],
   "source": [
    "class car:\n",
    "    def __init__(self, year, make, model, speed):\n",
    "        self.__year = year ## in __year '__' makes the variable private or make it encapsulated\n",
    "        self.__make = make\n",
    "        self.__model = model\n",
    "        self.__speed = 0\n",
    "        \n",
    "    def set_speed(self, speed):\n",
    "        self.__speed = 0 if speed < 0 else speed\n",
    "    \n",
    "    def get_speed(self):\n",
    "        return self.__speed"
   ]
  },
  {
   "cell_type": "code",
   "execution_count": 47,
   "id": "f59f18dc-8d56-4f01-8d94-8d6e5c55bffa",
   "metadata": {},
   "outputs": [],
   "source": [
    "c = car(2021, \"totyata\", \"innova\", 20)"
   ]
  },
  {
   "cell_type": "code",
   "execution_count": 48,
   "id": "21e70662-e509-4a63-a8c2-9725811a0fce",
   "metadata": {},
   "outputs": [
    {
     "ename": "AttributeError",
     "evalue": "'car' object has no attribute 'year'",
     "output_type": "error",
     "traceback": [
      "\u001b[0;31m---------------------------------------------------------------------------\u001b[0m",
      "\u001b[0;31mAttributeError\u001b[0m                            Traceback (most recent call last)",
      "Cell \u001b[0;32mIn[48], line 1\u001b[0m\n\u001b[0;32m----> 1\u001b[0m \u001b[43mc\u001b[49m\u001b[38;5;241;43m.\u001b[39;49m\u001b[43myear\u001b[49m \u001b[38;5;66;03m## Now we can not call the variable by using only \".and variable name\" \u001b[39;00m\n",
      "\u001b[0;31mAttributeError\u001b[0m: 'car' object has no attribute 'year'"
     ]
    }
   ],
   "source": [
    "c.year ## Now we can not call the variable by using only \".and variable name\" "
   ]
  },
  {
   "cell_type": "code",
   "execution_count": 49,
   "id": "32c501fd-974b-47d9-98cc-5afc390f1619",
   "metadata": {},
   "outputs": [
    {
     "ename": "AttributeError",
     "evalue": "'car' object has no attribute '__year'",
     "output_type": "error",
     "traceback": [
      "\u001b[0;31m---------------------------------------------------------------------------\u001b[0m",
      "\u001b[0;31mAttributeError\u001b[0m                            Traceback (most recent call last)",
      "Cell \u001b[0;32mIn[49], line 1\u001b[0m\n\u001b[0;32m----> 1\u001b[0m \u001b[43mc\u001b[49m\u001b[38;5;241;43m.\u001b[39;49m\u001b[43m__year\u001b[49m \u001b[38;5;66;03m## Now we can not call the variable by using only \".__and variable name\" \u001b[39;00m\n",
      "\u001b[0;31mAttributeError\u001b[0m: 'car' object has no attribute '__year'"
     ]
    }
   ],
   "source": [
    "c.__year ## Now we can not call the variable by using only \".__and variable name\" "
   ]
  },
  {
   "cell_type": "code",
   "execution_count": 50,
   "id": "788b1f36-7400-453e-ac13-e219c6372bb2",
   "metadata": {},
   "outputs": [
    {
     "data": {
      "text/plain": [
       "2021"
      ]
     },
     "execution_count": 50,
     "metadata": {},
     "output_type": "execute_result"
    }
   ],
   "source": [
    "c._car__year ## For calling the private variable we have to first call the class then the variable name like this \"abject._classname__variable name\""
   ]
  },
  {
   "cell_type": "code",
   "execution_count": 51,
   "id": "a11d0986-e39d-4fbb-9bd0-2d00bc3d540d",
   "metadata": {},
   "outputs": [],
   "source": [
    "c.set_speed(-234)"
   ]
  },
  {
   "cell_type": "code",
   "execution_count": 52,
   "id": "6e177d67-ee20-49e5-93df-6bcec6a70e23",
   "metadata": {},
   "outputs": [
    {
     "data": {
      "text/plain": [
       "0"
      ]
     },
     "execution_count": 52,
     "metadata": {},
     "output_type": "execute_result"
    }
   ],
   "source": [
    "c.get_speed()"
   ]
  },
  {
   "cell_type": "code",
   "execution_count": 53,
   "id": "5ee13304-2b13-40e4-b893-212a24f283bd",
   "metadata": {},
   "outputs": [],
   "source": [
    "c.set_speed(200)"
   ]
  },
  {
   "cell_type": "code",
   "execution_count": 54,
   "id": "050e5025-caa6-47fd-94fc-6127ff262377",
   "metadata": {},
   "outputs": [
    {
     "data": {
      "text/plain": [
       "200"
      ]
     },
     "execution_count": 54,
     "metadata": {},
     "output_type": "execute_result"
    }
   ],
   "source": [
    "c.get_speed()"
   ]
  },
  {
   "cell_type": "code",
   "execution_count": 55,
   "id": "455e7a30-d777-49d2-ad00-ee9a5af8126b",
   "metadata": {},
   "outputs": [],
   "source": [
    "class bank_account:\n",
    "    def __init__(self, balance):\n",
    "        self.__balance = balance\n",
    "    def deposit(self, amount):\n",
    "        self.__balance = self.__balance + amount\n",
    "        \n",
    "    def withdraw(self, amount):\n",
    "        if self.__balance >= amount:\n",
    "            self.__balance = self.__balance - amount\n",
    "            return True\n",
    "        else:\n",
    "            return False\n",
    "        \n",
    "    def get_balance(self):\n",
    "        return self.__balance"
   ]
  },
  {
   "cell_type": "code",
   "execution_count": 56,
   "id": "a84bc62c-aedd-4835-9c71-6e8964c1b7c8",
   "metadata": {},
   "outputs": [],
   "source": [
    "golu = bank_account(1000)"
   ]
  },
  {
   "cell_type": "code",
   "execution_count": 57,
   "id": "a23dff8f-06ad-46a8-85ab-0650d7a95bbb",
   "metadata": {},
   "outputs": [
    {
     "data": {
      "text/plain": [
       "1000"
      ]
     },
     "execution_count": 57,
     "metadata": {},
     "output_type": "execute_result"
    }
   ],
   "source": [
    "golu.get_balance()"
   ]
  },
  {
   "cell_type": "code",
   "execution_count": 58,
   "id": "f8179dc6-2f7d-4e24-baa1-21b353a9fa12",
   "metadata": {},
   "outputs": [],
   "source": [
    "golu.deposit(10000)"
   ]
  },
  {
   "cell_type": "code",
   "execution_count": 59,
   "id": "c3461e5f-3827-4c5b-827f-67f25441672d",
   "metadata": {},
   "outputs": [
    {
     "data": {
      "text/plain": [
       "11000"
      ]
     },
     "execution_count": 59,
     "metadata": {},
     "output_type": "execute_result"
    }
   ],
   "source": [
    "golu.get_balance()"
   ]
  },
  {
   "cell_type": "code",
   "execution_count": 60,
   "id": "046515c4-7591-4f3d-a81c-bd8196a698f2",
   "metadata": {},
   "outputs": [
    {
     "data": {
      "text/plain": [
       "True"
      ]
     },
     "execution_count": 60,
     "metadata": {},
     "output_type": "execute_result"
    }
   ],
   "source": [
    "golu.withdraw(1000)"
   ]
  },
  {
   "cell_type": "code",
   "execution_count": 61,
   "id": "631ad886-519b-4e32-b33c-0b0aaa9434d8",
   "metadata": {},
   "outputs": [
    {
     "data": {
      "text/plain": [
       "10000"
      ]
     },
     "execution_count": 61,
     "metadata": {},
     "output_type": "execute_result"
    }
   ],
   "source": [
    "golu.get_balance()"
   ]
  },
  {
   "cell_type": "code",
   "execution_count": 62,
   "id": "4b7bb91f-4e17-4635-bd1b-20e1bc8fa25d",
   "metadata": {},
   "outputs": [],
   "source": [
    "golu.deposit(1000)"
   ]
  },
  {
   "cell_type": "code",
   "execution_count": 63,
   "id": "9e4f3c3a-2a24-43f7-95b3-df50be89f8ba",
   "metadata": {},
   "outputs": [
    {
     "data": {
      "text/plain": [
       "11000"
      ]
     },
     "execution_count": 63,
     "metadata": {},
     "output_type": "execute_result"
    }
   ],
   "source": [
    "golu.get_balance()"
   ]
  },
  {
   "cell_type": "code",
   "execution_count": 64,
   "id": "d83b6cd0-a40d-40e6-ba3e-49e19b730063",
   "metadata": {},
   "outputs": [
    {
     "data": {
      "text/plain": [
       "False"
      ]
     },
     "execution_count": 64,
     "metadata": {},
     "output_type": "execute_result"
    }
   ],
   "source": [
    "golu.withdraw(9000000)"
   ]
  },
  {
   "cell_type": "code",
   "execution_count": 65,
   "id": "80983fd8-3a01-4488-b69e-70a9a4cc6478",
   "metadata": {},
   "outputs": [
    {
     "data": {
      "text/plain": [
       "True"
      ]
     },
     "execution_count": 65,
     "metadata": {},
     "output_type": "execute_result"
    }
   ],
   "source": [
    "golu.withdraw(9000)"
   ]
  },
  {
   "cell_type": "code",
   "execution_count": 66,
   "id": "0d8f80fa-791a-4118-bcb7-4e62cb4e6a69",
   "metadata": {},
   "outputs": [
    {
     "data": {
      "text/plain": [
       "2000"
      ]
     },
     "execution_count": 66,
     "metadata": {},
     "output_type": "execute_result"
    }
   ],
   "source": [
    "golu.get_balance()"
   ]
  },
  {
   "cell_type": "code",
   "execution_count": 67,
   "id": "2e410a21-a965-4f5c-9f13-2b9dd648748b",
   "metadata": {},
   "outputs": [
    {
     "data": {
      "text/plain": [
       "2000"
      ]
     },
     "execution_count": 67,
     "metadata": {},
     "output_type": "execute_result"
    }
   ],
   "source": [
    "golu._bank_account__balance"
   ]
  },
  {
   "cell_type": "markdown",
   "id": "8b994da4-eea7-4e7d-9f12-3b2df20701ea",
   "metadata": {},
   "source": [
    "## Inherithance\n",
    "child class store the parent class"
   ]
  },
  {
   "cell_type": "code",
   "execution_count": 68,
   "id": "68087283-dca6-421c-bfbb-6e387435b13c",
   "metadata": {},
   "outputs": [],
   "source": [
    "class test:\n",
    "    \n",
    "    def test_meth(self): #self create a pointer or a refrence towards a class\n",
    "        return \"This is my First class\"\n",
    "    "
   ]
  },
  {
   "cell_type": "code",
   "execution_count": 69,
   "id": "92ef5da9-9f8f-4407-8c40-e917d4c73f3d",
   "metadata": {},
   "outputs": [],
   "source": [
    "class child_test(test):\n",
    "    pass"
   ]
  },
  {
   "cell_type": "code",
   "execution_count": 70,
   "id": "2fecca33-927c-4384-9c0f-c1a43b6e334c",
   "metadata": {},
   "outputs": [],
   "source": [
    "child_test_obj = child_test()"
   ]
  },
  {
   "cell_type": "code",
   "execution_count": 71,
   "id": "a1011dfa-5e91-4455-9587-6f490fc37d2b",
   "metadata": {},
   "outputs": [
    {
     "data": {
      "text/plain": [
       "'This is my First class'"
      ]
     },
     "execution_count": 71,
     "metadata": {},
     "output_type": "execute_result"
    }
   ],
   "source": [
    "child_test_obj.test_meth()"
   ]
  },
  {
   "cell_type": "markdown",
   "id": "043c0346-c137-4e54-adec-79b21b866204",
   "metadata": {},
   "source": [
    "## Multilevel Inherithance"
   ]
  },
  {
   "cell_type": "code",
   "execution_count": 72,
   "id": "d717cfed-693a-4118-af12-8b21293ba91e",
   "metadata": {},
   "outputs": [],
   "source": [
    "class class1:\n",
    "    \n",
    "    def test_class1(self):\n",
    "        return \"This is a method from Class1\"\n",
    "    "
   ]
  },
  {
   "cell_type": "code",
   "execution_count": 73,
   "id": "ec1fc4f4-8a5b-4908-ac7a-8a478cad3fa7",
   "metadata": {},
   "outputs": [],
   "source": [
    "class class2(class1):\n",
    "    def test_class2(self):\n",
    "        return \"This is a method from class2\""
   ]
  },
  {
   "cell_type": "code",
   "execution_count": 74,
   "id": "8e1295eb-5a29-41fc-9881-4c7eba2e75e8",
   "metadata": {},
   "outputs": [],
   "source": [
    "class class3(class2):\n",
    "    pass"
   ]
  },
  {
   "cell_type": "code",
   "execution_count": 75,
   "id": "7d198e94-6097-48eb-a68b-9eddf770325f",
   "metadata": {},
   "outputs": [],
   "source": [
    "class3_obj = class3()"
   ]
  },
  {
   "cell_type": "code",
   "execution_count": 76,
   "id": "5e3c5752-db72-459f-9443-a43efd52b427",
   "metadata": {},
   "outputs": [
    {
     "data": {
      "text/plain": [
       "'This is a method from Class1'"
      ]
     },
     "execution_count": 76,
     "metadata": {},
     "output_type": "execute_result"
    }
   ],
   "source": [
    "class3_obj.test_class1()"
   ]
  },
  {
   "cell_type": "code",
   "execution_count": 77,
   "id": "57d42120-4327-4950-924e-786bae3671ee",
   "metadata": {},
   "outputs": [
    {
     "data": {
      "text/plain": [
       "'This is a method from class2'"
      ]
     },
     "execution_count": 77,
     "metadata": {},
     "output_type": "execute_result"
    }
   ],
   "source": [
    "class3_obj.test_class2()"
   ]
  },
  {
   "cell_type": "markdown",
   "id": "d3473503-4cec-438d-88f6-606eebded223",
   "metadata": {},
   "source": [
    "## Multiple inheritance"
   ]
  },
  {
   "cell_type": "code",
   "execution_count": 78,
   "id": "398042bc-05dd-4be4-981a-350e45b87c24",
   "metadata": {},
   "outputs": [],
   "source": [
    "class class1:\n",
    "    def test_class1(self):\n",
    "        return \"this is class 1\""
   ]
  },
  {
   "cell_type": "code",
   "execution_count": 79,
   "id": "c63e5c7f-46c0-40f4-834e-286506630548",
   "metadata": {},
   "outputs": [],
   "source": [
    "class class2:\n",
    "    def test_class2(self):\n",
    "        return \"This is class 2\""
   ]
  },
  {
   "cell_type": "code",
   "execution_count": 80,
   "id": "fad87c03-a879-4df2-9780-cd01f739f573",
   "metadata": {},
   "outputs": [],
   "source": [
    "class class3(class1, class2):\n",
    "    pass"
   ]
  },
  {
   "cell_type": "code",
   "execution_count": 81,
   "id": "33a5f79d-463a-419f-bce4-05508653a657",
   "metadata": {},
   "outputs": [],
   "source": [
    "class3_obj = class3()"
   ]
  },
  {
   "cell_type": "code",
   "execution_count": 82,
   "id": "3dce2498-be8c-4f6d-ba7c-8bca65a8d460",
   "metadata": {},
   "outputs": [
    {
     "data": {
      "text/plain": [
       "'this is class 1'"
      ]
     },
     "execution_count": 82,
     "metadata": {},
     "output_type": "execute_result"
    }
   ],
   "source": [
    "class3_obj.test_class1()"
   ]
  },
  {
   "cell_type": "code",
   "execution_count": 83,
   "id": "6a026221-5dd5-4705-9280-5aa5dccda974",
   "metadata": {},
   "outputs": [
    {
     "data": {
      "text/plain": [
       "'This is class 2'"
      ]
     },
     "execution_count": 83,
     "metadata": {},
     "output_type": "execute_result"
    }
   ],
   "source": [
    "class3_obj.test_class2()"
   ]
  },
  {
   "cell_type": "markdown",
   "id": "080763e3-013c-4aed-9928-935ba261dc22",
   "metadata": {},
   "source": [
    "## Abstraction\n",
    "Use to create bluprint of class "
   ]
  },
  {
   "cell_type": "code",
   "execution_count": 86,
   "id": "fc0dda0e-ea84-4634-9229-6996865a6091",
   "metadata": {},
   "outputs": [],
   "source": [
    "import abc\n",
    "class pwskills:\n",
    "    \n",
    "    @abc.abstractclassmethod\n",
    "    def student_details(self):\n",
    "        pass\n",
    "    \n",
    "    @abc.abstractclassmethod\n",
    "    def student_assignment(self):\n",
    "        pass\n",
    "    \n",
    "    @abc.abstractclassmethod\n",
    "    def student_marks(self):\n",
    "        pass"
   ]
  },
  {
   "cell_type": "code",
   "execution_count": 88,
   "id": "08ec1262-5144-4b30-a69b-ff0d2fecabb7",
   "metadata": {},
   "outputs": [],
   "source": [
    "class student_detials(pwskills):\n",
    "    \n",
    "    def student_detials(self):\n",
    "        return \"This is a methos for taking student details\"\n",
    "    \n",
    "    def student_assignment(self):\n",
    "        return \"This is a method for assing details for a perticualt student\""
   ]
  },
  {
   "cell_type": "code",
   "execution_count": 90,
   "id": "f9501db1-4142-4a79-9749-bcea9ac13525",
   "metadata": {},
   "outputs": [],
   "source": [
    "class data_science_maters(pwskills):\n",
    "    def student_details(self):\n",
    "        return \"This will returs a student details for data science masters\"\n",
    "    \n",
    "    def student_assignment(self):\n",
    "        return \"This will give the details of assignment for data science masters\""
   ]
  },
  {
   "cell_type": "code",
   "execution_count": 92,
   "id": "594094c5-2d88-45ee-bee7-0b05d3ee9f00",
   "metadata": {},
   "outputs": [
    {
     "data": {
      "text/plain": [
       "'This will returs a student details for data science masters'"
      ]
     },
     "execution_count": 92,
     "metadata": {},
     "output_type": "execute_result"
    }
   ],
   "source": [
    "dsm = data_science_maters()\n",
    "dsm.student_details()"
   ]
  },
  {
   "cell_type": "code",
   "execution_count": 94,
   "id": "bc649d8f-da8f-4dfc-9880-e84b699e0bc0",
   "metadata": {},
   "outputs": [
    {
     "data": {
      "text/plain": [
       "'This is a methos for taking student details'"
      ]
     },
     "execution_count": 94,
     "metadata": {},
     "output_type": "execute_result"
    }
   ],
   "source": [
    "sd = student_detials()\n",
    "sd.student_detials()"
   ]
  },
  {
   "cell_type": "code",
   "execution_count": null,
   "id": "0aff07ee-ae26-46c6-8568-f92e75df5481",
   "metadata": {},
   "outputs": [],
   "source": []
  }
 ],
 "metadata": {
  "kernelspec": {
   "display_name": "Python 3 (ipykernel)",
   "language": "python",
   "name": "python3"
  },
  "language_info": {
   "codemirror_mode": {
    "name": "ipython",
    "version": 3
   },
   "file_extension": ".py",
   "mimetype": "text/x-python",
   "name": "python",
   "nbconvert_exporter": "python",
   "pygments_lexer": "ipython3",
   "version": "3.10.8"
  }
 },
 "nbformat": 4,
 "nbformat_minor": 5
}
