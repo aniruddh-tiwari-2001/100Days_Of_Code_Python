{
 "cells": [
  {
   "cell_type": "code",
   "execution_count": null,
   "id": "cebbc70f-abd0-4b34-98f4-be238cd19fb0",
   "metadata": {},
   "outputs": [],
   "source": []
  },
  {
   "cell_type": "markdown",
   "id": "d6a1cc96-89d2-423d-b125-c677d333b114",
   "metadata": {},
   "source": [
    "## **Problem 1:**\n",
    "\n",
    "Words that contain many consecutive consonants, like \"schtschurowskia\", are generally considered somewhat hard to pronounce.\n",
    "\n",
    "We say that a word is hard to pronounce if it contains 4 or more consonants in a row; otherwise, it is easy to pronounce. For example, \"apple\" and \"polish\" are easy to pronounce, but \"schtschurowskia\" is hard to pronounce.\n",
    "\n",
    "You are given a string **S** consisting of **N** lowercase Latin characters. Determine whether it is easy to pronounce or not based on the rule above — print \"YES\" if it is easy to pronounce and \"NO\" otherwise.\n",
    "\n",
    "For the purposes of this problem, the vowels are the characters {a, e, i, o, u} and the consonants are the other 21 characters.\n",
    "\n",
    "**Input Format:**\n",
    "\n",
    "The first line of input will contain a single integer **T**, denoting the number of test cases.\n",
    "\n",
    "Each test case consists of two lines of input.\n",
    "\n",
    "The first line of each test case contains a single integer **N**, the length of the string **S**.\n",
    "\n",
    "The second line of each test case contains the string **S**.\n",
    "\n",
    "**Output Format:**\n",
    "\n",
    "For each test case, output on a new line the answer — \"YES\" if **S** is easy to pronounce, and \"NO\" otherwise.\n",
    "\n",
    "Each character of the output may be printed in either uppercase or lowercase. For example, the strings \"YES\", \"yeS\", \"yes\", and \"YeS\" will all be treated as identical.\n",
    "\n",
    "**Constraints:**\n",
    "\n",
    "- 1 ≤ **T** ≤ 100\n",
    "- 1 ≤ **N** ≤ 100\n",
    "- **S** contains only lowercase Latin characters, i.e., the characters {a, b, c, ..., z}"
   ]
  },
  {
   "cell_type": "code",
   "execution_count": null,
   "id": "219f1614-a97c-4cd1-ab3c-5265a662957f",
   "metadata": {},
   "outputs": [
    {
     "name": "stdin",
     "output_type": "stream",
     "text": [
      " 1\n"
     ]
    }
   ],
   "source": [
    "for _ in range(int(input())):\n",
    "    n=int(input())\n",
    "    s = input()\n",
    "    count = 0\n",
    "    retult = False\n",
    "    for i in s:\n",
    "        if i not in ['a','e','i', 'o', 'u']:\n",
    "            count = count+1\n",
    "            if count>=4:\n",
    "                retult = True\n",
    "                break\n",
    "        else:\n",
    "            count = 0\n",
    "    if retult:\n",
    "        print(\"NO\")\n",
    "    else:\n",
    "        print(\"YES\")\n",
    "  "
   ]
  },
  {
   "cell_type": "markdown",
   "id": "f4e8a542-4849-4569-9473-265e73e07e81",
   "metadata": {},
   "source": [
    "## **Problem 2:**\n",
    "\n",
    "There is an ATM machine. Initially, it contains a total of **K** units of money. **N** peopl\"e (numbered 1 through **N**) want to withdraw money; for each valid **i**, the **i-th** person wants to withdraw **Ai** units of money.\n",
    "\n",
    "The people come in and try to withdraw money one by one, in the increasing order of their indices. Whenever someone tries to withdraw money, if the machine has at least the required amount of money, it will give out the required amount. Otherwise, it will throw an error and not give out anything; in that case, this person will return home directly without trying to do anything else.\n",
    "\n",
    "For each person, determine whether they will get the required amount of money or not.\n",
    "\n",
    "**Input:**\n",
    "\n",
    "The first line of the input contains a single integer **T** denoting the number of test cases. The description of **T** test cases follows.\n",
    "\n",
    "Each test case begins with a line containing two space-separated integers **N** and **K**.\n",
    "\n",
    "The second line of each test case contains **N** space-separated integers **A1, A2, ..., AN** representing the amounts of money each person wants to withdraw.\n",
    "\n",
    "**Output:**\n",
    "\n",
    "For each test case, print a single line containing a string with length **N**. For each valid **i**, the **i-th** character of this string should be '1' if the **i-th** person will successfully withdraw their money or '0' otherwise.\n",
    "\n",
    "**Constraints:**\n",
    "\n",
    "- 1 ≤ **T** ≤ 100\n",
    "- 1 ≤ **N** ≤ 100\n",
    "- 1 ≤ **Ai** ≤ 1,000,000 for each valid **i**\n",
    "- 1 ≤ **K** ≤ 1,000,000"
   ]
  },
  {
   "cell_type": "code",
   "execution_count": 7,
   "id": "ffb0bfe0-fb2d-4ef4-930c-f64db949cfc1",
   "metadata": {},
   "outputs": [
    {
     "name": "stdin",
     "output_type": "stream",
     "text": [
      " 2\n",
      " 5 10\n",
      " 4 6\n"
     ]
    },
    {
     "ename": "IndexError",
     "evalue": "list index out of range",
     "output_type": "error",
     "traceback": [
      "\u001b[0;31m---------------------------------------------------------------------------\u001b[0m",
      "\u001b[0;31mIndexError\u001b[0m                                Traceback (most recent call last)",
      "Cell \u001b[0;32mIn[7], line 8\u001b[0m\n\u001b[1;32m      6\u001b[0m \u001b[38;5;28;01mfor\u001b[39;00m i \u001b[38;5;129;01min\u001b[39;00m \u001b[38;5;28mrange\u001b[39m(n):\n\u001b[1;32m      7\u001b[0m     \u001b[38;5;28;01mif\u001b[39;00m i \u001b[38;5;241m<\u001b[39m\u001b[38;5;241m=\u001b[39m \u001b[38;5;28mlen\u001b[39m(amounts):\n\u001b[0;32m----> 8\u001b[0m         \u001b[38;5;28;01mif\u001b[39;00m \u001b[43mamounts\u001b[49m\u001b[43m[\u001b[49m\u001b[43mi\u001b[49m\u001b[43m]\u001b[49m \u001b[38;5;241m<\u001b[39m\u001b[38;5;241m=\u001b[39m remaining_balance:\n\u001b[1;32m      9\u001b[0m             remaining_balance \u001b[38;5;241m-\u001b[39m\u001b[38;5;241m=\u001b[39m amounts[i]\n\u001b[1;32m     10\u001b[0m             result\u001b[38;5;241m.\u001b[39mappend(\u001b[38;5;124m'\u001b[39m\u001b[38;5;124m1\u001b[39m\u001b[38;5;124m'\u001b[39m)\n",
      "\u001b[0;31mIndexError\u001b[0m: list index out of range"
     ]
    }
   ],
   "source": [
    "for _ in range(int(input())):\n",
    "    n, k = map(int, input().split())\n",
    "    amounts = list(map(int, input().split()))\n",
    "    result = []\n",
    "    remaining_balance = k\n",
    "    for i in range(n):\n",
    "        if i <= len(amounts):\n",
    "            if amounts[i] <= remaining_balance:\n",
    "                remaining_balance -= amounts[i]\n",
    "                result.append('1')\n",
    "        else:\n",
    "            result.append('0')\n",
    "    print(''.join(result))\n"
   ]
  },
  {
   "cell_type": "code",
   "execution_count": null,
   "id": "136e1ccc-d9fe-4373-bf51-dfbb5329c837",
   "metadata": {},
   "outputs": [],
   "source": []
  }
 ],
 "metadata": {
  "kernelspec": {
   "display_name": "Python 3 (ipykernel)",
   "language": "python",
   "name": "python3"
  },
  "language_info": {
   "codemirror_mode": {
    "name": "ipython",
    "version": 3
   },
   "file_extension": ".py",
   "mimetype": "text/x-python",
   "name": "python",
   "nbconvert_exporter": "python",
   "pygments_lexer": "ipython3",
   "version": "3.10.8"
  }
 },
 "nbformat": 4,
 "nbformat_minor": 5
}
