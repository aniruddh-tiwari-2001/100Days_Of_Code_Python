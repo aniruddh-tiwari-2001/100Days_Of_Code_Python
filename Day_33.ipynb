{
 "cells": [
  {
   "cell_type": "markdown",
   "id": "01b4730b-ed26-412e-89b9-3ca4518f2de5",
   "metadata": {},
   "source": [
    "# Day 33\n",
    "## Topic covered on Day 33:\n",
    "- webscraping\n",
    "     - Accessing product page through url or searching product page through url\n",
    "     - Reading the url data\n",
    "     - Read the data in Human redable formate using \"bs4 BeautifulSoup lib\n",
    "     - Getting all product url\n",
    "     - Getting the particular product url\n",
    "     - Finding the name of reviewer\n",
    "     - Finding review rating\n",
    "     - Finding review actual comment"
   ]
  },
  {
   "cell_type": "code",
   "execution_count": 1,
   "id": "6eacb363-214f-4169-837d-e058215bfe9f",
   "metadata": {},
   "outputs": [],
   "source": [
    "import requests\n",
    "from bs4 import BeautifulSoup as bs\n",
    "from urllib.request import urlopen\n",
    "import logging"
   ]
  },
  {
   "cell_type": "markdown",
   "id": "7fa255a7-afea-410e-a631-61468912b573",
   "metadata": {},
   "source": [
    "## Accessing through url or searching through url"
   ]
  },
  {
   "cell_type": "code",
   "execution_count": 2,
   "id": "7ea98597-7ead-45dd-9c74-11798eb0d97d",
   "metadata": {},
   "outputs": [],
   "source": [
    "flipcart_url = \"https://www.flipkart.com/search?q=\"+\"iphone14pro\""
   ]
  },
  {
   "cell_type": "code",
   "execution_count": 3,
   "id": "339f9f0a-0538-49a8-ba89-8b9f3043cf5f",
   "metadata": {},
   "outputs": [
    {
     "data": {
      "text/plain": [
       "'https://www.flipkart.com/search?q=iphone14pro'"
      ]
     },
     "execution_count": 3,
     "metadata": {},
     "output_type": "execute_result"
    }
   ],
   "source": [
    "flipcart_url"
   ]
  },
  {
   "cell_type": "markdown",
   "id": "36d24642-383b-44d7-b439-ad1db6be40f5",
   "metadata": {},
   "source": [
    "## Using urllib urlopen lib. for getting data without clicking on link directly getting data in system"
   ]
  },
  {
   "cell_type": "code",
   "execution_count": 4,
   "id": "dbf8a0f3-1b34-4102-9fdb-360e70765aba",
   "metadata": {},
   "outputs": [],
   "source": [
    "urlclient = urlopen(flipcart_url)"
   ]
  },
  {
   "cell_type": "code",
   "execution_count": 5,
   "id": "8aa420db-28d1-4986-aec4-59f40a5503e9",
   "metadata": {},
   "outputs": [
    {
     "data": {
      "text/plain": [
       "<http.client.HTTPResponse at 0x7ff8f448d9c0>"
      ]
     },
     "execution_count": 5,
     "metadata": {},
     "output_type": "execute_result"
    }
   ],
   "source": [
    "urlclient"
   ]
  },
  {
   "cell_type": "markdown",
   "id": "0743cd4d-3241-4764-909c-e5730bad47ba",
   "metadata": {
    "tags": []
   },
   "source": [
    "## Reading the url data"
   ]
  },
  {
   "cell_type": "code",
   "execution_count": 6,
   "id": "06965bcd-2fc0-4b3c-813c-7968cfdf1d9b",
   "metadata": {},
   "outputs": [],
   "source": [
    "flipcart_page = urlclient.read()"
   ]
  },
  {
   "cell_type": "code",
   "execution_count": 7,
   "id": "77c0feda-926e-4c18-9522-74e78244a19d",
   "metadata": {},
   "outputs": [],
   "source": [
    "# flipcart_page"
   ]
  },
  {
   "cell_type": "markdown",
   "id": "db0a9531-294d-459e-9211-672a28ce52fd",
   "metadata": {},
   "source": [
    "## Read the data in Human redable formate using \"bs4 BeautifulSoup lib\""
   ]
  },
  {
   "cell_type": "code",
   "execution_count": 8,
   "id": "ecd6f9b1-a3c3-4929-829d-c7d064a2246b",
   "metadata": {},
   "outputs": [],
   "source": [
    "flipcart_html = bs(flipcart_page,'html.parser')"
   ]
  },
  {
   "cell_type": "code",
   "execution_count": 9,
   "id": "bbb0e087-5085-49b7-9867-60284ed189ed",
   "metadata": {},
   "outputs": [],
   "source": [
    "# flipcart_html"
   ]
  },
  {
   "cell_type": "markdown",
   "id": "ebb92103-a360-46eb-bd84-0ca490e4d0ba",
   "metadata": {},
   "source": [
    "## Geting the perticular product from url on next page"
   ]
  },
  {
   "cell_type": "code",
   "execution_count": 10,
   "id": "030ae153-7e44-431f-85bb-eae8878f4369",
   "metadata": {},
   "outputs": [
    {
     "data": {
      "text/plain": [
       "'https://www.flipkart.com/apple-iphone-14-pro-silver-256-gb/p/itm769b7792c9a08?pid=MOBGHWFHW5BBUGP9&lid=LSTMOBGHWFHW5BBUGP99CWH4V&marketplace=FLIPKART&q=iphone14pro&store=tyy%2F4io&srno=s_1_3&otracker=search&fm=organic&iid=b99d58b8-aefa-4f48-8e2e-6dcc684ae075.MOBGHWFHW5BBUGP9.SEARCH&ppt=None&ppn=None&ssid=bpsh2hqzjk0000001688730662610&qH=1b57eea67220f216'"
      ]
     },
     "execution_count": 10,
     "metadata": {},
     "output_type": "execute_result"
    }
   ],
   "source": [
    "\"https://www.flipkart.com\"+\"/apple-iphone-14-pro-silver-256-gb/p/itm769b7792c9a08?pid=MOBGHWFHW5BBUGP9&lid=LSTMOBGHWFHW5BBUGP99CWH4V&marketplace=FLIPKART&q=iphone14pro&store=tyy%2F4io&srno=s_1_3&otracker=search&fm=organic&iid=b99d58b8-aefa-4f48-8e2e-6dcc684ae075.MOBGHWFHW5BBUGP9.SEARCH&ppt=None&ppn=None&ssid=bpsh2hqzjk0000001688730662610&qH=1b57eea67220f216\""
   ]
  },
  {
   "cell_type": "code",
   "execution_count": 11,
   "id": "b3dc795c-48da-436b-ac30-66a2fa8c641d",
   "metadata": {},
   "outputs": [],
   "source": [
    "## Bringing all porducts div from the page"
   ]
  },
  {
   "cell_type": "code",
   "execution_count": 12,
   "id": "c4c17ba4-aae0-411b-9c74-6e1d171a8330",
   "metadata": {},
   "outputs": [],
   "source": [
    "big_box= flipcart_html.find_all(\"div\",{\"class\":\"_1AtVbE col-12-12\"})"
   ]
  },
  {
   "cell_type": "code",
   "execution_count": 13,
   "id": "0f0434cb-8050-4516-9be4-a10467eca59f",
   "metadata": {},
   "outputs": [
    {
     "data": {
      "text/plain": [
       "29"
      ]
     },
     "execution_count": 13,
     "metadata": {},
     "output_type": "execute_result"
    }
   ],
   "source": [
    "len(big_box)"
   ]
  },
  {
   "cell_type": "code",
   "execution_count": 14,
   "id": "d7e1fd66-6d56-47ad-84e0-95c5e6ea175f",
   "metadata": {},
   "outputs": [],
   "source": [
    "del big_box[0:3]"
   ]
  },
  {
   "cell_type": "code",
   "execution_count": 15,
   "id": "0fce8359-4986-44dd-aaa2-e28751ac1a35",
   "metadata": {},
   "outputs": [],
   "source": [
    "## Finding the product url"
   ]
  },
  {
   "cell_type": "code",
   "execution_count": 16,
   "id": "5a6bb582-4ce7-453b-b8e2-98c1d79c03f6",
   "metadata": {},
   "outputs": [
    {
     "name": "stdout",
     "output_type": "stream",
     "text": [
      "https://www.flipkart.com/apple-iphone-14-pro-deep-purple-128-gb/p/itm75f73f63239fa?pid=MOBGHWFHYGAZRWFT&lid=LSTMOBGHWFHYGAZRWFT3ZMVDX&marketplace=FLIPKART&q=iphone14pro&store=tyy%2F4io&srno=s_1_2&otracker=search&fm=organic&iid=af2bea81-eb12-4d71-85bf-8f09264c2557.MOBGHWFHYGAZRWFT.SEARCH&ppt=None&ppn=None&ssid=dearuosits0000001688752454898&qH=1b57eea67220f216\n",
      "https://www.flipkart.com/apple-iphone-14-pro-silver-256-gb/p/itm769b7792c9a08?pid=MOBGHWFHW5BBUGP9&lid=LSTMOBGHWFHW5BBUGP99CWH4V&marketplace=FLIPKART&q=iphone14pro&store=tyy%2F4io&srno=s_1_3&otracker=search&fm=organic&iid=af2bea81-eb12-4d71-85bf-8f09264c2557.MOBGHWFHW5BBUGP9.SEARCH&ppt=None&ppn=None&ssid=dearuosits0000001688752454898&qH=1b57eea67220f216\n",
      "https://www.flipkart.com/apple-iphone-14-pro-gold-256-gb/p/itm9b3566b996597?pid=MOBGHWFHGGXGCRRP&lid=LSTMOBGHWFHGGXGCRRPYZW3DP&marketplace=FLIPKART&q=iphone14pro&store=tyy%2F4io&srno=s_1_4&otracker=search&fm=organic&iid=af2bea81-eb12-4d71-85bf-8f09264c2557.MOBGHWFHGGXGCRRP.SEARCH&ppt=None&ppn=None&ssid=dearuosits0000001688752454898&qH=1b57eea67220f216\n",
      "https://www.flipkart.com/apple-iphone-14-pro-silver-128-gb/p/itm6933eb5fb30fb?pid=MOBGHWFHGQGUHWRK&lid=LSTMOBGHWFHGQGUHWRKGU5JN5&marketplace=FLIPKART&q=iphone14pro&store=tyy%2F4io&srno=s_1_5&otracker=search&fm=organic&iid=af2bea81-eb12-4d71-85bf-8f09264c2557.MOBGHWFHGQGUHWRK.SEARCH&ppt=None&ppn=None&ssid=dearuosits0000001688752454898&qH=1b57eea67220f216\n",
      "https://www.flipkart.com/apple-iphone-14-pro-gold-128-gb/p/itme5895e593585d?pid=MOBGHWFHXPC3NFFY&lid=LSTMOBGHWFHXPC3NFFYC5Y9VU&marketplace=FLIPKART&q=iphone14pro&store=tyy%2F4io&srno=s_1_6&otracker=search&fm=organic&iid=af2bea81-eb12-4d71-85bf-8f09264c2557.MOBGHWFHXPC3NFFY.SEARCH&ppt=None&ppn=None&ssid=dearuosits0000001688752454898&qH=1b57eea67220f216\n",
      "https://www.flipkart.com/apple-iphone-14-pro-space-black-256-gb/p/itmbf9b9d0d108a7?pid=MOBGHWFHMSKYWVTR&lid=LSTMOBGHWFHMSKYWVTRKZV7U3&marketplace=FLIPKART&q=iphone14pro&store=tyy%2F4io&srno=s_1_7&otracker=search&fm=organic&iid=af2bea81-eb12-4d71-85bf-8f09264c2557.MOBGHWFHMSKYWVTR.SEARCH&ppt=None&ppn=None&ssid=dearuosits0000001688752454898&qH=1b57eea67220f216\n",
      "https://www.flipkart.com/apple-iphone-14-pro-silver-512-gb/p/itm7e2568f4b25ad?pid=MOBGHWFHYTAUDTNG&lid=LSTMOBGHWFHYTAUDTNGS2ZXK3&marketplace=FLIPKART&q=iphone14pro&store=tyy%2F4io&srno=s_1_8&otracker=search&fm=organic&iid=af2bea81-eb12-4d71-85bf-8f09264c2557.MOBGHWFHYTAUDTNG.SEARCH&ppt=None&ppn=None&ssid=dearuosits0000001688752454898&qH=1b57eea67220f216\n",
      "https://www.flipkart.com/apple-iphone-14-pro-space-black-1-tb/p/itm753a220ef7086?pid=MOBGHWFHYNZZ7RBP&lid=LSTMOBGHWFHYNZZ7RBPLYLBZW&marketplace=FLIPKART&q=iphone14pro&store=tyy%2F4io&srno=s_1_9&otracker=search&fm=organic&iid=af2bea81-eb12-4d71-85bf-8f09264c2557.MOBGHWFHYNZZ7RBP.SEARCH&ppt=None&ppn=None&ssid=dearuosits0000001688752454898&qH=1b57eea67220f216\n",
      "https://www.flipkart.com/apple-iphone-14-pro-gold-512-gb/p/itm2baef06bbd342?pid=MOBGHWFHN8TWTXJA&lid=LSTMOBGHWFHN8TWTXJA9FZGC7&marketplace=FLIPKART&q=iphone14pro&store=tyy%2F4io&srno=s_1_10&otracker=search&fm=organic&iid=af2bea81-eb12-4d71-85bf-8f09264c2557.MOBGHWFHN8TWTXJA.SEARCH&ppt=None&ppn=None&ssid=dearuosits0000001688752454898&qH=1b57eea67220f216\n",
      "https://www.flipkart.com/apple-iphone-14-pro-gold-1-tb/p/itm02b2bc7f8c906?pid=MOBGHWFHT5RCQ9QG&lid=LSTMOBGHWFHT5RCQ9QGQBAXQ9&marketplace=FLIPKART&q=iphone14pro&store=tyy%2F4io&srno=s_1_11&otracker=search&fm=organic&iid=af2bea81-eb12-4d71-85bf-8f09264c2557.MOBGHWFHT5RCQ9QG.SEARCH&ppt=None&ppn=None&ssid=dearuosits0000001688752454898&qH=1b57eea67220f216\n",
      "https://www.flipkart.com/apple-iphone-14-pro-silver-1-tb/p/itm87b6f4daf8cd0?pid=MOBGHWFHSY5K7VGA&lid=LSTMOBGHWFHSY5K7VGAM3MJJG&marketplace=FLIPKART&q=iphone14pro&store=tyy%2F4io&srno=s_1_12&otracker=search&fm=organic&iid=af2bea81-eb12-4d71-85bf-8f09264c2557.MOBGHWFHSY5K7VGA.SEARCH&ppt=None&ppn=None&ssid=dearuosits0000001688752454898&qH=1b57eea67220f216\n",
      "https://www.flipkart.com/apple-iphone-14-pro-deep-purple-512-gb/p/itm8b019143e0c10?pid=MOBGHWFH9YZ9HBFP&lid=LSTMOBGHWFH9YZ9HBFPI1L29L&marketplace=FLIPKART&q=iphone14pro&store=tyy%2F4io&srno=s_1_13&otracker=search&fm=organic&iid=af2bea81-eb12-4d71-85bf-8f09264c2557.MOBGHWFH9YZ9HBFP.SEARCH&ppt=None&ppn=None&ssid=dearuosits0000001688752454898&qH=1b57eea67220f216\n",
      "https://www.flipkart.com/apple-iphone-14-pro-max-deep-purple-128-gb/p/itm5256789ae40c7?pid=MOBGHWFHCWHXRZZJ&lid=LSTMOBGHWFHCWHXRZZJ9EECH5&marketplace=FLIPKART&q=iphone14pro&store=tyy%2F4io&srno=s_1_14&otracker=search&fm=organic&iid=af2bea81-eb12-4d71-85bf-8f09264c2557.MOBGHWFHCWHXRZZJ.SEARCH&ppt=None&ppn=None&ssid=dearuosits0000001688752454898&qH=1b57eea67220f216\n",
      "https://www.flipkart.com/apple-iphone-14-pro-max-gold-128-gb/p/itm898d084d8a65f?pid=MOBGHWFHGDS3H5S9&lid=LSTMOBGHWFHGDS3H5S9AM0G7C&marketplace=FLIPKART&q=iphone14pro&store=tyy%2F4io&spotlightTagId=FkPickId_tyy%2F4io&srno=s_1_15&otracker=search&fm=organic&iid=af2bea81-eb12-4d71-85bf-8f09264c2557.MOBGHWFHGDS3H5S9.SEARCH&ppt=None&ppn=None&ssid=dearuosits0000001688752454898&qH=1b57eea67220f216\n",
      "https://www.flipkart.com/apple-iphone-14-pro-max-space-black-128-gb/p/itm9aed88fe43457?pid=MOBGHWFHCNVGGMZF&lid=LSTMOBGHWFHCNVGGMZFEEIZN3&marketplace=FLIPKART&q=iphone14pro&store=tyy%2F4io&srno=s_1_16&otracker=search&fm=organic&iid=af2bea81-eb12-4d71-85bf-8f09264c2557.MOBGHWFHCNVGGMZF.SEARCH&ppt=None&ppn=None&ssid=dearuosits0000001688752454898&qH=1b57eea67220f216\n",
      "https://www.flipkart.com/apple-iphone-14-pro-max-silver-128-gb/p/itmb520f3bdf56d5?pid=MOBGHWFHXFGNUZJA&lid=LSTMOBGHWFHXFGNUZJAMNTG4B&marketplace=FLIPKART&q=iphone14pro&store=tyy%2F4io&srno=s_1_17&otracker=search&fm=organic&iid=af2bea81-eb12-4d71-85bf-8f09264c2557.MOBGHWFHXFGNUZJA.SEARCH&ppt=None&ppn=None&ssid=dearuosits0000001688752454898&qH=1b57eea67220f216\n",
      "https://www.flipkart.com/apple-iphone-14-pro-max-silver-512-gb/p/itm450e8757732f9?pid=MOBGHWFHEQA2GSCS&lid=LSTMOBGHWFHEQA2GSCSPHDU4P&marketplace=FLIPKART&q=iphone14pro&store=tyy%2F4io&spotlightTagId=TrendingId_tyy%2F4io&srno=s_1_18&otracker=search&fm=organic&iid=af2bea81-eb12-4d71-85bf-8f09264c2557.MOBGHWFHEQA2GSCS.SEARCH&ppt=None&ppn=None&ssid=dearuosits0000001688752454898&qH=1b57eea67220f216\n",
      "https://www.flipkart.com/apple-iphone-14-pro-max-silver-1-tb/p/itm674918cf10f1d?pid=MOBGHWFHHURZWVKE&lid=LSTMOBGHWFHHURZWVKEHJCEFO&marketplace=FLIPKART&q=iphone14pro&store=tyy%2F4io&srno=s_1_19&otracker=search&fm=organic&iid=af2bea81-eb12-4d71-85bf-8f09264c2557.MOBGHWFHHURZWVKE.SEARCH&ppt=None&ppn=None&ssid=dearuosits0000001688752454898&qH=1b57eea67220f216\n",
      "https://www.flipkart.com/apple-iphone-14-pro-max-gold-256-gb/p/itmd21bfa03be8c2?pid=MOBGHWFHZVHJM4HZ&lid=LSTMOBGHWFHZVHJM4HZFPEJ62&marketplace=FLIPKART&q=iphone14pro&store=tyy%2F4io&srno=s_1_20&otracker=search&fm=organic&iid=af2bea81-eb12-4d71-85bf-8f09264c2557.MOBGHWFHZVHJM4HZ.SEARCH&ppt=None&ppn=None&ssid=dearuosits0000001688752454898&qH=1b57eea67220f216\n",
      "https://www.flipkart.com/apple-iphone-14-pro-deep-purple-256-gb/p/itmfbeb0684432d7?pid=MOBGHWFHR4ZYUPH5&lid=LSTMOBGHWFHR4ZYUPH5XVPV0K&marketplace=FLIPKART&q=iphone14pro&store=tyy%2F4io&srno=s_1_21&otracker=search&fm=organic&iid=af2bea81-eb12-4d71-85bf-8f09264c2557.MOBGHWFHR4ZYUPH5.SEARCH&ppt=None&ppn=None&ssid=dearuosits0000001688752454898&qH=1b57eea67220f216\n",
      "https://www.flipkart.com/apple-iphone-14-pro-space-black-512-gb/p/itm67843bf67dbae?pid=MOBGHWFHH9JVZK6Z&lid=LSTMOBGHWFHH9JVZK6ZJ4HT4L&marketplace=FLIPKART&q=iphone14pro&store=tyy%2F4io&srno=s_1_22&otracker=search&fm=organic&iid=af2bea81-eb12-4d71-85bf-8f09264c2557.MOBGHWFHH9JVZK6Z.SEARCH&ppt=None&ppn=None&ssid=dearuosits0000001688752454898&qH=1b57eea67220f216\n",
      "https://www.flipkart.com/apple-iphone-14-pro-deep-purple-1-tb/p/itm7c1a62ebc5ecc?pid=MOBGHWFHEUDJH7TG&lid=LSTMOBGHWFHEUDJH7TGHCCLIH&marketplace=FLIPKART&q=iphone14pro&store=tyy%2F4io&srno=s_1_23&otracker=search&fm=organic&iid=af2bea81-eb12-4d71-85bf-8f09264c2557.MOBGHWFHEUDJH7TG.SEARCH&ppt=None&ppn=None&ssid=dearuosits0000001688752454898&qH=1b57eea67220f216\n",
      "https://www.flipkart.com/apple-iphone-14-pro-max-deep-purple-256-gb/p/itm5d37f9e956ec7?pid=MOBGHWFHKTTFUQEH&lid=LSTMOBGHWFHKTTFUQEHOOGMRO&marketplace=FLIPKART&q=iphone14pro&store=tyy%2F4io&srno=s_1_24&otracker=search&fm=organic&iid=af2bea81-eb12-4d71-85bf-8f09264c2557.MOBGHWFHKTTFUQEH.SEARCH&ppt=None&ppn=None&ssid=dearuosits0000001688752454898&qH=1b57eea67220f216\n"
     ]
    },
    {
     "ename": "AttributeError",
     "evalue": "'NoneType' object has no attribute 'a'",
     "output_type": "error",
     "traceback": [
      "\u001b[0;31m---------------------------------------------------------------------------\u001b[0m",
      "\u001b[0;31mAttributeError\u001b[0m                            Traceback (most recent call last)",
      "Cell \u001b[0;32mIn[16], line 2\u001b[0m\n\u001b[1;32m      1\u001b[0m \u001b[38;5;28;01mfor\u001b[39;00m i \u001b[38;5;129;01min\u001b[39;00m big_box:\n\u001b[0;32m----> 2\u001b[0m     \u001b[38;5;28mprint\u001b[39m(\u001b[38;5;124m\"\u001b[39m\u001b[38;5;124mhttps://www.flipkart.com\u001b[39m\u001b[38;5;124m\"\u001b[39m\u001b[38;5;241m+\u001b[39m\u001b[43mi\u001b[49m\u001b[38;5;241;43m.\u001b[39;49m\u001b[43mdiv\u001b[49m\u001b[38;5;241;43m.\u001b[39;49m\u001b[43mdiv\u001b[49m\u001b[38;5;241;43m.\u001b[39;49m\u001b[43mdiv\u001b[49m\u001b[38;5;241;43m.\u001b[39;49m\u001b[43ma\u001b[49m[\u001b[38;5;124m'\u001b[39m\u001b[38;5;124mhref\u001b[39m\u001b[38;5;124m'\u001b[39m])\n",
      "\u001b[0;31mAttributeError\u001b[0m: 'NoneType' object has no attribute 'a'"
     ]
    }
   ],
   "source": [
    "for i in big_box:\n",
    "    print(\"https://www.flipkart.com\"+i.div.div.div.a['href'])"
   ]
  },
  {
   "cell_type": "code",
   "execution_count": 17,
   "id": "7cf17772-164a-40c2-9d48-70197c8ad758",
   "metadata": {},
   "outputs": [],
   "source": [
    "product_link = \"https://www.flipkart.com\"+big_box[3].div.div.div.a['href']"
   ]
  },
  {
   "cell_type": "code",
   "execution_count": 18,
   "id": "4b546ac0-7f19-425a-aedb-6b96152b149c",
   "metadata": {},
   "outputs": [
    {
     "data": {
      "text/plain": [
       "'https://www.flipkart.com/apple-iphone-14-pro-silver-128-gb/p/itm6933eb5fb30fb?pid=MOBGHWFHGQGUHWRK&lid=LSTMOBGHWFHGQGUHWRKGU5JN5&marketplace=FLIPKART&q=iphone14pro&store=tyy%2F4io&srno=s_1_5&otracker=search&fm=organic&iid=af2bea81-eb12-4d71-85bf-8f09264c2557.MOBGHWFHGQGUHWRK.SEARCH&ppt=None&ppn=None&ssid=dearuosits0000001688752454898&qH=1b57eea67220f216'"
      ]
     },
     "execution_count": 18,
     "metadata": {},
     "output_type": "execute_result"
    }
   ],
   "source": [
    "product_link"
   ]
  },
  {
   "cell_type": "code",
   "execution_count": 19,
   "id": "15b7660b-fcd4-40c4-9a23-5035cc17bfbe",
   "metadata": {},
   "outputs": [],
   "source": [
    "produt_request = requests.get(product_link)"
   ]
  },
  {
   "cell_type": "code",
   "execution_count": 20,
   "id": "a30bf515-48d1-48fa-87c4-b726c9f21e3a",
   "metadata": {},
   "outputs": [],
   "source": [
    "product_html = bs(produt_request.text,'html.parser')"
   ]
  },
  {
   "cell_type": "code",
   "execution_count": 21,
   "id": "40831414-661d-4856-96ed-97367341d811",
   "metadata": {},
   "outputs": [],
   "source": [
    "find_review = product_html.find_all(\"div\",{\"class\":\"_16PBlm\"})"
   ]
  },
  {
   "cell_type": "code",
   "execution_count": 22,
   "id": "4b5590ef-7469-42d6-a65c-48c710f6dfd8",
   "metadata": {},
   "outputs": [
    {
     "data": {
      "text/plain": [
       "11"
      ]
     },
     "execution_count": 22,
     "metadata": {},
     "output_type": "execute_result"
    }
   ],
   "source": [
    "len(find_review)"
   ]
  },
  {
   "cell_type": "markdown",
   "id": "37a275f3-f1c8-468a-8b98-ff91e594fc18",
   "metadata": {},
   "source": [
    "## Finding the name of reviewer"
   ]
  },
  {
   "cell_type": "code",
   "execution_count": 23,
   "id": "17afd0a8-fb93-4eea-a9a7-bfc8dcefdeee",
   "metadata": {},
   "outputs": [
    {
     "data": {
      "text/plain": [
       "'Gautam Aggarwal'"
      ]
     },
     "execution_count": 23,
     "metadata": {},
     "output_type": "execute_result"
    }
   ],
   "source": [
    "find_review[0].div.div.find_all('p',{\"class\":\"_2sc7ZR _2V5EHH\"})[0].text"
   ]
  },
  {
   "cell_type": "code",
   "execution_count": 24,
   "id": "9ed227c3-20bd-4fdd-b038-4c713bdc4ed5",
   "metadata": {},
   "outputs": [
    {
     "name": "stdout",
     "output_type": "stream",
     "text": [
      "Gautam Aggarwal\n",
      "Neelendra  Singh\n",
      "Sarvesh Saxena\n",
      "Karthik Kommoju\n",
      "Salman khan\n",
      "Flipkart Customer\n",
      "Debasish Rout\n",
      "Abhishek  Yadav\n",
      "Vaibhav Agrawal\n",
      "shringin ambli\n"
     ]
    },
    {
     "ename": "AttributeError",
     "evalue": "'NoneType' object has no attribute 'div'",
     "output_type": "error",
     "traceback": [
      "\u001b[0;31m---------------------------------------------------------------------------\u001b[0m",
      "\u001b[0;31mAttributeError\u001b[0m                            Traceback (most recent call last)",
      "Cell \u001b[0;32mIn[24], line 2\u001b[0m\n\u001b[1;32m      1\u001b[0m \u001b[38;5;28;01mfor\u001b[39;00m i \u001b[38;5;129;01min\u001b[39;00m find_review:\n\u001b[0;32m----> 2\u001b[0m     \u001b[38;5;28mprint\u001b[39m(\u001b[43mi\u001b[49m\u001b[38;5;241;43m.\u001b[39;49m\u001b[43mdiv\u001b[49m\u001b[38;5;241;43m.\u001b[39;49m\u001b[43mdiv\u001b[49m\u001b[38;5;241m.\u001b[39mfind_all(\u001b[38;5;124m'\u001b[39m\u001b[38;5;124mp\u001b[39m\u001b[38;5;124m'\u001b[39m,{\u001b[38;5;124m\"\u001b[39m\u001b[38;5;124mclass\u001b[39m\u001b[38;5;124m\"\u001b[39m:\u001b[38;5;124m\"\u001b[39m\u001b[38;5;124m_2sc7ZR _2V5EHH\u001b[39m\u001b[38;5;124m\"\u001b[39m})[\u001b[38;5;241m0\u001b[39m]\u001b[38;5;241m.\u001b[39mtext)\n",
      "\u001b[0;31mAttributeError\u001b[0m: 'NoneType' object has no attribute 'div'"
     ]
    }
   ],
   "source": [
    "for i in find_review:\n",
    "    print(i.div.div.find_all('p',{\"class\":\"_2sc7ZR _2V5EHH\"})[0].text)"
   ]
  },
  {
   "cell_type": "markdown",
   "id": "0c3cdc7c-b624-4b0c-9cb7-926bd6ddb672",
   "metadata": {},
   "source": [
    "## Finding reviwe rating"
   ]
  },
  {
   "cell_type": "code",
   "execution_count": 25,
   "id": "d0ecefdb-abe8-4a75-bd9b-6c696c8593e1",
   "metadata": {},
   "outputs": [
    {
     "data": {
      "text/plain": [
       "'5'"
      ]
     },
     "execution_count": 25,
     "metadata": {},
     "output_type": "execute_result"
    }
   ],
   "source": [
    "find_review[0].div.div.div.div.text"
   ]
  },
  {
   "cell_type": "code",
   "execution_count": 26,
   "id": "f435abe5-1bb7-4209-9e06-148b364b0e07",
   "metadata": {},
   "outputs": [
    {
     "name": "stdout",
     "output_type": "stream",
     "text": [
      "5\n",
      "5\n",
      "5\n",
      "5\n",
      "5\n",
      "5\n",
      "5\n",
      "5\n",
      "5\n",
      "5\n"
     ]
    },
    {
     "ename": "AttributeError",
     "evalue": "'NoneType' object has no attribute 'div'",
     "output_type": "error",
     "traceback": [
      "\u001b[0;31m---------------------------------------------------------------------------\u001b[0m",
      "\u001b[0;31mAttributeError\u001b[0m                            Traceback (most recent call last)",
      "Cell \u001b[0;32mIn[26], line 2\u001b[0m\n\u001b[1;32m      1\u001b[0m \u001b[38;5;28;01mfor\u001b[39;00m i \u001b[38;5;129;01min\u001b[39;00m find_review:\n\u001b[0;32m----> 2\u001b[0m     \u001b[38;5;28mprint\u001b[39m(\u001b[43mi\u001b[49m\u001b[38;5;241;43m.\u001b[39;49m\u001b[43mdiv\u001b[49m\u001b[38;5;241;43m.\u001b[39;49m\u001b[43mdiv\u001b[49m\u001b[38;5;241m.\u001b[39mdiv\u001b[38;5;241m.\u001b[39mdiv\u001b[38;5;241m.\u001b[39mtext)\n",
      "\u001b[0;31mAttributeError\u001b[0m: 'NoneType' object has no attribute 'div'"
     ]
    }
   ],
   "source": [
    "for i in find_review:\n",
    "    print(i.div.div.div.div.text)"
   ]
  },
  {
   "cell_type": "markdown",
   "id": "f4ee5544-944e-48f3-9126-7096b4da5b86",
   "metadata": {},
   "source": [
    "## Finding reviwe Header"
   ]
  },
  {
   "cell_type": "code",
   "execution_count": 27,
   "id": "7ad3e368-ab0d-460c-af0f-55a311445c60",
   "metadata": {},
   "outputs": [
    {
     "data": {
      "text/plain": [
       "'Brilliant'"
      ]
     },
     "execution_count": 27,
     "metadata": {},
     "output_type": "execute_result"
    }
   ],
   "source": [
    "find_review[0].div.div.div.find_all('p',{\"class\":\"_2-N8zT\"})[0].text"
   ]
  },
  {
   "cell_type": "code",
   "execution_count": 28,
   "id": "64ccef91-8c43-491e-b30c-6310966188e5",
   "metadata": {},
   "outputs": [
    {
     "name": "stdout",
     "output_type": "stream",
     "text": [
      "Brilliant\n",
      "Just wow!\n",
      "Wonderful\n",
      "Classy product\n",
      "Brilliant\n",
      "Worth every penny\n",
      "Excellent\n",
      "Fabulous!\n",
      "Highly recommended\n",
      "Great product\n"
     ]
    },
    {
     "ename": "AttributeError",
     "evalue": "'NoneType' object has no attribute 'div'",
     "output_type": "error",
     "traceback": [
      "\u001b[0;31m---------------------------------------------------------------------------\u001b[0m",
      "\u001b[0;31mAttributeError\u001b[0m                            Traceback (most recent call last)",
      "Cell \u001b[0;32mIn[28], line 2\u001b[0m\n\u001b[1;32m      1\u001b[0m \u001b[38;5;28;01mfor\u001b[39;00m i \u001b[38;5;129;01min\u001b[39;00m find_review:\n\u001b[0;32m----> 2\u001b[0m     \u001b[38;5;28mprint\u001b[39m(\u001b[43mi\u001b[49m\u001b[38;5;241;43m.\u001b[39;49m\u001b[43mdiv\u001b[49m\u001b[38;5;241;43m.\u001b[39;49m\u001b[43mdiv\u001b[49m\u001b[38;5;241m.\u001b[39mdiv\u001b[38;5;241m.\u001b[39mfind_all(\u001b[38;5;124m'\u001b[39m\u001b[38;5;124mp\u001b[39m\u001b[38;5;124m'\u001b[39m,{\u001b[38;5;124m\"\u001b[39m\u001b[38;5;124mclass\u001b[39m\u001b[38;5;124m\"\u001b[39m:\u001b[38;5;124m\"\u001b[39m\u001b[38;5;124m_2-N8zT\u001b[39m\u001b[38;5;124m\"\u001b[39m})[\u001b[38;5;241m0\u001b[39m]\u001b[38;5;241m.\u001b[39mtext)\n",
      "\u001b[0;31mAttributeError\u001b[0m: 'NoneType' object has no attribute 'div'"
     ]
    }
   ],
   "source": [
    "for i in find_review:\n",
    "    print(i.div.div.div.find_all('p',{\"class\":\"_2-N8zT\"})[0].text)"
   ]
  },
  {
   "cell_type": "markdown",
   "id": "5c372df7-6d0c-475c-88da-1484d36fcf4f",
   "metadata": {},
   "source": [
    "## Finding reviwe acctual comment"
   ]
  },
  {
   "cell_type": "code",
   "execution_count": 29,
   "id": "a02989f1-e5d7-4bf4-9304-e37689bbd03e",
   "metadata": {},
   "outputs": [
    {
     "data": {
      "text/plain": [
       "\"Fantastic product even though it's just an iterative upgrade to iphone 13 pro. The deep purple looks purple when the light hits the phone a certain way and it's beautiful. Dynamic island is very practical and useful. Hopefully it will get better when 3rd party developers start making use of it.Flipkart's delivery was quick and hassle free. The order was delivered on the launch date and was packed well.\""
      ]
     },
     "execution_count": 29,
     "metadata": {},
     "output_type": "execute_result"
    }
   ],
   "source": [
    "find_review[0].div.div.find_all('div',{'class':''})[0].div.text"
   ]
  },
  {
   "cell_type": "code",
   "execution_count": 30,
   "id": "e975b8da-5fd2-4028-8522-39db6e1f7551",
   "metadata": {},
   "outputs": [
    {
     "name": "stdout",
     "output_type": "stream",
     "text": [
      "Fantastic product even though it's just an iterative upgrade to iphone 13 pro. The deep purple looks purple when the light hits the phone a certain way and it's beautiful. Dynamic island is very practical and useful. Hopefully it will get better when 3rd party developers start making use of it.Flipkart's delivery was quick and hassle free. The order was delivered on the launch date and was packed well.\n",
      "Worth the Money✨Brilliant life batteryThe wallpaper and customisation updates are awesomeThe camera clicks a very clear picEkart made a super fast delivery👍Thanks Ekart!\n",
      "Upgraded from iPhone 11 pro to iPhone 14 pro, awesome phone camera, Display quality good very fast delivery.⭐️⭐️⭐️⭐️⭐️\n",
      "iPhone 14 pro is definitely a premium device with exceptional camera and solid build quality with excellent design. The phone definitely weighs more compared to regular 13 and 14. The dynamic island is useful in many cases and some apps are making use of this feature really well with great animations especially swiggy. Loved the in hand feel of the mobile. Compact in size and easy to use with one hand\n",
      "Just WOW!! Best in all segment!!\n",
      "CAMERA IS SUPERB\n",
      "Upgraded from XR to 14 pro, amazing phone with advanced features limited to just pro models, stock availability is too low. Got mine by luck!If youre upgrading from iPhone 11 /11 pro  and below you'll love the update\n",
      "More than expected! Battery backup has exceptionally increased ⚡️Absolutely over priced but worth it🔥\n",
      "Great and real product. Absolutely trustworthy seller with the best price drop available in the market.\n",
      "Super phone. Best price when I bought. Super experience with amazing camera.\n"
     ]
    },
    {
     "ename": "AttributeError",
     "evalue": "'NoneType' object has no attribute 'div'",
     "output_type": "error",
     "traceback": [
      "\u001b[0;31m---------------------------------------------------------------------------\u001b[0m",
      "\u001b[0;31mAttributeError\u001b[0m                            Traceback (most recent call last)",
      "Cell \u001b[0;32mIn[30], line 2\u001b[0m\n\u001b[1;32m      1\u001b[0m \u001b[38;5;28;01mfor\u001b[39;00m i \u001b[38;5;129;01min\u001b[39;00m find_review:\n\u001b[0;32m----> 2\u001b[0m     \u001b[38;5;28mprint\u001b[39m(\u001b[43mi\u001b[49m\u001b[38;5;241;43m.\u001b[39;49m\u001b[43mdiv\u001b[49m\u001b[38;5;241;43m.\u001b[39;49m\u001b[43mdiv\u001b[49m\u001b[38;5;241m.\u001b[39mfind_all(\u001b[38;5;124m'\u001b[39m\u001b[38;5;124mdiv\u001b[39m\u001b[38;5;124m'\u001b[39m,{\u001b[38;5;124m'\u001b[39m\u001b[38;5;124mclass\u001b[39m\u001b[38;5;124m'\u001b[39m:\u001b[38;5;124m'\u001b[39m\u001b[38;5;124m'\u001b[39m})[\u001b[38;5;241m0\u001b[39m]\u001b[38;5;241m.\u001b[39mdiv\u001b[38;5;241m.\u001b[39mtext)\n",
      "\u001b[0;31mAttributeError\u001b[0m: 'NoneType' object has no attribute 'div'"
     ]
    }
   ],
   "source": [
    "for i in find_review:\n",
    "    print(i.div.div.find_all('div',{'class':''})[0].div.text)"
   ]
  }
 ],
 "metadata": {
  "kernelspec": {
   "display_name": "Python 3 (ipykernel)",
   "language": "python",
   "name": "python3"
  },
  "language_info": {
   "codemirror_mode": {
    "name": "ipython",
    "version": 3
   },
   "file_extension": ".py",
   "mimetype": "text/x-python",
   "name": "python",
   "nbconvert_exporter": "python",
   "pygments_lexer": "ipython3",
   "version": "3.10.8"
  }
 },
 "nbformat": 4,
 "nbformat_minor": 5
}
