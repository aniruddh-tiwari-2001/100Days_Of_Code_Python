{
 "cells": [
  {
   "cell_type": "markdown",
   "id": "161c43f0-15ef-4935-bbf8-9c713440a63a",
   "metadata": {},
   "source": [
    "# Day 16\n",
    "## Topics going to be cover in Day 16\n",
    "- Solve some codechef problems"
   ]
  },
  {
   "cell_type": "markdown",
   "id": "f3270834-0f4b-41d5-99af-23228992c871",
   "metadata": {},
   "source": [
    "### Problem 1:\n",
    "Chef has been working hard to compete in MasterChef. He is ranked X out of all contestants. However, only 10 contestants would be selected for the finals. Check whether Chef made it to the top 10 or not?\n",
    "\n",
    "Input Format:\n",
    "The first line of input will contain a single integer T, denoting the number of test cases.\n",
    "Each test case consists of one integer X — the current rank of Chef.\n",
    "\n",
    "Output Format:\n",
    "For each test case, output on a new line, \"YES\" if Chef made it to the top 10 and \"NO\" otherwise.\n",
    "\n",
    "Note: Each character of the output may be printed in either uppercase or lowercase. That is, the strings \"NO\", \"no\", \"nO\", and \"No\" will be treated as equivalent.\n",
    "\n",
    "Constraints:\n",
    "1 ≤ T ≤ 100\n",
    "1 ≤ X ≤ 100"
   ]
  },
  {
   "cell_type": "code",
   "execution_count": 2,
   "id": "f7c13b12-91bd-4d3e-b455-0834b18b6653",
   "metadata": {},
   "outputs": [
    {
     "name": "stdin",
     "output_type": "stream",
     "text": [
      " 4\n",
      " 15\n"
     ]
    },
    {
     "name": "stdout",
     "output_type": "stream",
     "text": [
      "NO\n"
     ]
    },
    {
     "name": "stdin",
     "output_type": "stream",
     "text": [
      " 10\n"
     ]
    },
    {
     "name": "stdout",
     "output_type": "stream",
     "text": [
      "YES\n"
     ]
    },
    {
     "name": "stdin",
     "output_type": "stream",
     "text": [
      " 1\n"
     ]
    },
    {
     "name": "stdout",
     "output_type": "stream",
     "text": [
      "YES\n"
     ]
    },
    {
     "name": "stdin",
     "output_type": "stream",
     "text": [
      " 50\n"
     ]
    },
    {
     "name": "stdout",
     "output_type": "stream",
     "text": [
      "NO\n"
     ]
    }
   ],
   "source": [
    "t = int(input())\n",
    "for i in range(t):\n",
    "    x = int(input())\n",
    "    if x<=10:\n",
    "        print('YES')\n",
    "    else:\n",
    "        print('NO')"
   ]
  },
  {
   "cell_type": "markdown",
   "id": "ed50617f-06e4-4359-b152-cffbf53b3013",
   "metadata": {},
   "source": [
    "### Problem 2:\n",
    "According to a recent survey, Biryani is the most ordered food. Chef wants to learn how to make world-class Biryani from a MasterChef. Chef will be required to attend the MasterChef's classes for X weeks, and the cost of classes per week is Y coins. What is the total amount of money that Chef will have to pay?\n",
    "\n",
    "Input Format:\n",
    "The first line of input will contain an integer T — the number of test cases. The description of T test cases follows.\n",
    "The first and only line of each test case contains two space-separated integers X and Y, as described in the problem statement.\n",
    "\n",
    "Output Format:\n",
    "For each test case, output on a new line the total amount of money that Chef will have to pay.\n",
    "\n",
    "Constraints:\n",
    "1 ≤ T ≤ 10^4\n",
    "1 ≤ X, Y ≤ 100"
   ]
  },
  {
   "cell_type": "code",
   "execution_count": 5,
   "id": "c0f5a04d-9548-4066-b050-4a5edf7b3485",
   "metadata": {},
   "outputs": [
    {
     "name": "stdin",
     "output_type": "stream",
     "text": [
      " 4\n",
      " 1 10\n"
     ]
    },
    {
     "name": "stdout",
     "output_type": "stream",
     "text": [
      "10\n"
     ]
    },
    {
     "name": "stdin",
     "output_type": "stream",
     "text": [
      " 1 15\n"
     ]
    },
    {
     "name": "stdout",
     "output_type": "stream",
     "text": [
      "15\n"
     ]
    },
    {
     "name": "stdin",
     "output_type": "stream",
     "text": [
      " 2 10\n"
     ]
    },
    {
     "name": "stdout",
     "output_type": "stream",
     "text": [
      "20\n"
     ]
    },
    {
     "name": "stdin",
     "output_type": "stream",
     "text": [
      " 2 15\n"
     ]
    },
    {
     "name": "stdout",
     "output_type": "stream",
     "text": [
      "30\n"
     ]
    }
   ],
   "source": [
    "# cook your dish here\n",
    "t = int(input())\n",
    "for i in range(t):\n",
    "    x,y = map(int, input().split())\n",
    "    z = x*y\n",
    "    print(z)"
   ]
  },
  {
   "cell_type": "markdown",
   "id": "ca90fb27-dc1f-4374-aa48-c0647217f971",
   "metadata": {},
   "source": [
    "### Problem 3:\n",
    "Chef wants to become fit, so he decides to walk to the office and return home by walking. The distance between Chef's home and office is X km.\n",
    "\n",
    "If his office is open for 5 days in a week, find the total number of kilometers Chef travels through office trips in a week.\n",
    "\n",
    "Input Format:\n",
    "The first line contains an integer T, representing the number of test cases. Then the test cases follow.\n",
    "Each test case consists of a single line containing a single integer X, representing the distance between Chef's home and office.\n",
    "\n",
    "Output Format:\n",
    "For each test case, output the number of kilometers Chef travels through office trips in a week.\n",
    "\n",
    "Constraints:\n",
    "1 ≤ T ≤ 10\n",
    "1 ≤ X ≤ 10"
   ]
  },
  {
   "cell_type": "code",
   "execution_count": 7,
   "id": "62c72768-3f92-4dd7-a8be-cf3fbb28c5f2",
   "metadata": {},
   "outputs": [
    {
     "name": "stdin",
     "output_type": "stream",
     "text": [
      " 1\n",
      " 7\n"
     ]
    },
    {
     "name": "stdout",
     "output_type": "stream",
     "text": [
      "70\n"
     ]
    }
   ],
   "source": [
    "# cook your dish here\n",
    "t = int(input())\n",
    "for i in range(t):\n",
    "    x = int(input())\n",
    "    z = x*2\n",
    "    y = z*5\n",
    "    print(y)"
   ]
  },
  {
   "cell_type": "markdown",
   "id": "5f431a23-a353-4a5b-b8bf-f014ce9a5686",
   "metadata": {},
   "source": [
    "### Problem 4:\n",
    "Chef is playing Ludo. According to the rules of Ludo, a player can enter a new token into play only when they roll a 6 on the die.\n",
    "\n",
    "In the current turn, Chef rolled the number X on the die. Determine if Chef can enter a new token into play in the current turn or not.\n",
    "\n",
    "Input Format:\n",
    "The first line contains a single integer T, representing the number of test cases. Then the test cases follow.\n",
    "Each test case consists of a single line containing an integer X, representing the number rolled by Chef on the die.\n",
    "\n",
    "Output Format:\n",
    "For each test case, output \"YES\" if Chef can enter a new token in the game. Otherwise, output \"NO\".\n",
    "\n",
    "You may print each character of YES and NO in uppercase or lowercase (for example, yes, yEs, Yes will be considered identical).\n",
    "\n",
    "Constraints:\n",
    "1 ≤ T ≤ 6\n",
    "1 ≤ X ≤ 6"
   ]
  },
  {
   "cell_type": "code",
   "execution_count": 8,
   "id": "309e20d1-39ba-4566-8c98-d0bd0e39d5a2",
   "metadata": {
    "scrolled": true,
    "tags": []
   },
   "outputs": [
    {
     "name": "stdin",
     "output_type": "stream",
     "text": [
      " 2\n",
      " 6\n"
     ]
    },
    {
     "name": "stdout",
     "output_type": "stream",
     "text": [
      "YES\n"
     ]
    },
    {
     "name": "stdin",
     "output_type": "stream",
     "text": [
      " 2\n"
     ]
    },
    {
     "name": "stdout",
     "output_type": "stream",
     "text": [
      "NO\n"
     ]
    }
   ],
   "source": [
    "# cook your dish here\n",
    "t = int(input())\n",
    "for i in range(t):\n",
    "    x = int(input())\n",
    "    if x > 6 or x <6 :\n",
    "        print('NO')\n",
    "    else:\n",
    "        print('YES')"
   ]
  },
  {
   "cell_type": "markdown",
   "id": "5951b3d1-8f15-443b-a782-071c33426b32",
   "metadata": {},
   "source": [
    "### Problem 5:\n",
    "Chef is fond of burgers and has a certain number of patties and buns. To make one burger, Chef needs one patty and one bun. Chef wants to know the maximum number of burgers he can make with the given number of patties and buns.\n",
    "\n",
    "Input Format:\n",
    "The first line of input contains an integer T, representing the number of test cases. The description of T test cases follows.\n",
    "Each test case consists of a single line containing two space-separated integers A and B, representing the number of patties and buns, respectively.\n",
    "\n",
    "Output Format:\n",
    "For each test case, output the maximum number of burgers that Chef can make.\n",
    "\n",
    "Constraints:\n",
    "1 ≤ T ≤ 1000\n",
    "1 ≤ A, B ≤ 10^5"
   ]
  },
  {
   "cell_type": "code",
   "execution_count": 9,
   "id": "b4dbd0c8-f1c6-4d52-9c14-d5b779c238e9",
   "metadata": {},
   "outputs": [
    {
     "name": "stdin",
     "output_type": "stream",
     "text": [
      " 2\n",
      " 1 2\n"
     ]
    },
    {
     "name": "stdout",
     "output_type": "stream",
     "text": [
      "1\n"
     ]
    },
    {
     "name": "stdin",
     "output_type": "stream",
     "text": [
      " 2 2\n"
     ]
    },
    {
     "name": "stdout",
     "output_type": "stream",
     "text": [
      "2\n"
     ]
    }
   ],
   "source": [
    "# cook your dish here\n",
    "t = int(input())\n",
    "for i in range(t):\n",
    "    x,y = map(int,input().split())\n",
    "    z = min(x,y)\n",
    "    print(z)"
   ]
  },
  {
   "cell_type": "markdown",
   "id": "f512806e-d827-45d6-96e7-f22570d351a6",
   "metadata": {},
   "source": [
    "### Problem 6:\n",
    "CodeChef recently revamped its practice page to make it easier for users to identify the next problems they should solve by introducing some new features. Our Chef is currently practicing on CodeChef and is a beginner. The count of 'All Problems' in the Beginner section is X. Our Chef has already 'Attempted' Y problems among them. Now, we need to determine how many problems are yet 'Un-attempted'.\n",
    "\n",
    "Input Format:\n",
    "The first and only line of input contains two space-separated integers X and Y, representing the count of 'All problems' in the Beginner's section and the count of Chef's 'Attempted' problems, respectively.\n",
    "\n",
    "Output Format:\n",
    "Output a single integer on a new line, representing the number of problems that are yet 'Un-attempted'.\n",
    "\n",
    "Constraints:\n",
    "1 ≤ X ≤ Y ≤ 1000"
   ]
  },
  {
   "cell_type": "code",
   "execution_count": 13,
   "id": "899de33f-c817-4675-b424-a617419dc533",
   "metadata": {},
   "outputs": [
    {
     "name": "stdin",
     "output_type": "stream",
     "text": [
      " 10 5\n"
     ]
    },
    {
     "name": "stdout",
     "output_type": "stream",
     "text": [
      "5\n"
     ]
    }
   ],
   "source": [
    "x,y = map(int,input().split())\n",
    "z = x-y\n",
    "print(z)"
   ]
  },
  {
   "cell_type": "markdown",
   "id": "e44a7fcc-7e04-434e-9f21-0f1f05ee6a1c",
   "metadata": {},
   "source": [
    "### Problem 7:\n",
    "Chef appeared for a placement test and encountered a problem worth X points. The problem consists of 10 test cases, each worth the same number of points. Chef managed to pass N test cases among them. We need to determine the score Chef will receive.\n",
    "\n",
    "Input Format:\n",
    "The first line contains an integer T, representing the number of test cases. Each test case is described on a separate line.\n",
    "Each test case consists of two integers X and N, where X represents the total points for the problem and N represents the number of test cases passed by Chef.\n",
    "\n",
    "Output Format:\n",
    "For each test case, output the points scored by Chef.\n",
    "\n",
    "Constraints:\n",
    "1 ≤ T ≤ 100\n",
    "10 ≤ X ≤ 200 (X is a multiple of 10)\n",
    "0 ≤ N ≤ 10\n"
   ]
  },
  {
   "cell_type": "code",
   "execution_count": 15,
   "id": "33a98f00-b940-4284-804a-04ee9ca1e640",
   "metadata": {},
   "outputs": [
    {
     "name": "stdin",
     "output_type": "stream",
     "text": [
      " 1\n",
      " 10 3\n"
     ]
    },
    {
     "name": "stdout",
     "output_type": "stream",
     "text": [
      "3.0\n"
     ]
    }
   ],
   "source": [
    "# cook your dish here\n",
    "t = int(input())\n",
    "for i in range(t):\n",
    "    x,n = map(int, input().split())\n",
    "    z = n*(x/10)\n",
    "    print(z)"
   ]
  },
  {
   "cell_type": "markdown",
   "id": "1988fcaa-eb0d-49c7-8838-2382f5b93e25",
   "metadata": {},
   "source": [
    "### Problem 8:\n",
    "Chef's kitchen has specific working hours, which are from X pm to Y pm, where X and Y are integers representing the time in a 12-hour clock format. We need to find the number of hours Chef works.\n",
    "\n",
    "Input Format:\n",
    "The first line of input contains an integer T, representing the number of test cases. Each test case is described on a separate line.\n",
    "Each test case consists of two space-separated integers X and Y, where X represents the starting time of working hours and Y represents the ending time of working hours.\n",
    "\n",
    "Output Format:\n",
    "For each test case, output the number of hours Chef works on a new line.\n",
    "\n",
    "Constraints:\n",
    "1 ≤ T ≤ 100\n",
    "1 ≤ X < Y ≤ 12"
   ]
  },
  {
   "cell_type": "code",
   "execution_count": 17,
   "id": "0283efc6-c3ed-4200-a370-408ccc161ed5",
   "metadata": {},
   "outputs": [
    {
     "name": "stdin",
     "output_type": "stream",
     "text": [
      " 2\n",
      " 1 6\n"
     ]
    },
    {
     "name": "stdout",
     "output_type": "stream",
     "text": [
      "5\n"
     ]
    },
    {
     "name": "stdin",
     "output_type": "stream",
     "text": [
      " 3 5\n"
     ]
    },
    {
     "name": "stdout",
     "output_type": "stream",
     "text": [
      "2\n"
     ]
    }
   ],
   "source": [
    "# cook your dish here\n",
    "t = int(input())\n",
    "for i in range(t):\n",
    "    x,y = map(int,input().split())\n",
    "    z = y-x\n",
    "    print(z)"
   ]
  },
  {
   "cell_type": "markdown",
   "id": "961ed575-7443-4eae-8c71-dc3409c794d1",
   "metadata": {},
   "source": [
    "### Problem 9:\n",
    "The students of DAIICT college are interested in attending an IPL match. There are a total of N students from the college who want to go, but only M tickets are available for the match. We need to determine the number of students who won't be able to book tickets.\n",
    "\n",
    "Input Format:\n",
    "The first line of input contains an integer T, representing the number of test cases. Each test case is described on a separate line.\n",
    "Each test case consists of two space-separated integers N and M, where N represents the number of students who want to go and M represents the total number of tickets available.\n",
    "\n",
    "Output Format:\n",
    "For each test case, output the number of students who won't be able to book tickets on a new line.\n",
    "\n",
    "Constraints:\n",
    "1 ≤ T ≤ 1000\n",
    "1 ≤ N, M ≤ 105"
   ]
  },
  {
   "cell_type": "code",
   "execution_count": 19,
   "id": "4ceb0c4c-91a6-4b4c-9e69-97cb2ec20f83",
   "metadata": {},
   "outputs": [
    {
     "name": "stdin",
     "output_type": "stream",
     "text": [
      " 2\n",
      " 5 7\n"
     ]
    },
    {
     "name": "stdout",
     "output_type": "stream",
     "text": [
      "0\n"
     ]
    },
    {
     "name": "stdin",
     "output_type": "stream",
     "text": [
      " 4 1\n"
     ]
    },
    {
     "name": "stdout",
     "output_type": "stream",
     "text": [
      "3\n"
     ]
    }
   ],
   "source": [
    "# cook your dish here\n",
    "t = int(input())\n",
    "for i in range(t):\n",
    "    x,y = map(int,input().split())\n",
    "    if x>y:\n",
    "        print(x-y)\n",
    "    else:\n",
    "        print(0)"
   ]
  },
  {
   "cell_type": "markdown",
   "id": "4b36458b-e2f9-4e94-bd66-47ffc6f45dc7",
   "metadata": {},
   "source": [
    "### Problem 10:\n",
    "In Chefland, a tax of 10 rupees is deducted if the total income is strictly greater than 100 rupees. Given that your total income is X rupees, find out how much money you will get after deducting the tax.\n",
    "\n",
    "Input Format:\n",
    "The first line of input contains an integer T, representing the number of test cases. Each test case is described on a separate line.\n",
    "Each test case consists of a single integer X, representing your total income.\n",
    "\n",
    "Output Format:\n",
    "For each test case, output the amount of money you will get after deducting the tax on a new line.\n",
    "\n",
    "Constraints:\n",
    "1 ≤ T ≤ 100\n",
    "1 ≤ X ≤ 1000"
   ]
  },
  {
   "cell_type": "code",
   "execution_count": 20,
   "id": "06b45c90-354a-4cd5-b21e-f02e9668a93f",
   "metadata": {},
   "outputs": [
    {
     "name": "stdin",
     "output_type": "stream",
     "text": [
      " 2\n",
      " 9\n"
     ]
    },
    {
     "name": "stdout",
     "output_type": "stream",
     "text": [
      "9\n"
     ]
    },
    {
     "name": "stdin",
     "output_type": "stream",
     "text": [
      " 145\n"
     ]
    },
    {
     "name": "stdout",
     "output_type": "stream",
     "text": [
      "135\n"
     ]
    }
   ],
   "source": [
    "# cook your dish here\n",
    "t = int(input())\n",
    "for i in range(t):\n",
    "    x = int(input())\n",
    "    if x <= 100:\n",
    "        print(x)\n",
    "    else:\n",
    "        print(x - 10)"
   ]
  }
 ],
 "metadata": {
  "kernelspec": {
   "display_name": "Python 3 (ipykernel)",
   "language": "python",
   "name": "python3"
  },
  "language_info": {
   "codemirror_mode": {
    "name": "ipython",
    "version": 3
   },
   "file_extension": ".py",
   "mimetype": "text/x-python",
   "name": "python",
   "nbconvert_exporter": "python",
   "pygments_lexer": "ipython3",
   "version": "3.10.8"
  }
 },
 "nbformat": 4,
 "nbformat_minor": 5
}
