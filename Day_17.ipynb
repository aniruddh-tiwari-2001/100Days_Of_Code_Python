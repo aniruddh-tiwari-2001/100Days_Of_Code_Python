{
 "cells": [
  {
   "cell_type": "markdown",
   "id": "97f5ac14-bedc-40e4-828a-948933e41640",
   "metadata": {},
   "source": [
    "# Day 17\n",
    "## Topics going to be cover in Day 17\n",
    "- Solve some codechef problems"
   ]
  },
  {
   "cell_type": "markdown",
   "id": "9bb690e3-91c6-441d-8dc7-d3469f70778e",
   "metadata": {},
   "source": [
    "## Problem 1:\n",
    "\n",
    "There are three friends and a total of N candies. There will be a fight amongst the friends if all of them do not get the same number of candies.\n",
    "\n",
    "Chef wants to divide all the candies such that there is no fight. Find whether such distribution is possible.\n",
    "\n",
    "Input Format:\n",
    "\n",
    "The first line of input will contain a single integer T, denoting the number of test cases.\n",
    "Each test case consists of a single integer N - the number of candies.\n",
    "\n",
    "Output Format:\n",
    "\n",
    "For each test case, output \"YES\" if we can distribute all the candies between the three friends equally. Otherwise, output \"NO\".\n",
    "\n",
    "You can output each character of the answer in uppercase or lowercase. For example, the strings \"YES,\" \"yes,\" \"Yes,\" and \"YES\" are considered the same.\n",
    "\n",
    "Constraints:\n",
    "\n",
    "1 ≤ T ≤ 100\n",
    "\n",
    "1 ≤ N ≤ 100"
   ]
  },
  {
   "cell_type": "code",
   "execution_count": 1,
   "id": "ee215907-b5ae-463f-8f6f-de6e6356cf07",
   "metadata": {},
   "outputs": [
    {
     "name": "stdin",
     "output_type": "stream",
     "text": [
      " 4\n",
      " 3\n"
     ]
    },
    {
     "name": "stdout",
     "output_type": "stream",
     "text": [
      "YES\n"
     ]
    },
    {
     "name": "stdin",
     "output_type": "stream",
     "text": [
      " 4\n"
     ]
    },
    {
     "name": "stdout",
     "output_type": "stream",
     "text": [
      "NO\n"
     ]
    },
    {
     "name": "stdin",
     "output_type": "stream",
     "text": [
      " 2\n"
     ]
    },
    {
     "name": "stdout",
     "output_type": "stream",
     "text": [
      "NO\n"
     ]
    },
    {
     "name": "stdin",
     "output_type": "stream",
     "text": [
      " 6\n"
     ]
    },
    {
     "name": "stdout",
     "output_type": "stream",
     "text": [
      "YES\n"
     ]
    }
   ],
   "source": [
    "# cook your dish here\n",
    "def friends():\n",
    "    t = int(input())\n",
    "    for i in range(t):\n",
    "        n = int(input())\n",
    "        if n%3==0:\n",
    "            print(\"YES\")\n",
    "        else:\n",
    "            print(\"NO\")\n",
    "friends()"
   ]
  },
  {
   "cell_type": "markdown",
   "id": "6f2d32af-70df-4371-a340-d10fbcee2dbe",
   "metadata": {},
   "source": [
    "## Problem 2:\n",
    "\n",
    "Chef and his girlfriend go on a date. Chef took X dollars with him and was quite sure that this would be enough to pay the bill. At the end, the waiter brought a bill of Y dollars. Print \"YES\" if Chef has enough money to pay the bill, or \"NO\" if he has to borrow from his girlfriend and leave a bad impression on her.\n",
    "\n",
    "Input Format:\n",
    "\n",
    "The first line of input will contain a single integer T, denoting the number of test cases.\n",
    "Each test case consists of a single line of input, containing two space-separated integers X and Y.\n",
    "\n",
    "Output Format:\n",
    "\n",
    "For each test case, output on a new line \"YES\" if Chef has enough money to pay the bill and \"NO\" otherwise.\n",
    "\n",
    "You may print each character of the string in either uppercase or lowercase (for example, the strings \"yEs,\" \"yes,\" \"Yes,\" and \"YES\" will all be treated as identical).\n",
    "\n",
    "Constraints:\n",
    "\n",
    "1 ≤ T ≤ 100\n",
    "\n",
    "1 ≤ X, Y ≤ 100"
   ]
  },
  {
   "cell_type": "code",
   "execution_count": 2,
   "id": "5f8cbed3-0c1e-4eb5-a6d7-ed9053d6f5fa",
   "metadata": {},
   "outputs": [
    {
     "name": "stdin",
     "output_type": "stream",
     "text": [
      " 4\n",
      " 1 1\n"
     ]
    },
    {
     "name": "stdout",
     "output_type": "stream",
     "text": [
      "YES\n"
     ]
    },
    {
     "name": "stdin",
     "output_type": "stream",
     "text": [
      " 1 2\n"
     ]
    },
    {
     "name": "stdout",
     "output_type": "stream",
     "text": [
      "NO\n"
     ]
    },
    {
     "name": "stdin",
     "output_type": "stream",
     "text": [
      " 2 1\n"
     ]
    },
    {
     "name": "stdout",
     "output_type": "stream",
     "text": [
      "YES\n"
     ]
    },
    {
     "name": "stdin",
     "output_type": "stream",
     "text": [
      " 50 100\n"
     ]
    },
    {
     "name": "stdout",
     "output_type": "stream",
     "text": [
      "NO\n"
     ]
    }
   ],
   "source": [
    "# cook your dish here\n",
    "def bill():\n",
    "    t = int(input())\n",
    "    for i in range(t):\n",
    "        x,y = map(int,input().split())\n",
    "        if x>=y:\n",
    "            print(\"YES\")\n",
    "        else:\n",
    "            print(\"NO\")\n",
    "bill()"
   ]
  },
  {
   "cell_type": "markdown",
   "id": "786f7657-08a2-481c-ad71-820445f1bd11",
   "metadata": {},
   "source": [
    "## Problem 3:\n",
    "\n",
    "Ashu and Arvind participated in a coding contest, as a result of which they received N chocolates. Now they want to divide the chocolates between them equally.\n",
    "\n",
    "Can you help them by deciding if it is possible for them to divide all the N chocolates in such a way that they each get an equal number of chocolates?\n",
    "\n",
    "You cannot break a chocolate into two or more pieces.\n",
    "\n",
    "Input Format:\n",
    "\n",
    "The first line of input will contain a single integer T, denoting the number of test cases.\n",
    "The first and only line of each test case contains a single integer N — the number of chocolates they received.\n",
    "\n",
    "Output Format:\n",
    "\n",
    "For each test case, output the answer on a new line: \"Yes\" (without quotes) if they can divide the chocolates between them equally, and \"No\" (without quotes) otherwise.\n",
    "\n",
    "Each letter of the output may be printed in either uppercase or lowercase, i.e., \"Yes\", \"YES\", and \"yEs\" will all be treated as equivalent.\n",
    "\n",
    "Constraints:\n",
    "\n",
    "1 ≤ T ≤ 10\n",
    "\n",
    "1 ≤ N ≤ 10"
   ]
  },
  {
   "cell_type": "code",
   "execution_count": 3,
   "id": "28f1070f-a587-40c2-834e-6b06b11b28f7",
   "metadata": {},
   "outputs": [
    {
     "name": "stdin",
     "output_type": "stream",
     "text": [
      " 4\n",
      " 10\n"
     ]
    },
    {
     "name": "stdout",
     "output_type": "stream",
     "text": [
      "YES\n"
     ]
    },
    {
     "name": "stdin",
     "output_type": "stream",
     "text": [
      " 4\n"
     ]
    },
    {
     "name": "stdout",
     "output_type": "stream",
     "text": [
      "YES\n"
     ]
    },
    {
     "name": "stdin",
     "output_type": "stream",
     "text": [
      " 3\n"
     ]
    },
    {
     "name": "stdout",
     "output_type": "stream",
     "text": [
      "NO\n"
     ]
    },
    {
     "name": "stdin",
     "output_type": "stream",
     "text": [
      " 2\n"
     ]
    },
    {
     "name": "stdout",
     "output_type": "stream",
     "text": [
      "YES\n"
     ]
    }
   ],
   "source": [
    "# cook your dish here\n",
    "def chocolate():\n",
    "    t = int(input())\n",
    "    for i in range(t):\n",
    "        n = int(input())\n",
    "        if n%2==0:\n",
    "            print(\"YES\")\n",
    "        else:\n",
    "            print(\"NO\")\n",
    "chocolate()"
   ]
  },
  {
   "cell_type": "markdown",
   "id": "ce7062ce-5a5d-4d6a-8e62-d7a23b19cec0",
   "metadata": {},
   "source": [
    "## Problem 4:\n",
    "\n",
    "In a coding contest, there are prizes for the top rankers. The prize scheme is as follows:\n",
    "\n",
    "Top 10 participants receive rupees X each.\n",
    "Participants with rank 11 to 100 (both inclusive) receive rupees Y each.\n",
    "\n",
    "Find the total prize money over all the contestants.\n",
    "\n",
    "Input Format:\n",
    "The first line will contain T, the number of test cases. Then the test cases follow.\n",
    "Each test case contains a single line of input with two integers X and Y - the prize for the top 10 rankers and the prize for ranks 11 to 100, respectively.\n",
    "\n",
    "Output Format:\n",
    "For each test case, output the total prize money over all the contestants.\n",
    "\n",
    "Constraints:\n",
    "\n",
    "1 ≤ T ≤ 1000\n",
    "\n",
    "1 ≤ Y ≤ X ≤ 1000"
   ]
  },
  {
   "cell_type": "code",
   "execution_count": 4,
   "id": "3d2d132d-4645-493c-8c62-71dcf32450e4",
   "metadata": {},
   "outputs": [
    {
     "name": "stdin",
     "output_type": "stream",
     "text": [
      " 4\n",
      " 1000 100\n"
     ]
    },
    {
     "name": "stdout",
     "output_type": "stream",
     "text": [
      "19000\n"
     ]
    },
    {
     "name": "stdin",
     "output_type": "stream",
     "text": [
      " 1000 1000\n"
     ]
    },
    {
     "name": "stdout",
     "output_type": "stream",
     "text": [
      "100000\n"
     ]
    },
    {
     "name": "stdin",
     "output_type": "stream",
     "text": [
      " 80 1\n"
     ]
    },
    {
     "name": "stdout",
     "output_type": "stream",
     "text": [
      "890\n"
     ]
    },
    {
     "name": "stdin",
     "output_type": "stream",
     "text": [
      " 400 30\n"
     ]
    },
    {
     "name": "stdout",
     "output_type": "stream",
     "text": [
      "6700\n"
     ]
    }
   ],
   "source": [
    "# cook your dish here\n",
    "def prize():\n",
    "    t = int(input())\n",
    "    for i in range(t):\n",
    "        x,y = map(int,input().split())\n",
    "        z = x*10+y*90\n",
    "        print(z)\n",
    "prize()"
   ]
  },
  {
   "cell_type": "markdown",
   "id": "8bbc9bd5-3883-467a-b9a2-f888d536d39c",
   "metadata": {},
   "source": [
    "## Problem 5:\n",
    "\n",
    "Chef appeared for a placement test.\n",
    "\n",
    "There is a problem worth X points. Chef finds out that the problem has exactly 10 test cases. It is known that each test case is worth the same number of points.\n",
    "\n",
    "Chef passes N test cases among them. Determine the score Chef will get.\n",
    "\n",
    "NOTE: See sample explanation for more clarity.\n",
    "\n",
    "Input Format:\n",
    "The first line will contain T, the number of test cases. Then the test cases follow.\n",
    "Each test case contains a single line of input with two integers X and N, representing the total points for the problem and the number of test cases that Chef's solution passed.\n",
    "\n",
    "Output Format:\n",
    "For each test case, output the points scored by Chef.\n",
    "\n",
    "Constraints:\n",
    "\n",
    "1 ≤ T ≤ 100\n",
    "\n",
    "10 ≤ X ≤ 200\n",
    "\n",
    "0 ≤ N ≤ 10\n",
    "\n",
    "X is a multiple of 10."
   ]
  },
  {
   "cell_type": "code",
   "execution_count": 5,
   "id": "f759a9fd-f178-44b2-918d-84d5117aeb8f",
   "metadata": {},
   "outputs": [
    {
     "name": "stdin",
     "output_type": "stream",
     "text": [
      " 4\n",
      " 10 3\n"
     ]
    },
    {
     "name": "stdout",
     "output_type": "stream",
     "text": [
      "3\n"
     ]
    },
    {
     "name": "stdin",
     "output_type": "stream",
     "text": [
      " 100 10\n"
     ]
    },
    {
     "name": "stdout",
     "output_type": "stream",
     "text": [
      "100\n"
     ]
    },
    {
     "name": "stdin",
     "output_type": "stream",
     "text": [
      " 130 4\n"
     ]
    },
    {
     "name": "stdout",
     "output_type": "stream",
     "text": [
      "52\n"
     ]
    },
    {
     "name": "stdin",
     "output_type": "stream",
     "text": [
      " 70 0\n"
     ]
    },
    {
     "name": "stdout",
     "output_type": "stream",
     "text": [
      "0\n"
     ]
    }
   ],
   "source": [
    "# cook your dish here\n",
    "t = int(input())\n",
    "for i in range(t):\n",
    "    x,n = map(int, input().split())\n",
    "    z = x//10\n",
    "    y = z*n\n",
    "    print(y)"
   ]
  },
  {
   "cell_type": "markdown",
   "id": "d1ee8aea-3a96-4441-af63-82289c880049",
   "metadata": {},
   "source": [
    "## Problem 6:\n",
    "\n",
    "Chef defines a pair of positive integers (a, b) to be a Oneful Pair, if a + b + (a * b) = 111.\n",
    "\n",
    "For example, (1, 55) is a Oneful Pair since 1 + 55 + (1 * 55) = 56 + 55 = 111. But (1, 56) is not a Oneful Pair since 1 + 56 + (1 * 56) = 57 + 56 = 113 ≠ 111.\n",
    "\n",
    "Given two positive integers a and b, output \"Yes\" if they are a Oneful Pair, and \"No\" otherwise.\n",
    "\n",
    "Input Format:\n",
    "The only line of input contains two space-separated integers a and b.\n",
    "\n",
    "Output Format:\n",
    "Output \"Yes\" if (a, b) form a Oneful Pair. Output \"No\" if they do not.\n",
    "\n",
    "You may print each character of \"Yes\" and \"No\" in uppercase or lowercase (for example, \"yes,\" \"yEs,\" \"Yes\" will be considered identical).\n",
    "\n",
    "Constraints:\n",
    "1 ≤ a, b ≤ 1000"
   ]
  },
  {
   "cell_type": "code",
   "execution_count": 3,
   "id": "b2fcf301-18b6-453f-882d-fe6aa00a7d84",
   "metadata": {},
   "outputs": [
    {
     "name": "stdin",
     "output_type": "stream",
     "text": [
      " 1 55\n"
     ]
    },
    {
     "name": "stdout",
     "output_type": "stream",
     "text": [
      "YES\n"
     ]
    }
   ],
   "source": [
    "# cook your dish here\n",
    "a,b = map(int,input().split())\n",
    "if a+b+(a*b) == 111:\n",
    "    print(\"YES\")\n",
    "else:\n",
    "    print(\"NO\")"
   ]
  },
  {
   "cell_type": "markdown",
   "id": "365e749c-050b-4021-b769-1f9cbd5e0ef3",
   "metadata": {},
   "source": [
    "## Problem 7:\n",
    "\n",
    "Chef needs to park her car while she watches a movie. The parking charges at the theater are as follows:\n",
    "\n",
    "Rs. X for the first 1 hour\n",
    "Rs. Y for every extra hour after the first hour\n",
    "\n",
    "If Chef parks her car for H hours, what is the total parking charges that she should pay?\n",
    "\n",
    "Input Format:\n",
    "The only line of the input will contain three space-separated integers - X, Y, and H.\n",
    "\n",
    "Output Format:\n",
    "Output a single integer, which should be the total amount that Chef pays as parking charges.\n",
    "\n",
    "Constraints:\n",
    "1 ≤ X ≤ 100\n",
    "1 ≤ Y ≤ 100\n",
    "1 ≤ H ≤ 100"
   ]
  },
  {
   "cell_type": "code",
   "execution_count": 1,
   "id": "7f8ae505-7bdb-4660-85ee-5927cba1e7bc",
   "metadata": {},
   "outputs": [
    {
     "name": "stdin",
     "output_type": "stream",
     "text": [
      " 10 15 1\n"
     ]
    },
    {
     "name": "stdout",
     "output_type": "stream",
     "text": [
      "10\n"
     ]
    }
   ],
   "source": [
    "x, y, h = map(int, input().split())\n",
    "if h <= 1:\n",
    "    charge = x\n",
    "else:\n",
    "    charge = x + (h - 1) * y\n",
    "print(charge)\n"
   ]
  },
  {
   "cell_type": "markdown",
   "id": "ed2b6711-80d8-4d3b-908c-6147c2b41c5e",
   "metadata": {},
   "source": [
    "## Problem 8:\n",
    "\n",
    "Chef's dog Binary hears frequencies starting from 67 Hertz to 45000 Hertz (both inclusive).\n",
    "\n",
    "If Chef's commands have a frequency of X Hertz, find whether Binary can hear them or not.\n",
    "\n",
    "Input Format:\n",
    "The first line of input will contain a single integer T, denoting the number of test cases.\n",
    "Each test case consists of a single integer X - the frequency of Chef's commands in Hertz.\n",
    "\n",
    "Output Format:\n",
    "For each test case, output on a new line \"YES\" if Binary can hear Chef's commands. Otherwise, print \"NO\".\n",
    "\n",
    "The output is case-insensitive. Thus, the strings \"YES\", \"yes\", \"yeS\", and \"Yes\" are all considered the same.\n",
    "\n",
    "Constraints:\n",
    "1 ≤ T ≤ 10^4\n",
    "1 ≤ X ≤ 10^6"
   ]
  },
  {
   "cell_type": "code",
   "execution_count": 2,
   "id": "4f179c7d-52d8-4391-a716-28ebff162e01",
   "metadata": {},
   "outputs": [
    {
     "name": "stdin",
     "output_type": "stream",
     "text": [
      " 5\n",
      " 42\n"
     ]
    },
    {
     "name": "stdout",
     "output_type": "stream",
     "text": [
      "NO\n"
     ]
    },
    {
     "name": "stdin",
     "output_type": "stream",
     "text": [
      " 67\n"
     ]
    },
    {
     "name": "stdout",
     "output_type": "stream",
     "text": [
      "YES\n"
     ]
    },
    {
     "name": "stdin",
     "output_type": "stream",
     "text": [
      " 402\n"
     ]
    },
    {
     "name": "stdout",
     "output_type": "stream",
     "text": [
      "YES\n"
     ]
    },
    {
     "name": "stdin",
     "output_type": "stream",
     "text": [
      " 45000\n"
     ]
    },
    {
     "name": "stdout",
     "output_type": "stream",
     "text": [
      "YES\n"
     ]
    },
    {
     "name": "stdin",
     "output_type": "stream",
     "text": [
      " 45005\n"
     ]
    },
    {
     "name": "stdout",
     "output_type": "stream",
     "text": [
      "NO\n"
     ]
    }
   ],
   "source": [
    "# cook your dish here\n",
    "t = int(input())\n",
    "for i in range(t):\n",
    "    x = int(input())\n",
    "    if x>=67 and x<=45000:\n",
    "        print(\"YES\")\n",
    "    else:\n",
    "        print(\"NO\")"
   ]
  },
  {
   "cell_type": "code",
   "execution_count": null,
   "id": "6075371d-cdf2-4533-a812-b3caccf19135",
   "metadata": {},
   "outputs": [],
   "source": []
  }
 ],
 "metadata": {
  "kernelspec": {
   "display_name": "Python 3 (ipykernel)",
   "language": "python",
   "name": "python3"
  },
  "language_info": {
   "codemirror_mode": {
    "name": "ipython",
    "version": 3
   },
   "file_extension": ".py",
   "mimetype": "text/x-python",
   "name": "python",
   "nbconvert_exporter": "python",
   "pygments_lexer": "ipython3",
   "version": "3.10.8"
  }
 },
 "nbformat": 4,
 "nbformat_minor": 5
}
