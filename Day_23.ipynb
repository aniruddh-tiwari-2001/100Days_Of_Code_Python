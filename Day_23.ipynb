{
 "cells": [
  {
   "cell_type": "markdown",
   "id": "492d5254-da4e-4b9e-a9cb-3f7c48d04a45",
   "metadata": {},
   "source": [
    "# Day 18\n",
    "## Topics going to be cover in Day 18\n",
    "- Solve some codechef problems"
   ]
  },
  {
   "cell_type": "markdown",
   "id": "ff19b257-6f6a-4b5e-9f16-58cbc0afd2e8",
   "metadata": {},
   "source": [
    "## Problem 1:\n",
    "\n",
    "Chef has recently moved into an apartment. It takes 30 minutes for Chef to reach the office from the apartment.\n",
    "\n",
    "Chef left for the office X minutes before Chef was supposed to reach. Determine whether or not Chef will be able to reach on time.\n",
    "\n",
    "Input Format:\n",
    "The first line of input will contain a single integer T, denoting the number of test cases.\n",
    "Each test case consists of a single integer X.\n",
    "\n",
    "Output Format:\n",
    "For each test case, output \"YES\" if Chef will reach on time, \"NO\" otherwise.\n",
    "\n",
    "The output is case-insensitive. Thus, the strings \"YES\", \"yes\", \"yeS\", and \"Yes\" are all considered the same.\n",
    "\n",
    "Constraints:\n",
    "1 ≤ T ≤ 60\n",
    "1 ≤ X ≤ 60"
   ]
  },
  {
   "cell_type": "code",
   "execution_count": 1,
   "id": "65deb84c-b802-4e87-bf32-31b67dc4a1ee",
   "metadata": {},
   "outputs": [
    {
     "name": "stdin",
     "output_type": "stream",
     "text": [
      " 6\n",
      " 30\n"
     ]
    },
    {
     "name": "stdout",
     "output_type": "stream",
     "text": [
      "YES\n"
     ]
    },
    {
     "name": "stdin",
     "output_type": "stream",
     "text": [
      " 60\n"
     ]
    },
    {
     "name": "stdout",
     "output_type": "stream",
     "text": [
      "YES\n"
     ]
    },
    {
     "name": "stdin",
     "output_type": "stream",
     "text": [
      " 14\n"
     ]
    },
    {
     "name": "stdout",
     "output_type": "stream",
     "text": [
      "NO\n"
     ]
    },
    {
     "name": "stdin",
     "output_type": "stream",
     "text": [
      " 29\n"
     ]
    },
    {
     "name": "stdout",
     "output_type": "stream",
     "text": [
      "NO\n"
     ]
    },
    {
     "name": "stdin",
     "output_type": "stream",
     "text": [
      " 31\n"
     ]
    },
    {
     "name": "stdout",
     "output_type": "stream",
     "text": [
      "YES\n"
     ]
    },
    {
     "name": "stdin",
     "output_type": "stream",
     "text": [
      " 42\n"
     ]
    },
    {
     "name": "stdout",
     "output_type": "stream",
     "text": [
      "YES\n"
     ]
    }
   ],
   "source": [
    "# cook your dish here\n",
    "t = int(input())\n",
    "for i in range(t):\n",
    "    x = int(input())\n",
    "    if x<30:\n",
    "        print(\"NO\")\n",
    "    else:\n",
    "        print(\"YES\")"
   ]
  },
  {
   "cell_type": "markdown",
   "id": "90a7c731-8d80-4ae5-8507-4ee65c01982d",
   "metadata": {},
   "source": [
    "## Problem 2:\n",
    "\n",
    "Chef is hungry and wants to reach home.\n",
    "\n",
    "Chef can travel up to 5 kilometres on 1 litre of fuel on his motorcycle.\n",
    "Currently, his motorcycle is filled with X litres of fuel and his home is Y kilometres away.\n",
    "\n",
    "Determine whether Chef can reach his home on his motorcycle or not.\n",
    "\n",
    "Input Format:\n",
    "The first line of input will contain a single integer T, denoting the number of test cases.\n",
    "The first and only line of each test case contains two space-separated integers X and Y — the amount of fuel in Chef's motorcycle and the distance to Chef's home in kilometres.\n",
    "\n",
    "Output Format:\n",
    "For each test case, output \"YES\" if Chef can reach home on his motorcycle. Otherwise, output \"NO\".\n",
    "\n",
    "You can output each character of the answer in uppercase or lowercase. For example, the strings \"yEs,\" \"yes,\" \"Yes,\" and \"YES\" are considered the same.\n",
    "\n",
    "Constraints:\n",
    "\n",
    "1 ≤ T ≤ 100\n",
    "\n",
    "1 ≤ X, Y ≤ 1000"
   ]
  },
  {
   "cell_type": "code",
   "execution_count": 2,
   "id": "6a912996-2a9f-499c-bce0-c96ac8fc8367",
   "metadata": {},
   "outputs": [
    {
     "name": "stdin",
     "output_type": "stream",
     "text": [
      " 4\n",
      " 2 10\n"
     ]
    },
    {
     "name": "stdout",
     "output_type": "stream",
     "text": [
      "YES\n"
     ]
    },
    {
     "name": "stdin",
     "output_type": "stream",
     "text": [
      " 3 17\n"
     ]
    },
    {
     "name": "stdout",
     "output_type": "stream",
     "text": [
      "NO\n"
     ]
    },
    {
     "name": "stdin",
     "output_type": "stream",
     "text": [
      " 4 2\n"
     ]
    },
    {
     "name": "stdout",
     "output_type": "stream",
     "text": [
      "YES\n"
     ]
    },
    {
     "name": "stdin",
     "output_type": "stream",
     "text": [
      " 6 45\n"
     ]
    },
    {
     "name": "stdout",
     "output_type": "stream",
     "text": [
      "NO\n"
     ]
    }
   ],
   "source": [
    "t = int(input())\n",
    "for i in range(t):\n",
    "    x,y = map(int,input().split())\n",
    "    z = x*5\n",
    "    if z == y or y<z:\n",
    "        print(\"YES\")\n",
    "    else:\n",
    "        print(\"NO\")"
   ]
  },
  {
   "cell_type": "markdown",
   "id": "dd6583ea-5a83-4fc2-9052-57a0cce61cc3",
   "metadata": {},
   "source": [
    "## Problem 3:\n",
    "\n",
    "Alice wrote an exam containing N true or false questions (i.e., questions whose answer is either true or false). Each question is worth 1 mark, and there is no negative marking in the examination. Alice scored K marks out of N.\n",
    "\n",
    "Bob wrote the same exam, but he marked each and every question as the opposite of what Alice did. For whichever questions Alice marked true, Bob marked false, and for whichever questions Alice marked false, Bob marked true.\n",
    "\n",
    "Determine the score of Bob.\n",
    "\n",
    "Input Format:\n",
    "The first line contains a single integer T — the number of test cases. Then the test cases follow.\n",
    "The first and only line of each test case contains two space-separated integers N and K — the total number of questions in the exam and the score of Alice.\n",
    "\n",
    "Output Format:\n",
    "For each test case, output on a new line the score of Bob.\n",
    "\n",
    "Constraints:\n",
    "1 ≤ T ≤ 2000\n",
    "1 ≤ N ≤ 100"
   ]
  },
  {
   "cell_type": "code",
   "execution_count": 1,
   "id": "a9a9e829-165c-4899-83f1-19f0ef4b0a18",
   "metadata": {},
   "outputs": [
    {
     "name": "stdin",
     "output_type": "stream",
     "text": [
      " 3\n",
      " 1 1\n"
     ]
    },
    {
     "name": "stdout",
     "output_type": "stream",
     "text": [
      "0\n"
     ]
    },
    {
     "name": "stdin",
     "output_type": "stream",
     "text": [
      " 50 0\n"
     ]
    },
    {
     "name": "stdout",
     "output_type": "stream",
     "text": [
      "50\n"
     ]
    },
    {
     "name": "stdin",
     "output_type": "stream",
     "text": [
      " 100 76\n"
     ]
    },
    {
     "name": "stdout",
     "output_type": "stream",
     "text": [
      "24\n"
     ]
    }
   ],
   "source": [
    "# cook your dish here\n",
    "t = int(input())\n",
    "for i in range(t):\n",
    "    n,k = map(int, input().split())\n",
    "    z = n-k\n",
    "    print(z)"
   ]
  },
  {
   "cell_type": "markdown",
   "id": "c605cf81-bcea-424d-a6d8-4a89c96af7d4",
   "metadata": {},
   "source": [
    "## Problem 4:\n",
    "\n",
    "Chef has to travel to another place and has the option to avail one of two cab services. The first cab service charges X rupees, and the second cab service charges Y rupees. Chef wants to spend the minimum amount of money. Which cab service should Chef take?\n",
    "\n",
    "Input Format:\n",
    "The first line contains T - the number of test cases. Then the test cases follow.\n",
    "Each test case consists of a single line containing two integers X and Y - the prices of the first and second cab services, respectively.\n",
    "\n",
    "Output Format:\n",
    "For each test case, output FIRST if the first cab service is cheaper, output SECOND if the second cab service is cheaper, or output ANY if both cab services have the same price.\n",
    "\n",
    "You may print each character of FIRST, SECOND, and ANY in uppercase or lowercase. For example, any, aNy, Any will be considered identical.\n",
    "\n",
    "Constraints:\n",
    "\n",
    "1 ≤ T ≤ 100\n",
    "\n",
    "1 ≤ X, Y ≤ 100"
   ]
  },
  {
   "cell_type": "code",
   "execution_count": 2,
   "id": "52d5112b-30a8-4922-8d50-382b49e695bb",
   "metadata": {},
   "outputs": [
    {
     "name": "stdin",
     "output_type": "stream",
     "text": [
      " 3\n",
      " 30 65\n"
     ]
    },
    {
     "name": "stdout",
     "output_type": "stream",
     "text": [
      "FIRST\n"
     ]
    },
    {
     "name": "stdin",
     "output_type": "stream",
     "text": [
      " 42 42\n"
     ]
    },
    {
     "name": "stdout",
     "output_type": "stream",
     "text": [
      "ANY\n"
     ]
    },
    {
     "name": "stdin",
     "output_type": "stream",
     "text": [
      " 90 50\n"
     ]
    },
    {
     "name": "stdout",
     "output_type": "stream",
     "text": [
      "SECOND\n"
     ]
    }
   ],
   "source": [
    "# cook your dish here\n",
    "t = int(input())\n",
    "for i in range(t):\n",
    "    x,y = map(int,input().split())\n",
    "    if x<y:\n",
    "        print(\"FIRST\")\n",
    "    elif x>y:\n",
    "        print(\"SECOND\")\n",
    "    else:\n",
    "        print(\"ANY\")"
   ]
  },
  {
   "cell_type": "markdown",
   "id": "78c76510-2d3c-401c-a1d0-1fd84c803922",
   "metadata": {},
   "source": [
    "## Problem 5:\n",
    "\n",
    "Chef's current rating is X, and he wants to improve it. It is generally recommended that a person with rating X should solve problems whose difficulty lies in the range [X, X+200], i.e., problems whose difficulty is at least X and at most X+200.\n",
    "\n",
    "You find out that Chef is currently solving problems with a difficulty of Y.\n",
    "\n",
    "Is Chef following the recommended practice or not?\n",
    "\n",
    "Input Format:\n",
    "The first line of input contains a single integer T, denoting the number of test cases. The description of the test cases follows.\n",
    "Each test case consists of a single line of input containing two space-separated integers X and Y.\n",
    "\n",
    "Output Format:\n",
    "For each test case, output on a new line YES if Chef is following the recommended practice style, and NO otherwise.\n",
    "\n",
    "Each letter of the output may be printed in either lowercase or uppercase. For example, the strings YES, yEs, and Yes will be considered identical.\n",
    "\n",
    "Constraints:\n",
    "\n",
    "1 ≤ T ≤ 100\n",
    "\n",
    "1 ≤ X, Y ≤ 4000"
   ]
  },
  {
   "cell_type": "code",
   "execution_count": 3,
   "id": "88971a3f-acbf-4340-865c-1dbf6a5c7f81",
   "metadata": {},
   "outputs": [
    {
     "name": "stdin",
     "output_type": "stream",
     "text": [
      " 5\n",
      " 1300 1500\n"
     ]
    },
    {
     "name": "stdout",
     "output_type": "stream",
     "text": [
      "YES\n"
     ]
    },
    {
     "name": "stdin",
     "output_type": "stream",
     "text": [
      " 1201 1402\n"
     ]
    },
    {
     "name": "stdout",
     "output_type": "stream",
     "text": [
      "NO\n"
     ]
    },
    {
     "name": "stdin",
     "output_type": "stream",
     "text": [
      " 300 4000\n"
     ]
    },
    {
     "name": "stdout",
     "output_type": "stream",
     "text": [
      "NO\n"
     ]
    },
    {
     "name": "stdin",
     "output_type": "stream",
     "text": [
      " 723 805\n"
     ]
    },
    {
     "name": "stdout",
     "output_type": "stream",
     "text": [
      "YES\n"
     ]
    },
    {
     "name": "stdin",
     "output_type": "stream",
     "text": [
      " 1330 512\n"
     ]
    },
    {
     "name": "stdout",
     "output_type": "stream",
     "text": [
      "NO\n"
     ]
    }
   ],
   "source": [
    "# cook your dish here\n",
    "t = int(input())\n",
    "for i in range(t):\n",
    "    x,y = map(int,input().split())\n",
    "    z = x+200\n",
    "    if y>=x and y<=z:\n",
    "        print(\"YES\")\n",
    "    else:\n",
    "        print(\"NO\")"
   ]
  },
  {
   "cell_type": "markdown",
   "id": "bf352ae8-9d1c-4f7e-8006-0946d4bd4c3e",
   "metadata": {},
   "source": [
    "## Problem 6:\n",
    "\n",
    "Alice buys a toy with a selling price of 100 rupees. There is a discount of x percent on the toy. Find the amount Alice needs to pay for it.\n",
    "\n",
    "Input Format:\n",
    "The first line of input contains a single integer T, denoting the number of test cases.\n",
    "The following T lines contain a single integer x, representing the discount on the toy.\n",
    "\n",
    "Output Format:\n",
    "For each test case, output on a new line the price that Alice needs to pay.\n",
    "\n",
    "Constraints:\n",
    "\n",
    "1 ≤ T ≤ 100\n",
    "\n",
    "0 ≤ x < 100"
   ]
  },
  {
   "cell_type": "code",
   "execution_count": 5,
   "id": "1209089c-6b79-4106-bc47-6c11682cd091",
   "metadata": {},
   "outputs": [
    {
     "name": "stdin",
     "output_type": "stream",
     "text": [
      " 4\n",
      " 23\n"
     ]
    },
    {
     "name": "stdout",
     "output_type": "stream",
     "text": [
      "77\n"
     ]
    },
    {
     "name": "stdin",
     "output_type": "stream",
     "text": [
      " 56\n"
     ]
    },
    {
     "name": "stdout",
     "output_type": "stream",
     "text": [
      "44\n"
     ]
    },
    {
     "name": "stdin",
     "output_type": "stream",
     "text": [
      " 7\n"
     ]
    },
    {
     "name": "stdout",
     "output_type": "stream",
     "text": [
      "93\n"
     ]
    },
    {
     "name": "stdin",
     "output_type": "stream",
     "text": [
      " 1\n"
     ]
    },
    {
     "name": "stdout",
     "output_type": "stream",
     "text": [
      "99\n"
     ]
    }
   ],
   "source": [
    "# cook your dish here\n",
    "t = int(input())\n",
    "for i in range(t):\n",
    "    x = int(input())\n",
    "    d = 100-x\n",
    "    print(d)\n",
    "    "
   ]
  },
  {
   "cell_type": "markdown",
   "id": "b95f3b92-9a78-448f-8d6e-fb9ca5412bbb",
   "metadata": {},
   "source": [
    "## Problem 7:\n",
    "\n",
    "Chef has X 5-rupee coins and Y 10-rupee coins. Chef goes to a shop to buy chocolates for Chefina, where each chocolate costs Z rupees. Find the maximum number of chocolates that Chef can buy for Chefina.\n",
    "\n",
    "Input Format:\n",
    "The first line contains a single integer T - the number of test cases. Then the test cases follow.\n",
    "Each test case consists of a single line containing three integers X, Y, and Z - the number of 5-rupee coins, the number of 10-rupee coins, and the cost of each chocolate.\n",
    "\n",
    "Output Format:\n",
    "For each test case, output the maximum number of chocolates that Chef can buy for Chefina.\n",
    "\n",
    "Constraints:\n",
    "1 ≤ T ≤ 100\n",
    "1 ≤ X, Y, Z ≤ 1000"
   ]
  },
  {
   "cell_type": "code",
   "execution_count": 6,
   "id": "f5949794-81dc-48ae-80c7-7271d6ea94c7",
   "metadata": {},
   "outputs": [
    {
     "name": "stdin",
     "output_type": "stream",
     "text": [
      " 3\n",
      " 10 10 10\n"
     ]
    },
    {
     "name": "stdout",
     "output_type": "stream",
     "text": [
      "15\n"
     ]
    },
    {
     "name": "stdin",
     "output_type": "stream",
     "text": [
      " 3 1 8\n"
     ]
    },
    {
     "name": "stdout",
     "output_type": "stream",
     "text": [
      "3\n"
     ]
    },
    {
     "name": "stdin",
     "output_type": "stream",
     "text": [
      " 8 1 3\n"
     ]
    },
    {
     "name": "stdout",
     "output_type": "stream",
     "text": [
      "16\n"
     ]
    }
   ],
   "source": [
    "# cook your dish here\n",
    "t = int(input())\n",
    "for i in range(t):\n",
    "    x,y,z = map(int,input().split())\n",
    "    x = x*5\n",
    "    y = y*10\n",
    "    a = x+y\n",
    "    c = a//z\n",
    "    print(c)"
   ]
  },
  {
   "cell_type": "markdown",
   "id": "7a6ab7ba-536e-49fd-a08b-ea2a8c5e730a",
   "metadata": {},
   "source": [
    "## Problem 8:\n",
    "\n",
    "In a recent breakthrough in mathematics, the proof utilized a concept called Height.\n",
    "\n",
    "Consider a fraction a/b. Its Height is defined as the maximum of its numerator and denominator. So, for example, the Height of 3/19 would be 19, and the Height of 27/4 would be 27.\n",
    "\n",
    "Given a and b, find the Height of a/b.\n",
    "\n",
    "Input Format:\n",
    "The only line of input contains two integers, a and b.\n",
    "\n",
    "Output Format:\n",
    "Output a single integer, which is the Height of a/b.\n",
    "\n",
    "Constraints:\n",
    "\n",
    "1 ≤ a, b ≤ 100\n",
    "\n",
    "a and b do not have any common factors."
   ]
  },
  {
   "cell_type": "code",
   "execution_count": 7,
   "id": "ed8f6b52-6cd1-4299-bcb1-be22aaf95764",
   "metadata": {},
   "outputs": [
    {
     "name": "stdin",
     "output_type": "stream",
     "text": [
      " 3 19\n"
     ]
    },
    {
     "name": "stdout",
     "output_type": "stream",
     "text": [
      "19\n"
     ]
    }
   ],
   "source": [
    "a,b = map(int,input().split())\n",
    "x = max(a,b)\n",
    "print(x)"
   ]
  },
  {
   "cell_type": "code",
   "execution_count": null,
   "id": "1184bf06-0dc6-4249-aa08-1cf2d5e1b063",
   "metadata": {},
   "outputs": [],
   "source": []
  }
 ],
 "metadata": {
  "kernelspec": {
   "display_name": "Python 3 (ipykernel)",
   "language": "python",
   "name": "python3"
  },
  "language_info": {
   "codemirror_mode": {
    "name": "ipython",
    "version": 3
   },
   "file_extension": ".py",
   "mimetype": "text/x-python",
   "name": "python",
   "nbconvert_exporter": "python",
   "pygments_lexer": "ipython3",
   "version": "3.10.8"
  }
 },
 "nbformat": 4,
 "nbformat_minor": 5
}
