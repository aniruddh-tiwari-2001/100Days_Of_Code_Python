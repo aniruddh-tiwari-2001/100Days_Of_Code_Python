{
 "cells": [
  {
   "cell_type": "markdown",
   "id": "a462ac75-ebec-4b77-9aad-565af63fe625",
   "metadata": {},
   "source": [
    "# Day_27\n",
    "## Topics covered on Day 27\n",
    "- Special (Magic Dunder) Methods\n",
    "- Property Decorators Getters, Setters, And Deletes\n",
    "- Few Interview questions:\n",
    "- Q1. Explain Class and Object with respect to Object-Oriented Programming. Give a suitable example.\n",
    "- Q2. Name the four pillars of OOPs.\n",
    "- Q3. Explain why the __ init __() function is used. Give a suitable example.\n",
    "- Q4. Why self is used in OOPs?\n",
    "- Q5. What is inheritance? Give an example for each type of inheritance.\n",
    "- Q6. What is Abstraction in OOps? Explain with an example.\n",
    "- Q7. Differentiate between Abstraction and Encapsulation. Explain with an example."
   ]
  },
  {
   "cell_type": "markdown",
   "id": "7bda0b07-a35c-4266-9144-f2f346091825",
   "metadata": {},
   "source": [
    "## Special (Magic Dunder) Methods"
   ]
  },
  {
   "cell_type": "code",
   "execution_count": 1,
   "id": "4bd7f7c1-3715-4e80-9c7a-4e7a7581d2f0",
   "metadata": {},
   "outputs": [
    {
     "data": {
      "text/plain": [
       "['__abs__',\n",
       " '__add__',\n",
       " '__and__',\n",
       " '__bool__',\n",
       " '__ceil__',\n",
       " '__class__',\n",
       " '__delattr__',\n",
       " '__dir__',\n",
       " '__divmod__',\n",
       " '__doc__',\n",
       " '__eq__',\n",
       " '__float__',\n",
       " '__floor__',\n",
       " '__floordiv__',\n",
       " '__format__',\n",
       " '__ge__',\n",
       " '__getattribute__',\n",
       " '__getnewargs__',\n",
       " '__gt__',\n",
       " '__hash__',\n",
       " '__index__',\n",
       " '__init__',\n",
       " '__init_subclass__',\n",
       " '__int__',\n",
       " '__invert__',\n",
       " '__le__',\n",
       " '__lshift__',\n",
       " '__lt__',\n",
       " '__mod__',\n",
       " '__mul__',\n",
       " '__ne__',\n",
       " '__neg__',\n",
       " '__new__',\n",
       " '__or__',\n",
       " '__pos__',\n",
       " '__pow__',\n",
       " '__radd__',\n",
       " '__rand__',\n",
       " '__rdivmod__',\n",
       " '__reduce__',\n",
       " '__reduce_ex__',\n",
       " '__repr__',\n",
       " '__rfloordiv__',\n",
       " '__rlshift__',\n",
       " '__rmod__',\n",
       " '__rmul__',\n",
       " '__ror__',\n",
       " '__round__',\n",
       " '__rpow__',\n",
       " '__rrshift__',\n",
       " '__rshift__',\n",
       " '__rsub__',\n",
       " '__rtruediv__',\n",
       " '__rxor__',\n",
       " '__setattr__',\n",
       " '__sizeof__',\n",
       " '__str__',\n",
       " '__sub__',\n",
       " '__subclasshook__',\n",
       " '__truediv__',\n",
       " '__trunc__',\n",
       " '__xor__',\n",
       " 'as_integer_ratio',\n",
       " 'bit_count',\n",
       " 'bit_length',\n",
       " 'conjugate',\n",
       " 'denominator',\n",
       " 'from_bytes',\n",
       " 'imag',\n",
       " 'numerator',\n",
       " 'real',\n",
       " 'to_bytes']"
      ]
     },
     "execution_count": 1,
     "metadata": {},
     "output_type": "execute_result"
    }
   ],
   "source": [
    "dir(int)"
   ]
  },
  {
   "cell_type": "code",
   "execution_count": 2,
   "id": "b4b464ba-6b57-4b0c-9f2b-a4c4d6d16c25",
   "metadata": {},
   "outputs": [
    {
     "data": {
      "text/plain": [
       "['__add__',\n",
       " '__class__',\n",
       " '__contains__',\n",
       " '__delattr__',\n",
       " '__dir__',\n",
       " '__doc__',\n",
       " '__eq__',\n",
       " '__format__',\n",
       " '__ge__',\n",
       " '__getattribute__',\n",
       " '__getitem__',\n",
       " '__getnewargs__',\n",
       " '__gt__',\n",
       " '__hash__',\n",
       " '__init__',\n",
       " '__init_subclass__',\n",
       " '__iter__',\n",
       " '__le__',\n",
       " '__len__',\n",
       " '__lt__',\n",
       " '__mod__',\n",
       " '__mul__',\n",
       " '__ne__',\n",
       " '__new__',\n",
       " '__reduce__',\n",
       " '__reduce_ex__',\n",
       " '__repr__',\n",
       " '__rmod__',\n",
       " '__rmul__',\n",
       " '__setattr__',\n",
       " '__sizeof__',\n",
       " '__str__',\n",
       " '__subclasshook__',\n",
       " 'capitalize',\n",
       " 'casefold',\n",
       " 'center',\n",
       " 'count',\n",
       " 'encode',\n",
       " 'endswith',\n",
       " 'expandtabs',\n",
       " 'find',\n",
       " 'format',\n",
       " 'format_map',\n",
       " 'index',\n",
       " 'isalnum',\n",
       " 'isalpha',\n",
       " 'isascii',\n",
       " 'isdecimal',\n",
       " 'isdigit',\n",
       " 'isidentifier',\n",
       " 'islower',\n",
       " 'isnumeric',\n",
       " 'isprintable',\n",
       " 'isspace',\n",
       " 'istitle',\n",
       " 'isupper',\n",
       " 'join',\n",
       " 'ljust',\n",
       " 'lower',\n",
       " 'lstrip',\n",
       " 'maketrans',\n",
       " 'partition',\n",
       " 'removeprefix',\n",
       " 'removesuffix',\n",
       " 'replace',\n",
       " 'rfind',\n",
       " 'rindex',\n",
       " 'rjust',\n",
       " 'rpartition',\n",
       " 'rsplit',\n",
       " 'rstrip',\n",
       " 'split',\n",
       " 'splitlines',\n",
       " 'startswith',\n",
       " 'strip',\n",
       " 'swapcase',\n",
       " 'title',\n",
       " 'translate',\n",
       " 'upper',\n",
       " 'zfill']"
      ]
     },
     "execution_count": 2,
     "metadata": {},
     "output_type": "execute_result"
    }
   ],
   "source": [
    "dir(str)"
   ]
  },
  {
   "cell_type": "code",
   "execution_count": 3,
   "id": "3272184d-92f3-4f6b-90f5-16c40ed26676",
   "metadata": {},
   "outputs": [
    {
     "data": {
      "text/plain": [
       "['__abs__',\n",
       " '__add__',\n",
       " '__bool__',\n",
       " '__ceil__',\n",
       " '__class__',\n",
       " '__delattr__',\n",
       " '__dir__',\n",
       " '__divmod__',\n",
       " '__doc__',\n",
       " '__eq__',\n",
       " '__float__',\n",
       " '__floor__',\n",
       " '__floordiv__',\n",
       " '__format__',\n",
       " '__ge__',\n",
       " '__getattribute__',\n",
       " '__getformat__',\n",
       " '__getnewargs__',\n",
       " '__gt__',\n",
       " '__hash__',\n",
       " '__init__',\n",
       " '__init_subclass__',\n",
       " '__int__',\n",
       " '__le__',\n",
       " '__lt__',\n",
       " '__mod__',\n",
       " '__mul__',\n",
       " '__ne__',\n",
       " '__neg__',\n",
       " '__new__',\n",
       " '__pos__',\n",
       " '__pow__',\n",
       " '__radd__',\n",
       " '__rdivmod__',\n",
       " '__reduce__',\n",
       " '__reduce_ex__',\n",
       " '__repr__',\n",
       " '__rfloordiv__',\n",
       " '__rmod__',\n",
       " '__rmul__',\n",
       " '__round__',\n",
       " '__rpow__',\n",
       " '__rsub__',\n",
       " '__rtruediv__',\n",
       " '__setattr__',\n",
       " '__setformat__',\n",
       " '__sizeof__',\n",
       " '__str__',\n",
       " '__sub__',\n",
       " '__subclasshook__',\n",
       " '__truediv__',\n",
       " '__trunc__',\n",
       " 'as_integer_ratio',\n",
       " 'conjugate',\n",
       " 'fromhex',\n",
       " 'hex',\n",
       " 'imag',\n",
       " 'is_integer',\n",
       " 'real']"
      ]
     },
     "execution_count": 3,
     "metadata": {},
     "output_type": "execute_result"
    }
   ],
   "source": [
    "dir(float)"
   ]
  },
  {
   "cell_type": "code",
   "execution_count": 4,
   "id": "1d3da226-f0de-48d1-87d3-40fbd2e00607",
   "metadata": {},
   "outputs": [],
   "source": [
    "a = 100"
   ]
  },
  {
   "cell_type": "code",
   "execution_count": 5,
   "id": "64ea408b-85fa-41df-ab6d-98a4a88b9bb1",
   "metadata": {},
   "outputs": [
    {
     "data": {
      "text/plain": [
       "105"
      ]
     },
     "execution_count": 5,
     "metadata": {},
     "output_type": "execute_result"
    }
   ],
   "source": [
    "a+5"
   ]
  },
  {
   "cell_type": "code",
   "execution_count": 6,
   "id": "a867ef36-02a5-4e14-8e65-4d5d4d526428",
   "metadata": {},
   "outputs": [
    {
     "data": {
      "text/plain": [
       "105"
      ]
     },
     "execution_count": 6,
     "metadata": {},
     "output_type": "execute_result"
    }
   ],
   "source": [
    "a.__add__(5)"
   ]
  },
  {
   "cell_type": "code",
   "execution_count": 7,
   "id": "83a9afe3-e55e-45c8-a1e3-890188040cb5",
   "metadata": {},
   "outputs": [
    {
     "data": {
      "text/plain": [
       "95"
      ]
     },
     "execution_count": 7,
     "metadata": {},
     "output_type": "execute_result"
    }
   ],
   "source": [
    "a.__sub__(5)"
   ]
  },
  {
   "cell_type": "code",
   "execution_count": 8,
   "id": "803bcbe1-0b27-4c37-b212-126956631d0d",
   "metadata": {},
   "outputs": [
    {
     "data": {
      "text/plain": [
       "1000"
      ]
     },
     "execution_count": 8,
     "metadata": {},
     "output_type": "execute_result"
    }
   ],
   "source": [
    "a.__mul__(10)"
   ]
  },
  {
   "cell_type": "code",
   "execution_count": 25,
   "id": "bea2e604-a072-4289-8540-f5cfe1c41c6b",
   "metadata": {},
   "outputs": [],
   "source": [
    "class pwskills9:\n",
    "    def __new__(cls):\n",
    "        print(\"This is my new\")\n",
    "    \n",
    "    def __init__(self):\n",
    "        print(\"This is my init\")\n",
    "        \n",
    "        self.mobile_number = 9424669633"
   ]
  },
  {
   "cell_type": "code",
   "execution_count": 26,
   "id": "17925e43-2d64-40fa-977e-c28a1435f346",
   "metadata": {},
   "outputs": [
    {
     "name": "stdout",
     "output_type": "stream",
     "text": [
      "This is my new\n"
     ]
    }
   ],
   "source": [
    "pw = pwskills9()"
   ]
  },
  {
   "cell_type": "code",
   "execution_count": 27,
   "id": "4e119e23-aeab-43b1-b461-9c1c8c03414b",
   "metadata": {},
   "outputs": [
    {
     "ename": "AttributeError",
     "evalue": "'NoneType' object has no attribute 'mobile_number'",
     "output_type": "error",
     "traceback": [
      "\u001b[0;31m---------------------------------------------------------------------------\u001b[0m",
      "\u001b[0;31mAttributeError\u001b[0m                            Traceback (most recent call last)",
      "Cell \u001b[0;32mIn[27], line 1\u001b[0m\n\u001b[0;32m----> 1\u001b[0m \u001b[43mpw\u001b[49m\u001b[38;5;241;43m.\u001b[39;49m\u001b[43mmobile_number\u001b[49m\n",
      "\u001b[0;31mAttributeError\u001b[0m: 'NoneType' object has no attribute 'mobile_number'"
     ]
    }
   ],
   "source": [
    "pw.mobile_number"
   ]
  },
  {
   "cell_type": "code",
   "execution_count": 41,
   "id": "837be899-35e9-4fa5-9957-799ee79676bf",
   "metadata": {},
   "outputs": [],
   "source": [
    "class pwskills10:\n",
    "    def __init__(self):\n",
    "        self.mobile_number = 9424669633\n",
    "    def __str__(self):\n",
    "        return \"This is my magic call of str\""
   ]
  },
  {
   "cell_type": "code",
   "execution_count": 42,
   "id": "20d4aa26-ff2c-4b92-a278-41c3f4ad2a0d",
   "metadata": {},
   "outputs": [],
   "source": [
    "pw1 = pwskills10()"
   ]
  },
  {
   "cell_type": "code",
   "execution_count": 43,
   "id": "207ef1f2-1c6e-4a26-8b7b-1b37c7205f34",
   "metadata": {},
   "outputs": [
    {
     "data": {
      "text/plain": [
       "<__main__.pwskills10 at 0x7fa1d438ac50>"
      ]
     },
     "execution_count": 43,
     "metadata": {},
     "output_type": "execute_result"
    }
   ],
   "source": [
    "pw1"
   ]
  },
  {
   "cell_type": "code",
   "execution_count": 44,
   "id": "dc095564-a348-4298-93ad-cf8d473d3a92",
   "metadata": {},
   "outputs": [
    {
     "name": "stdout",
     "output_type": "stream",
     "text": [
      "This is my magic call of str\n"
     ]
    }
   ],
   "source": [
    "print(pw1)"
   ]
  },
  {
   "cell_type": "markdown",
   "id": "9eaf421e-367d-4bfa-951d-d7422619b042",
   "metadata": {},
   "source": [
    "## Property Decorators Getters, Setters, And Deletes"
   ]
  },
  {
   "cell_type": "code",
   "execution_count": 4,
   "id": "ddccf7de-3010-490e-9c61-2546f31fb97c",
   "metadata": {},
   "outputs": [],
   "source": [
    "class pwskills11:\n",
    "    def __init__(self, course_price, course_name):\n",
    "        self.__course_price = course_price\n",
    "        self.course_name = course_name"
   ]
  },
  {
   "cell_type": "code",
   "execution_count": 6,
   "id": "2ba5ae2c-a642-472b-a60d-069981fe77a6",
   "metadata": {},
   "outputs": [],
   "source": [
    "pw = pwskills11(3500, \"Data Science Masters\")"
   ]
  },
  {
   "cell_type": "code",
   "execution_count": 7,
   "id": "29eab810-7a06-42fd-907b-a2470bc3f76c",
   "metadata": {},
   "outputs": [
    {
     "data": {
      "text/plain": [
       "'Data Science Masters'"
      ]
     },
     "execution_count": 7,
     "metadata": {},
     "output_type": "execute_result"
    }
   ],
   "source": [
    "pw.course_name"
   ]
  },
  {
   "cell_type": "code",
   "execution_count": 9,
   "id": "39e9568c-ab72-47d4-9c44-408630a6ef80",
   "metadata": {},
   "outputs": [
    {
     "ename": "AttributeError",
     "evalue": "'pwskills11' object has no attribute '__course_price'",
     "output_type": "error",
     "traceback": [
      "\u001b[0;31m---------------------------------------------------------------------------\u001b[0m",
      "\u001b[0;31mAttributeError\u001b[0m                            Traceback (most recent call last)",
      "Cell \u001b[0;32mIn[9], line 1\u001b[0m\n\u001b[0;32m----> 1\u001b[0m \u001b[43mpw\u001b[49m\u001b[38;5;241;43m.\u001b[39;49m\u001b[43m__course_price\u001b[49m\n",
      "\u001b[0;31mAttributeError\u001b[0m: 'pwskills11' object has no attribute '__course_price'"
     ]
    }
   ],
   "source": [
    "pw.__course_price"
   ]
  },
  {
   "cell_type": "code",
   "execution_count": 10,
   "id": "a98e6d08-ad52-4335-8f50-4935b8152804",
   "metadata": {},
   "outputs": [
    {
     "data": {
      "text/plain": [
       "3500"
      ]
     },
     "execution_count": 10,
     "metadata": {},
     "output_type": "execute_result"
    }
   ],
   "source": [
    "pw._pwskills11__course_price"
   ]
  },
  {
   "cell_type": "code",
   "execution_count": 39,
   "id": "a93d2223-d2fc-4661-ab5d-e16e5052f3e5",
   "metadata": {},
   "outputs": [],
   "source": [
    "## how to give access to the user to modify or delete the privet varible\n",
    "class pwskills12:\n",
    "    def __init__(self, course_price, course_name):\n",
    "        self.__course_price = course_price\n",
    "        self.course_name = course_name\n",
    "    \n",
    "    @property ## we access privare varible using this method @property\n",
    "    def course_price_access(self):\n",
    "        return self.__course_price\n",
    "    \n",
    "    # Updating the course price using setter\n",
    "    @course_price_access.setter\n",
    "    def course_price_set(self,price):\n",
    "        if price<= 3500:\n",
    "            pass\n",
    "        else:\n",
    "            self.__course_price = price\n",
    "    \n",
    "    # deleting the course price using deleter\n",
    "    @course_price_access.deleter\n",
    "    def course_price_del(self):\n",
    "        del self.__course_price"
   ]
  },
  {
   "cell_type": "code",
   "execution_count": 40,
   "id": "80ca77ec-89d2-4940-8b43-2c4b6571fbd0",
   "metadata": {},
   "outputs": [],
   "source": [
    "pw = pwskills12(3500, \"Data Science Masters\")"
   ]
  },
  {
   "cell_type": "code",
   "execution_count": 41,
   "id": "8a3b9ee7-887a-4831-8a17-bc607c10a542",
   "metadata": {},
   "outputs": [
    {
     "data": {
      "text/plain": [
       "3500"
      ]
     },
     "execution_count": 41,
     "metadata": {},
     "output_type": "execute_result"
    }
   ],
   "source": [
    "pw.course_price_access"
   ]
  },
  {
   "cell_type": "code",
   "execution_count": 42,
   "id": "3ad15683-f0a7-4ea9-b48c-7eeaf7b6c67e",
   "metadata": {},
   "outputs": [],
   "source": [
    "pw.course_price_set = 4500"
   ]
  },
  {
   "cell_type": "code",
   "execution_count": 43,
   "id": "0bbdf48a-57b8-4a1a-bc99-daa5af353dbe",
   "metadata": {},
   "outputs": [
    {
     "data": {
      "text/plain": [
       "4500"
      ]
     },
     "execution_count": 43,
     "metadata": {},
     "output_type": "execute_result"
    }
   ],
   "source": [
    "pw.course_price_access"
   ]
  },
  {
   "cell_type": "code",
   "execution_count": 44,
   "id": "c42fd8f7-bc5b-419c-b331-848dd114ec0a",
   "metadata": {},
   "outputs": [],
   "source": [
    "del pw.course_price_del"
   ]
  },
  {
   "cell_type": "code",
   "execution_count": 45,
   "id": "39110dce-4ff8-44d3-81ec-007878fe2289",
   "metadata": {},
   "outputs": [
    {
     "ename": "AttributeError",
     "evalue": "'pwskills12' object has no attribute '_pwskills12__course_price'",
     "output_type": "error",
     "traceback": [
      "\u001b[0;31m---------------------------------------------------------------------------\u001b[0m",
      "\u001b[0;31mAttributeError\u001b[0m                            Traceback (most recent call last)",
      "Cell \u001b[0;32mIn[45], line 1\u001b[0m\n\u001b[0;32m----> 1\u001b[0m \u001b[43mpw\u001b[49m\u001b[38;5;241;43m.\u001b[39;49m\u001b[43mcourse_price_access\u001b[49m\n",
      "Cell \u001b[0;32mIn[39], line 9\u001b[0m, in \u001b[0;36mpwskills12.course_price_access\u001b[0;34m(self)\u001b[0m\n\u001b[1;32m      7\u001b[0m \u001b[38;5;129m@property\u001b[39m \u001b[38;5;66;03m## we access privare varible using this method @property\u001b[39;00m\n\u001b[1;32m      8\u001b[0m \u001b[38;5;28;01mdef\u001b[39;00m \u001b[38;5;21mcourse_price_access\u001b[39m(\u001b[38;5;28mself\u001b[39m):\n\u001b[0;32m----> 9\u001b[0m     \u001b[38;5;28;01mreturn\u001b[39;00m \u001b[38;5;28;43mself\u001b[39;49m\u001b[38;5;241;43m.\u001b[39;49m\u001b[43m__course_price\u001b[49m\n",
      "\u001b[0;31mAttributeError\u001b[0m: 'pwskills12' object has no attribute '_pwskills12__course_price'"
     ]
    }
   ],
   "source": [
    "pw.course_price_access"
   ]
  },
  {
   "cell_type": "markdown",
   "id": "9193c405-9599-49f4-800c-f81583a33cdf",
   "metadata": {},
   "source": [
    "### Q1. Explain Class and Object with respect to Object-Oriented Programming. Give a suitable example.\n",
    "\n"
   ]
  },
  {
   "cell_type": "markdown",
   "id": "37f0d48b-8e3c-45c3-a2a2-0bf87cb12a52",
   "metadata": {},
   "source": [
    "Class :- Class is a blueprint/template for creating a object\n",
    "\n",
    "Object :- Object is a real-world entity or concept and can interact with other objects. And every object bleongs to a class\n",
    "\n",
    "For Example :- \n",
    "\n",
    "In real life, a car is an object. \n",
    "The car has attributes, such as:\n",
    "- model name \n",
    "- color\n",
    "- brand\n",
    "\n",
    "methods, such as:\n",
    "- drive\n",
    "- brake"
   ]
  },
  {
   "cell_type": "code",
   "execution_count": 2,
   "id": "c81dc698-d4a2-49a9-899c-b13402a187cb",
   "metadata": {},
   "outputs": [],
   "source": [
    "class car:\n",
    "    def __init__(self, brand,model, color):\n",
    "        self.model = model\n",
    "        self.color = color\n",
    "        self.brand = brand\n",
    "        \n",
    "    def drive(self):\n",
    "        print(f\"I am driving {self.brand} {self.model} in colour {self.color}\")\n",
    "    "
   ]
  },
  {
   "cell_type": "code",
   "execution_count": 3,
   "id": "80513eba-597b-4c52-aa02-117fc7928d57",
   "metadata": {},
   "outputs": [],
   "source": [
    "## Creating an object\n",
    "car_obj = car(\"BMW\", \"Z4\", \"Skyscraper Grey metallic\")"
   ]
  },
  {
   "cell_type": "code",
   "execution_count": 4,
   "id": "6862a82c-8ef5-49ab-b1f1-8e4f4ade03f1",
   "metadata": {},
   "outputs": [
    {
     "name": "stdout",
     "output_type": "stream",
     "text": [
      "I am driving BMW Z4 in colour Skyscraper Grey metallic\n"
     ]
    }
   ],
   "source": [
    "car_obj.drive()"
   ]
  },
  {
   "cell_type": "markdown",
   "id": "c0e7e76c-e346-4fe3-b07a-38de5e7b28e4",
   "metadata": {},
   "source": [
    "### Q2. Name the four pillars of OOPs."
   ]
  },
  {
   "cell_type": "markdown",
   "id": "022bdc35-9656-42bc-84f9-87f881f67a8c",
   "metadata": {},
   "source": [
    "The Four Pillars of OOPs are:\n",
    "1. Inheritance\n",
    "        \n",
    "        1.1 Multiple Inheritance\n",
    "        \n",
    "        1.2 Multilevel Inheritance\n",
    "        \n",
    "2. Polymorphism\n",
    "\n",
    "3. Encapsulation\n",
    "\n",
    "4. Abstraction"
   ]
  },
  {
   "cell_type": "markdown",
   "id": "7d16fd72-8331-46eb-b6c1-a0e39356065d",
   "metadata": {},
   "source": [
    "### Q3. Explain why the __ init __() function is used. Give a suitable example. "
   ]
  },
  {
   "cell_type": "markdown",
   "id": "dff13ed3-2bda-4631-8c1d-37602f2e8181",
   "metadata": {},
   "source": [
    "Use the __init__() function to assign values to object properties\n",
    "\n",
    "The __init__() method is often referred to as the constructor of a class because it is responsible for initializing the object. It is defined within the class and takes the self parameter as the first argument, which represents the instance of the class being created. Other arguments can also be included in the __init__() method to specify initial values for the object's attributes."
   ]
  },
  {
   "cell_type": "code",
   "execution_count": 7,
   "id": "e31a24ce-03ab-4c45-9ec0-cf34eb446349",
   "metadata": {},
   "outputs": [],
   "source": [
    "class Person:\n",
    "    def __init__(self, name, age):\n",
    "        self.name = name\n",
    "        self.age = age\n",
    "\n",
    "    def display_info(self):\n",
    "        print(\"Name:\", self.name)\n",
    "        print(\"Age:\", self.age)\n"
   ]
  },
  {
   "cell_type": "code",
   "execution_count": 8,
   "id": "75345ab4-ca3b-4717-9462-988c476e44a4",
   "metadata": {},
   "outputs": [
    {
     "name": "stdout",
     "output_type": "stream",
     "text": [
      "Name: John\n",
      "Age: 25\n",
      "Name: Alice\n",
      "Age: 30\n"
     ]
    }
   ],
   "source": [
    "# Creating objects of the Person class\n",
    "person1 = Person(\"John\", 25)\n",
    "person2 = Person(\"Alice\", 30)\n",
    "\n",
    "# Accessing object attributes and methods\n",
    "person1.display_info()\n",
    "person2.display_info()"
   ]
  },
  {
   "cell_type": "markdown",
   "id": "fbf229dc-4589-4458-b87f-2128a5bbe8aa",
   "metadata": {},
   "source": [
    "### Q4. Why self is used in OOPs?"
   ]
  },
  {
   "cell_type": "markdown",
   "id": "21445bce-6c54-40ad-b8f6-dadc48ae73df",
   "metadata": {},
   "source": [
    "self is a variable that contains the memory reference of the current object. In Python, self is the conventional name used as the first parameter of instance methods within a class. It is not a reserved keyword but is widely followed as a naming convention.\n",
    "\n",
    "When a method is called on an instance of a class, the instance itself is automatically passed as the first argument to the method, and by convention, this argument is named self. It allows the method to access and operate on the instance's attributes and methods."
   ]
  },
  {
   "cell_type": "markdown",
   "id": "e9519b6d-0296-4360-bdb4-77cb0abf4d15",
   "metadata": {},
   "source": [
    "### Q5. What is inheritance? Give an example for each type of inheritance."
   ]
  },
  {
   "cell_type": "markdown",
   "id": "bb92119a-bcde-4d70-89c5-8ed294231156",
   "metadata": {},
   "source": [
    "inherit attributes and methods from one class to another. We group the \"inheritance concept\" into two categories:\n",
    "\n",
    "derived class (child) - the class that inherits from another class\n",
    "base class (parent) - the class being inherited from\n",
    "\n",
    "Type of Inheritance:\n",
    "- Multiple Inheritance\n",
    "- Multilevel Inheritance"
   ]
  },
  {
   "cell_type": "code",
   "execution_count": 12,
   "id": "cb49b82f-8540-43e2-b542-2dada3775de7",
   "metadata": {},
   "outputs": [],
   "source": [
    "## Inheritance\n",
    "class test:\n",
    "    \n",
    "    def test_meth(self): #self create a pointer or a refrence towards a class\n",
    "        return \"This is my First class\"\n",
    "class child_test(test):\n",
    "    pass"
   ]
  },
  {
   "cell_type": "code",
   "execution_count": 13,
   "id": "bc35531c-f53e-48e5-98f0-0549d7a5240a",
   "metadata": {},
   "outputs": [],
   "source": [
    "child_test_obj = child_test()"
   ]
  },
  {
   "cell_type": "code",
   "execution_count": 14,
   "id": "a02750d5-195f-4eac-ae39-a1553ff3d21f",
   "metadata": {},
   "outputs": [
    {
     "data": {
      "text/plain": [
       "'This is my First class'"
      ]
     },
     "execution_count": 14,
     "metadata": {},
     "output_type": "execute_result"
    }
   ],
   "source": [
    "child_test_obj.test_meth()"
   ]
  },
  {
   "cell_type": "code",
   "execution_count": 15,
   "id": "de608daf-3e53-47ad-af75-36bce1d76fa0",
   "metadata": {},
   "outputs": [],
   "source": [
    "## Multilevel Inheritance\n",
    "class class1:\n",
    "    \n",
    "    def test_class1(self):\n",
    "        return \"This is a method from Class1\"\n",
    "    \n",
    "class class2(class1):\n",
    "    def test_class2(self):\n",
    "        return \"This is a method from class2\"\n",
    "\n",
    "class class3(class2):\n",
    "    pass"
   ]
  },
  {
   "cell_type": "code",
   "execution_count": 16,
   "id": "7ebf4e50-78ef-4ec8-89f9-8cd5c776e14d",
   "metadata": {},
   "outputs": [],
   "source": [
    "class3_obj = class3()"
   ]
  },
  {
   "cell_type": "code",
   "execution_count": 17,
   "id": "fc09abe9-5caa-495e-930f-8bd4a5afb7d1",
   "metadata": {},
   "outputs": [
    {
     "data": {
      "text/plain": [
       "'This is a method from Class1'"
      ]
     },
     "execution_count": 17,
     "metadata": {},
     "output_type": "execute_result"
    }
   ],
   "source": [
    "class3_obj.test_class1()"
   ]
  },
  {
   "cell_type": "code",
   "execution_count": 18,
   "id": "3e6f52da-5e08-49c6-9e91-2a8b577c3227",
   "metadata": {},
   "outputs": [
    {
     "data": {
      "text/plain": [
       "'This is a method from class2'"
      ]
     },
     "execution_count": 18,
     "metadata": {},
     "output_type": "execute_result"
    }
   ],
   "source": [
    "class3_obj.test_class2()"
   ]
  },
  {
   "cell_type": "code",
   "execution_count": 19,
   "id": "6619c36d-b6b6-4ce8-b774-3470eea237d4",
   "metadata": {},
   "outputs": [],
   "source": [
    "## Multiple Inheritance\n",
    "class class1:\n",
    "    def test_class1(self):\n",
    "        return \"this is class 1\"\n",
    "class class2:\n",
    "    def test_class2(self):\n",
    "        return \"This is class 2\"\n",
    "class class3(class1, class2):\n",
    "    pass"
   ]
  },
  {
   "cell_type": "code",
   "execution_count": 20,
   "id": "ebddffca-70d3-4102-b914-add436118d37",
   "metadata": {},
   "outputs": [],
   "source": [
    "class3_obj = class3()"
   ]
  },
  {
   "cell_type": "code",
   "execution_count": 21,
   "id": "1e2e4079-a05b-4627-aa67-844a89ac1004",
   "metadata": {},
   "outputs": [
    {
     "data": {
      "text/plain": [
       "'this is class 1'"
      ]
     },
     "execution_count": 21,
     "metadata": {},
     "output_type": "execute_result"
    }
   ],
   "source": [
    "class3_obj.test_class1()"
   ]
  },
  {
   "cell_type": "code",
   "execution_count": 22,
   "id": "ba154889-78ce-4f90-8ef0-e99daf413c38",
   "metadata": {},
   "outputs": [
    {
     "data": {
      "text/plain": [
       "'This is class 2'"
      ]
     },
     "execution_count": 22,
     "metadata": {},
     "output_type": "execute_result"
    }
   ],
   "source": [
    "class3_obj.test_class2()"
   ]
  },
  {
   "cell_type": "markdown",
   "id": "3ba012b8-b0e8-43b0-a81a-854753dc6a71",
   "metadata": {},
   "source": [
    "### Q6. What is Abstraction in OOps? Explain with an example."
   ]
  },
  {
   "cell_type": "markdown",
   "id": "aa7b93a0-a7a2-48e8-9e68-e0ff77bd797b",
   "metadata": {},
   "source": [
    "we can say that abstraction is used to create a blueprint of a class. Abstraction is a fundamental concept in object-oriented programming (OOP) that allows us to represent the essential features and behavior of an object while hiding the unnecessary details. In the context of classes, abstraction involves defining the common attributes and methods that are relevant to a particular type of objects, while abstracting away the specific implementation details."
   ]
  },
  {
   "cell_type": "code",
   "execution_count": 23,
   "id": "344fe9ec-2307-48b6-9375-22cf83c2ffb0",
   "metadata": {},
   "outputs": [],
   "source": [
    "import abc\n",
    "class pwskills:\n",
    "    \n",
    "    @abc.abstractclassmethod\n",
    "    def student_details(self):\n",
    "        pass\n",
    "    \n",
    "    @abc.abstractclassmethod\n",
    "    def student_assignment(self):\n",
    "        pass\n",
    "    \n",
    "    @abc.abstractclassmethod\n",
    "    def student_marks(self):\n",
    "        pass"
   ]
  },
  {
   "cell_type": "code",
   "execution_count": 24,
   "id": "da3aff75-42df-48c2-ab1b-9d9a95877af7",
   "metadata": {},
   "outputs": [],
   "source": [
    "class student_detials(pwskills):\n",
    "    \n",
    "    def student_detials(self):\n",
    "        return \"This is a methos for taking student details\"\n",
    "    \n",
    "    def student_assignment(self):\n",
    "        return \"This is a method for assing details for a perticualt student\""
   ]
  },
  {
   "cell_type": "code",
   "execution_count": 25,
   "id": "1f05bb98-05c9-4b27-bc7d-1c0ce72b7eca",
   "metadata": {},
   "outputs": [],
   "source": [
    "class data_science_maters(pwskills):\n",
    "    def student_details(self):\n",
    "        return \"This will returs a student details for data science masters\"\n",
    "    \n",
    "    def student_assignment(self):\n",
    "        return \"This will give the details of assignment for data science masters\""
   ]
  },
  {
   "cell_type": "code",
   "execution_count": 26,
   "id": "ed528531-a1b9-4ca1-89bf-783c342cb767",
   "metadata": {},
   "outputs": [],
   "source": [
    "sd = student_detials()"
   ]
  },
  {
   "cell_type": "code",
   "execution_count": 27,
   "id": "c2e1cb4a-e516-4d3d-9871-98a95d88157f",
   "metadata": {},
   "outputs": [
    {
     "data": {
      "text/plain": [
       "'This is a methos for taking student details'"
      ]
     },
     "execution_count": 27,
     "metadata": {},
     "output_type": "execute_result"
    }
   ],
   "source": [
    "sd.student_detials()"
   ]
  },
  {
   "cell_type": "code",
   "execution_count": 28,
   "id": "b90135cd-51e8-43d5-b07c-74f821367674",
   "metadata": {},
   "outputs": [
    {
     "data": {
      "text/plain": [
       "'This is a method for assing details for a perticualt student'"
      ]
     },
     "execution_count": 28,
     "metadata": {},
     "output_type": "execute_result"
    }
   ],
   "source": [
    "sd.student_assignment()"
   ]
  },
  {
   "cell_type": "code",
   "execution_count": 29,
   "id": "69a2912c-86f0-4e1d-8810-d4bc811f43ff",
   "metadata": {},
   "outputs": [],
   "source": [
    "dsm = data_science_maters()"
   ]
  },
  {
   "cell_type": "code",
   "execution_count": 30,
   "id": "b1730b1a-589f-4a3f-8076-34c0c6fa4f70",
   "metadata": {},
   "outputs": [],
   "source": [
    "dsm = data_science_maters()"
   ]
  },
  {
   "cell_type": "code",
   "execution_count": 31,
   "id": "c54ee4b3-989c-43ea-9b6d-574835ea9373",
   "metadata": {},
   "outputs": [
    {
     "data": {
      "text/plain": [
       "'This will returs a student details for data science masters'"
      ]
     },
     "execution_count": 31,
     "metadata": {},
     "output_type": "execute_result"
    }
   ],
   "source": [
    "dsm.student_details()"
   ]
  },
  {
   "cell_type": "code",
   "execution_count": 32,
   "id": "5fd7cf43-12c2-400a-9c00-cb3c5db24396",
   "metadata": {},
   "outputs": [
    {
     "data": {
      "text/plain": [
       "'This will give the details of assignment for data science masters'"
      ]
     },
     "execution_count": 32,
     "metadata": {},
     "output_type": "execute_result"
    }
   ],
   "source": [
    "dsm.student_assignment()"
   ]
  },
  {
   "cell_type": "markdown",
   "id": "22dfb184-edd3-42a6-bcc1-ae2c61ffc4a2",
   "metadata": {},
   "source": [
    "### Q7. Differentiate between Abstraction and Encapsulation. Explain with an example."
   ]
  },
  {
   "cell_type": "markdown",
   "id": "fbf8984f-bb62-4e39-aa31-76a078c8d55d",
   "metadata": {},
   "source": [
    "Abstraction: Abstraction is about simplifying and focusing on the essential features and behavior of an object without worrying about the specific implementation details.\n",
    "\n",
    "Example: Imagine a mobile phone. We can think of it in terms of its essential features, such as making calls, sending messages, and browsing the internet. We don't need to know how the internal components work or how the software is coded. Abstraction allows us to focus on what the phone does rather than how it does it.\n",
    "\n",
    "Encapsulation: Encapsulation is about bundling data and methods into a single unit (a class) and controlling access to them.\n",
    "\n",
    "Example: Let's consider a class called \"BankAccount.\" The class encapsulates data such as the account balance and methods like deposit and withdraw. The internal workings of these methods and data are hidden from external access. Users of the class can interact with the public interface (methods) to deposit or withdraw money, while the internal implementation details remain encapsulated and hidden."
   ]
  },
  {
   "cell_type": "code",
   "execution_count": null,
   "id": "34bd16b5-9d25-40e8-956d-9156281e49d8",
   "metadata": {},
   "outputs": [],
   "source": []
  }
 ],
 "metadata": {
  "kernelspec": {
   "display_name": "Python 3 (ipykernel)",
   "language": "python",
   "name": "python3"
  },
  "language_info": {
   "codemirror_mode": {
    "name": "ipython",
    "version": 3
   },
   "file_extension": ".py",
   "mimetype": "text/x-python",
   "name": "python",
   "nbconvert_exporter": "python",
   "pygments_lexer": "ipython3",
   "version": "3.10.8"
  }
 },
 "nbformat": 4,
 "nbformat_minor": 5
}
