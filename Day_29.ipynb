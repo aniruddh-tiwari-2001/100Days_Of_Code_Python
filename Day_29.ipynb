{
 "cells": [
  {
   "cell_type": "markdown",
   "id": "0be9fe18-07f8-4f77-8111-9b335ef712a0",
   "metadata": {},
   "source": [
    "# Day_29\n",
    "## Topics covered on Day 29:\n",
    "- Working With Files Oprations\n",
    "- Reading And Writing Files\n",
    "- Buffered Read And Write Other File Methods\n",
    "- Logging Debugger"
   ]
  },
  {
   "cell_type": "markdown",
   "id": "b2d33390-3016-49b0-8971-f7091e113919",
   "metadata": {},
   "source": [
    "# Working With Files Oprations"
   ]
  },
  {
   "cell_type": "code",
   "execution_count": 1,
   "id": "e8fbbe20-da42-4650-aae9-4cb665cfd4b1",
   "metadata": {},
   "outputs": [],
   "source": [
    "# Creating and writing a txt file \n",
    "f = open(\"test.txt\",'w')"
   ]
  },
  {
   "cell_type": "code",
   "execution_count": 2,
   "id": "3a7adee8-9b27-416c-9711-5d988c87c84e",
   "metadata": {},
   "outputs": [],
   "source": [
    "import os"
   ]
  },
  {
   "cell_type": "code",
   "execution_count": 3,
   "id": "13269849-4d24-47bd-9f2b-2e47880cfb93",
   "metadata": {},
   "outputs": [
    {
     "data": {
      "text/plain": [
       "'/home/jovyan/work'"
      ]
     },
     "execution_count": 3,
     "metadata": {},
     "output_type": "execute_result"
    }
   ],
   "source": [
    "pwd "
   ]
  },
  {
   "cell_type": "code",
   "execution_count": 4,
   "id": "04db1ebc-11ef-49a6-9f25-f919651bc427",
   "metadata": {},
   "outputs": [
    {
     "name": "stdout",
     "output_type": "stream",
     "text": [
      "Assignment_1.ipynb             mutable_and_imutable_object.ipynb\n",
      "Assignment-1_OOPs.ipynb        OOPS.ipynb\n",
      "Assignment_2.ipynb             operators.ipynb\n",
      "Assignment-2_OOPs.ipynb        python_variable.ipynb\n",
      "Assignment_3.1.ipynb           README.md\n",
      "Assignment_3.2.ipynb           revision.ipynb\n",
      "Assignment_3.ipynb             Revision_week1_week2.ipynb\n",
      "Assignment_4.1.ipynb           Revision_Week2.ipynb\n",
      "Assignment_OOPs_Task.ipynb     Revision_Week3.ipynb\n",
      "Conditions.ipynb               sample-code.ipynb\n",
      "Dictionary_if_elif_else.ipynb  String.ipynb\n",
      "Dictionary.ipynb               test.txt\n",
      "funtion.ipynb                  Working_With_Files.ipynb\n",
      "list_tuple_set.ipynb           \u001b[0m\u001b[01;34mwork_with_file\u001b[0m/\n"
     ]
    }
   ],
   "source": [
    "ls"
   ]
  },
  {
   "cell_type": "code",
   "execution_count": 5,
   "id": "68bc3408-88e8-4a40-afc2-ee11ccd205c8",
   "metadata": {},
   "outputs": [
    {
     "name": "stdout",
     "output_type": "stream",
     "text": [
      "/home/jovyan/work/work_with_file\n"
     ]
    }
   ],
   "source": [
    "cd work_with_file"
   ]
  },
  {
   "cell_type": "code",
   "execution_count": 6,
   "id": "4d2242e3-665c-43eb-afa3-25d7ebce1317",
   "metadata": {},
   "outputs": [],
   "source": [
    "# Creating and writing a txt file \n",
    "f = open(\"test.txt\",'w')"
   ]
  },
  {
   "cell_type": "code",
   "execution_count": 7,
   "id": "4d22b250-f7ef-46a8-838f-3aa3a136f6ca",
   "metadata": {},
   "outputs": [
    {
     "name": "stdout",
     "output_type": "stream",
     "text": [
      "copy_NewTest.txt  data.json    test1.txt  testL.log\n",
      "data.csv          NewTest.txt  test.bin   test.txt\n"
     ]
    }
   ],
   "source": [
    "ls"
   ]
  },
  {
   "cell_type": "code",
   "execution_count": 8,
   "id": "7dc0dcf8-8f28-43db-af3e-c336118bdd36",
   "metadata": {},
   "outputs": [
    {
     "name": "stdout",
     "output_type": "stream",
     "text": [
      "copy_NewTest.txt  data.json    test1.txt  testL.log\n",
      "data.csv          NewTest.txt  test.bin   test.txt\n"
     ]
    }
   ],
   "source": [
    "ls"
   ]
  },
  {
   "cell_type": "code",
   "execution_count": 9,
   "id": "f1e3373d-813a-43b8-8fcc-9f498fe47f29",
   "metadata": {},
   "outputs": [
    {
     "data": {
      "text/plain": [
       "'/home/jovyan/work/work_with_file'"
      ]
     },
     "execution_count": 9,
     "metadata": {},
     "output_type": "execute_result"
    }
   ],
   "source": [
    "pwd"
   ]
  },
  {
   "cell_type": "code",
   "execution_count": 10,
   "id": "89ceb584-6a88-41f5-9e09-da6c5272b268",
   "metadata": {},
   "outputs": [
    {
     "name": "stdout",
     "output_type": "stream",
     "text": [
      "copy_NewTest.txt  data.json    test1.txt  testL.log\n",
      "data.csv          NewTest.txt  test.bin   test.txt\n"
     ]
    }
   ],
   "source": [
    "ls"
   ]
  },
  {
   "cell_type": "code",
   "execution_count": 11,
   "id": "09304211-8228-44d7-b29f-12dc9ed56f28",
   "metadata": {},
   "outputs": [
    {
     "data": {
      "text/plain": [
       "36"
      ]
     },
     "execution_count": 11,
     "metadata": {},
     "output_type": "execute_result"
    }
   ],
   "source": [
    "f.write(\"Hello This is my frist file to write\")"
   ]
  },
  {
   "cell_type": "code",
   "execution_count": 12,
   "id": "1193a9b0-013d-479c-90d1-4ae84a4cf4bc",
   "metadata": {},
   "outputs": [],
   "source": [
    "f.close()"
   ]
  },
  {
   "cell_type": "code",
   "execution_count": 13,
   "id": "ad77bb91-269b-44b0-921e-793a6e531469",
   "metadata": {},
   "outputs": [],
   "source": [
    "f = open(\"test.txt\",'w')"
   ]
  },
  {
   "cell_type": "code",
   "execution_count": 14,
   "id": "ecbbf92c-9ee7-41c1-ae19-d3adb16fd65e",
   "metadata": {},
   "outputs": [
    {
     "data": {
      "text/plain": [
       "'/home/jovyan/work/work_with_file'"
      ]
     },
     "execution_count": 14,
     "metadata": {},
     "output_type": "execute_result"
    }
   ],
   "source": [
    "pwd"
   ]
  },
  {
   "cell_type": "code",
   "execution_count": 15,
   "id": "f414cfc6-71a0-40fa-8233-1a24e08a19c7",
   "metadata": {},
   "outputs": [
    {
     "name": "stdout",
     "output_type": "stream",
     "text": [
      "copy_NewTest.txt  data.json    test1.txt  testL.log\n",
      "data.csv          NewTest.txt  test.bin   test.txt\n"
     ]
    }
   ],
   "source": [
    "ls"
   ]
  },
  {
   "cell_type": "code",
   "execution_count": 16,
   "id": "ea992b11-9b5d-4d9f-882b-391f6a069e5b",
   "metadata": {},
   "outputs": [],
   "source": [
    "f = open(\"test.txt\",'w')"
   ]
  },
  {
   "cell_type": "code",
   "execution_count": 17,
   "id": "6ff0a6b2-3f3a-489b-b01d-064d43ae81c2",
   "metadata": {},
   "outputs": [
    {
     "data": {
      "text/plain": [
       "15"
      ]
     },
     "execution_count": 17,
     "metadata": {},
     "output_type": "execute_result"
    }
   ],
   "source": [
    "f.write(\"This is my file\")"
   ]
  },
  {
   "cell_type": "code",
   "execution_count": 18,
   "id": "2979983c-39c3-439d-b3d1-07f7ae5435e9",
   "metadata": {},
   "outputs": [],
   "source": [
    "f.close()"
   ]
  },
  {
   "cell_type": "code",
   "execution_count": 19,
   "id": "1ef63387-3a5e-4b31-ac8e-5c69482fc087",
   "metadata": {},
   "outputs": [],
   "source": [
    "# Writeing and updating a file without delteing the previous data\n",
    "f = open(\"test.txt\",'a')"
   ]
  },
  {
   "cell_type": "code",
   "execution_count": 20,
   "id": "220036d2-eded-4fda-9eb9-a5dd8de5556b",
   "metadata": {},
   "outputs": [
    {
     "data": {
      "text/plain": [
       "334"
      ]
     },
     "execution_count": 20,
     "metadata": {},
     "output_type": "execute_result"
    }
   ],
   "source": [
    "f.write(\"How much does Amazon Prime cost for 1 year in India? ₹1499 per year Steps to sign up for Amazon Prime membership. To enjoy Prime benefits, you can currently purchase Prime membership at an offer price by paying ₹1499 per year, ₹299 per month,₹599 for 3 months (basis eligibility) , or purchase Prime Lite plan by paying ₹999 per year.\")"
   ]
  },
  {
   "cell_type": "code",
   "execution_count": 21,
   "id": "b5cbb33b-95dc-41bc-acdd-720b02784698",
   "metadata": {},
   "outputs": [],
   "source": [
    "f.close()"
   ]
  },
  {
   "cell_type": "code",
   "execution_count": 22,
   "id": "a7e29613-a86c-4782-b107-96fc7a969ee6",
   "metadata": {},
   "outputs": [],
   "source": [
    "# Reading the data from a file\n",
    "f = open(\"test.txt\",'r')"
   ]
  },
  {
   "cell_type": "code",
   "execution_count": 23,
   "id": "69fb3b36-ad3e-4b5c-b99e-b1ef2337bc77",
   "metadata": {},
   "outputs": [
    {
     "data": {
      "text/plain": [
       "'This is my fileHow much does Amazon Prime cost for 1 year in India? ₹1499 per year Steps to sign up for Amazon Prime membership. To enjoy Prime benefits, you can currently purchase Prime membership at an offer price by paying ₹1499 per year, ₹299 per month,₹599 for 3 months (basis eligibility) , or purchase Prime Lite plan by paying ₹999 per year.'"
      ]
     },
     "execution_count": 23,
     "metadata": {},
     "output_type": "execute_result"
    }
   ],
   "source": [
    "f.read()"
   ]
  },
  {
   "cell_type": "code",
   "execution_count": 24,
   "id": "ad255672-d8f7-4bc3-b90f-94656c5c5522",
   "metadata": {},
   "outputs": [
    {
     "data": {
      "text/plain": [
       "''"
      ]
     },
     "execution_count": 24,
     "metadata": {},
     "output_type": "execute_result"
    }
   ],
   "source": [
    "# Read data line by line\n",
    "f.readline()"
   ]
  },
  {
   "cell_type": "code",
   "execution_count": 25,
   "id": "074451b5-e86c-4962-b436-2e8961cb6916",
   "metadata": {},
   "outputs": [
    {
     "data": {
      "text/plain": [
       "0"
      ]
     },
     "execution_count": 25,
     "metadata": {},
     "output_type": "execute_result"
    }
   ],
   "source": [
    "f.seek(0)"
   ]
  },
  {
   "cell_type": "code",
   "execution_count": 26,
   "id": "b20dedcd-ca03-465d-b7b5-a55c327702ac",
   "metadata": {},
   "outputs": [
    {
     "data": {
      "text/plain": [
       "'This is my fileHow much does Amazon Prime cost for 1 year in India? ₹1499 per year Steps to sign up for Amazon Prime membership. To enjoy Prime benefits, you can currently purchase Prime membership at an offer price by paying ₹1499 per year, ₹299 per month,₹599 for 3 months (basis eligibility) , or purchase Prime Lite plan by paying ₹999 per year.'"
      ]
     },
     "execution_count": 26,
     "metadata": {},
     "output_type": "execute_result"
    }
   ],
   "source": [
    "f.readline()"
   ]
  },
  {
   "cell_type": "code",
   "execution_count": 27,
   "id": "9306bf39-3df7-44f9-8c0d-a65b890727bf",
   "metadata": {},
   "outputs": [
    {
     "data": {
      "text/plain": [
       "''"
      ]
     },
     "execution_count": 27,
     "metadata": {},
     "output_type": "execute_result"
    }
   ],
   "source": [
    "f.readline()"
   ]
  },
  {
   "cell_type": "code",
   "execution_count": 28,
   "id": "f79b74ea-b349-445c-b271-39eb1921097a",
   "metadata": {},
   "outputs": [
    {
     "data": {
      "text/plain": [
       "10"
      ]
     },
     "execution_count": 28,
     "metadata": {},
     "output_type": "execute_result"
    }
   ],
   "source": [
    "## Seek is use to read the data from the perticular index you had given\n",
    "f.seek(10)"
   ]
  },
  {
   "cell_type": "code",
   "execution_count": 29,
   "id": "a3118cb6-40a1-47ce-a324-d0516978a292",
   "metadata": {},
   "outputs": [
    {
     "data": {
      "text/plain": [
       "' fileHow much does Amazon Prime cost for 1 year in India? ₹1499 per year Steps to sign up for Amazon Prime membership. To enjoy Prime benefits, you can currently purchase Prime membership at an offer price by paying ₹1499 per year, ₹299 per month,₹599 for 3 months (basis eligibility) , or purchase Prime Lite plan by paying ₹999 per year.'"
      ]
     },
     "execution_count": 29,
     "metadata": {},
     "output_type": "execute_result"
    }
   ],
   "source": [
    "f.readline()"
   ]
  },
  {
   "cell_type": "code",
   "execution_count": 30,
   "id": "ad95b4fa-c24a-48c3-bedd-4ba1557901cf",
   "metadata": {},
   "outputs": [],
   "source": [
    "# We can apply conditions also in file\n",
    "f1 =  open(\"test.txt\",'r')"
   ]
  },
  {
   "cell_type": "code",
   "execution_count": 31,
   "id": "9da5613f-1f68-4140-be2d-5cf9dce402ea",
   "metadata": {},
   "outputs": [
    {
     "name": "stdout",
     "output_type": "stream",
     "text": [
      "This is my fileHow much does Amazon Prime cost for 1 year in India? ₹1499 per year Steps to sign up for Amazon Prime membership. To enjoy Prime benefits, you can currently purchase Prime membership at an offer price by paying ₹1499 per year, ₹299 per month,₹599 for 3 months (basis eligibility) , or purchase Prime Lite plan by paying ₹999 per year.\n"
     ]
    }
   ],
   "source": [
    "for i in f1:\n",
    "    print(i)"
   ]
  },
  {
   "cell_type": "code",
   "execution_count": 32,
   "id": "918ef203-3321-4219-ad45-9ebb519ad939",
   "metadata": {},
   "outputs": [
    {
     "data": {
      "text/plain": [
       "359"
      ]
     },
     "execution_count": 32,
     "metadata": {},
     "output_type": "execute_result"
    }
   ],
   "source": [
    "## Check the size of a file data\n",
    "import os\n",
    "os.path.getsize(\"test.txt\")"
   ]
  },
  {
   "cell_type": "code",
   "execution_count": 33,
   "id": "60a0bb08-598b-44a8-a948-bd7e6c897cde",
   "metadata": {},
   "outputs": [],
   "source": [
    "# How delete a file\n",
    "os.remove(\"test.txt\")"
   ]
  },
  {
   "cell_type": "code",
   "execution_count": 34,
   "id": "41bdf0ae-a08b-4e9a-acac-fffd53758f6a",
   "metadata": {},
   "outputs": [],
   "source": [
    "f  = open(\"test1.txt\", 'w')"
   ]
  },
  {
   "cell_type": "code",
   "execution_count": 35,
   "id": "3d78d34c-c7a6-43fe-9f11-0e7344d74a2c",
   "metadata": {},
   "outputs": [
    {
     "data": {
      "text/plain": [
       "750"
      ]
     },
     "execution_count": 35,
     "metadata": {},
     "output_type": "execute_result"
    }
   ],
   "source": [
    "f.write(\"Data Science Masters course is highly curated and uniquely designed according to the latest industry standards. This program instills students the skills essential to knowledge discovery efforts to identify standard, novel, and truly differentiated solutions and decision-making, including skills in managing, querying, analyzing, visualizing, and extracting meaning from extremely large data sets. This trending program provides students with the statistical, mathematical, and computational skills needed to meet the large-scale data science challenges of today's professional world. You will learn all the stack required to work in data science, data analytics, and big data industry including cloud infrastructure and real-time industry projects.\")"
   ]
  },
  {
   "cell_type": "code",
   "execution_count": 36,
   "id": "199b5c72-fe1e-4f69-a1bf-be52ad13e2ed",
   "metadata": {},
   "outputs": [],
   "source": [
    "f.close()"
   ]
  },
  {
   "cell_type": "code",
   "execution_count": 37,
   "id": "45745a73-d32c-47c4-88a4-cb69815732cb",
   "metadata": {},
   "outputs": [],
   "source": [
    "# Rename a file\n",
    "os.rename(\"test1.txt\", \"NewTest.txt\")"
   ]
  },
  {
   "cell_type": "code",
   "execution_count": 38,
   "id": "45ba98b7-2d4e-4032-aba0-642281e62da9",
   "metadata": {},
   "outputs": [
    {
     "data": {
      "text/plain": [
       "'copy_NewTest.txt'"
      ]
     },
     "execution_count": 38,
     "metadata": {},
     "output_type": "execute_result"
    }
   ],
   "source": [
    "# Create a copy of a file\n",
    "import shutil\n",
    "shutil.copy(\"NewTest.txt\", \"copy_NewTest.txt\")"
   ]
  },
  {
   "cell_type": "code",
   "execution_count": 39,
   "id": "7a01bb90-451a-4f90-87c2-9d40dc6f6b9f",
   "metadata": {},
   "outputs": [
    {
     "name": "stdout",
     "output_type": "stream",
     "text": [
      "Data Science Masters course is highly curated and uniquely designed according to the latest industry standards. This program instills students the skills essential to knowledge discovery efforts to identify standard, novel, and truly differentiated solutions and decision-making, including skills in managing, querying, analyzing, visualizing, and extracting meaning from extremely large data sets. This trending program provides students with the statistical, mathematical, and computational skills needed to meet the large-scale data science challenges of today's professional world. You will learn all the stack required to work in data science, data analytics, and big data industry including cloud infrastructure and real-time industry projects.\n"
     ]
    }
   ],
   "source": [
    "# Another way to open a file\n",
    "with open(\"NewTest.txt\", \"r\") as f:\n",
    "    print(f.read())"
   ]
  },
  {
   "cell_type": "markdown",
   "id": "bace9ab8-8424-4236-b097-eb55c07a0aa6",
   "metadata": {},
   "source": [
    "# Reading And Writing Files"
   ]
  },
  {
   "cell_type": "code",
   "execution_count": 40,
   "id": "01e1259c-1469-4e8f-8c33-1859a68908a9",
   "metadata": {},
   "outputs": [],
   "source": [
    "data = {\n",
    "    \"name\" : \"Aniruddh\",\n",
    "    \"mail_id\" : \"aniruddh@gmail.com\",\n",
    "    \"phone_number\" : 9424669633,\n",
    "    \"subject\" : [\"Data Science\", \"Big Data\", \"Data Analytics\"]\n",
    "}"
   ]
  },
  {
   "cell_type": "code",
   "execution_count": 41,
   "id": "f857ee8a-d15c-4452-9f77-48ea61d3a3d9",
   "metadata": {},
   "outputs": [],
   "source": [
    "# How to write this type to data formate in a jsonfile\n",
    "import json"
   ]
  },
  {
   "cell_type": "code",
   "execution_count": 42,
   "id": "1529afb8-64d3-4841-b971-b6889bf14ef9",
   "metadata": {},
   "outputs": [],
   "source": [
    "with open(\"data.json\",\"w\") as f:\n",
    "    json.dump(data, f)"
   ]
  },
  {
   "cell_type": "code",
   "execution_count": 43,
   "id": "09df222c-f82c-440e-8dc1-3e9c2578d894",
   "metadata": {},
   "outputs": [],
   "source": [
    "# How to read a json file\n",
    "with open(\"data.json\",\"r\") as f:\n",
    "    data1 = json.load(f)"
   ]
  },
  {
   "cell_type": "code",
   "execution_count": 44,
   "id": "b122254d-c987-4b58-b053-22f28aa8eeb1",
   "metadata": {},
   "outputs": [
    {
     "data": {
      "text/plain": [
       "{'name': 'Aniruddh',\n",
       " 'mail_id': 'aniruddh@gmail.com',\n",
       " 'phone_number': 9424669633,\n",
       " 'subject': ['Data Science', 'Big Data', 'Data Analytics']}"
      ]
     },
     "execution_count": 44,
     "metadata": {},
     "output_type": "execute_result"
    }
   ],
   "source": [
    "data1"
   ]
  },
  {
   "cell_type": "code",
   "execution_count": 45,
   "id": "b17b4f46-b99e-4f93-8dfc-65a5ff255bb2",
   "metadata": {},
   "outputs": [
    {
     "data": {
      "text/plain": [
       "['Data Science', 'Big Data', 'Data Analytics']"
      ]
     },
     "execution_count": 45,
     "metadata": {},
     "output_type": "execute_result"
    }
   ],
   "source": [
    "data1['subject']"
   ]
  },
  {
   "cell_type": "code",
   "execution_count": 46,
   "id": "0b13cd8f-6a82-4af2-8db9-9d501ccdf408",
   "metadata": {},
   "outputs": [
    {
     "data": {
      "text/plain": [
       "'Big Data'"
      ]
     },
     "execution_count": 46,
     "metadata": {},
     "output_type": "execute_result"
    }
   ],
   "source": [
    "data1['subject'][1]"
   ]
  },
  {
   "cell_type": "code",
   "execution_count": 47,
   "id": "9b16c92d-27b0-41f8-a6c1-fa24b9af211c",
   "metadata": {},
   "outputs": [],
   "source": [
    "# Create a CSV (coma seprated file)\n",
    "import csv"
   ]
  },
  {
   "cell_type": "code",
   "execution_count": 48,
   "id": "2d72252e-a941-4c5e-9fc8-45f62dd0bf3c",
   "metadata": {},
   "outputs": [],
   "source": [
    "data = [[\"name\", \"email_id\",\"phone_number\"],\n",
    "        [\"Aniruddh\", \"aniruddh@gmail.com\", 9424669633],\n",
    "        [\"Golu\", \"golu@gmail.com\", 9977009644],\n",
    "        [\"Brandy\", \"brandy@gmail.com\", 4739280156],\n",
    "        [\"ABC\",\"abc@xyz.com\",1432087565]\n",
    "       ]"
   ]
  },
  {
   "cell_type": "code",
   "execution_count": 49,
   "id": "9440f759-8e1d-430d-8712-e95e6394d5f3",
   "metadata": {},
   "outputs": [],
   "source": [
    "with open(\"data.csv\",\"w\") as f:\n",
    "    writer = csv.writer(f)\n",
    "    \n",
    "    for i in data:\n",
    "        writer.writerow(i)"
   ]
  },
  {
   "cell_type": "code",
   "execution_count": 50,
   "id": "86fd7951-3dad-4e70-aaaa-98d45e5e0057",
   "metadata": {},
   "outputs": [
    {
     "name": "stdout",
     "output_type": "stream",
     "text": [
      "['name', 'email_id', 'phone_number']\n",
      "['Aniruddh', 'aniruddh@gmail.com', '9424669633']\n",
      "['Golu', 'golu@gmail.com', '9977009644']\n",
      "['Brandy', 'brandy@gmail.com', '4739280156']\n",
      "['ABC', 'abc@xyz.com', '1432087565']\n"
     ]
    }
   ],
   "source": [
    "with open(\"data.csv\",\"r\") as f:\n",
    "    read_data = csv.reader(f)\n",
    "    \n",
    "    for i in read_data:\n",
    "            print(i)"
   ]
  },
  {
   "cell_type": "code",
   "execution_count": 51,
   "id": "528ed518-779d-4250-a8ec-e3167231014a",
   "metadata": {},
   "outputs": [],
   "source": [
    "# write and read a binary data\n",
    "with open(\"test.bin\", \"wb\") as f:\n",
    "    f.write(b\"\\x01\\x02\\x03\\x000003223\")"
   ]
  },
  {
   "cell_type": "code",
   "execution_count": 52,
   "id": "7e74eda8-9bbb-414c-83fc-655e75169907",
   "metadata": {},
   "outputs": [
    {
     "name": "stdout",
     "output_type": "stream",
     "text": [
      "b'\\x01\\x02\\x03\\x000003223'\n"
     ]
    }
   ],
   "source": [
    "with open(\"test.bin\", \"rb\") as f:\n",
    "    print(f.read())"
   ]
  },
  {
   "cell_type": "markdown",
   "id": "5e7bd252-e6e4-4af5-a116-05a73bcab152",
   "metadata": {},
   "source": [
    "# Buffered Read And Write Other File Methods"
   ]
  },
  {
   "cell_type": "code",
   "execution_count": 53,
   "id": "e331634f-2642-452f-8ae8-8fbdfc697ad9",
   "metadata": {},
   "outputs": [],
   "source": [
    "import io"
   ]
  },
  {
   "cell_type": "code",
   "execution_count": 54,
   "id": "e2ff304f-eca9-4898-8761-ecd3b19a8338",
   "metadata": {},
   "outputs": [],
   "source": [
    "# Write a buffered\n",
    "with open(\"test1.txt\", \"wb\") as f:\n",
    "    file = io.BufferedWriter(f)\n",
    "    \n",
    "    file.write(b\"Data Science Masters course is highly curated and uniquely designed according to the latest industry standards. This program instills students the skills essential to knowledge discovery efforts to identify standard, novel, and truly differentiated solutions and decision-making, including skills in managing, querying, analyzing, visualizing, and extracting meaning from extremely large data sets. This trending program provides students with the statistical, mathematical, and computational skills needed to meet the large-scale data science challenges of today's professional world. You will learn all the stack required to work in data science, data analytics, and big data industry including cloud infrastructure and real-time industry projects.\\n\")\n",
    "    file.write(b\"This is my Secon line\\n\")\n",
    "    \n",
    "    file.flush()"
   ]
  },
  {
   "cell_type": "code",
   "execution_count": 55,
   "id": "b31081a2-48d4-47d4-b59b-a7d7d804768a",
   "metadata": {},
   "outputs": [
    {
     "name": "stdout",
     "output_type": "stream",
     "text": [
      "b\"Data Science Masters course is highly curated and uniquely designed according to the latest industry standards. This program instills students the skills essential to knowledge discovery efforts to identify standard, novel, and truly differentiated solutions and decision-making, including skills in managing, querying, analyzing, visualizing, and extracting meaning from extremely large data sets. This trending program provides students with the statistical, mathematical, and computational skills needed to meet the large-scale data science challenges of today's professional world. You will learn all the stack required to work in data science, data analytics, and big data industry including cloud infrastructure and real-time industry projects.\\nThis is my Secon line\\n\"\n"
     ]
    }
   ],
   "source": [
    "# Read\n",
    "with open(\"test1.txt\",\"rb\") as f:\n",
    "    file = io.BufferedReader(f)\n",
    "    data = file.read()\n",
    "    print(data)"
   ]
  },
  {
   "cell_type": "code",
   "execution_count": 56,
   "id": "64feb63c-1d89-41db-bc84-9d77203f7146",
   "metadata": {},
   "outputs": [
    {
     "name": "stdout",
     "output_type": "stream",
     "text": [
      "b'Data Science'\n"
     ]
    }
   ],
   "source": [
    "# Read according to size\n",
    "with open(\"test1.txt\",\"rb\") as f:\n",
    "    file = io.BufferedReader(f)\n",
    "    data = file.read(12)\n",
    "    print(data)"
   ]
  },
  {
   "cell_type": "markdown",
   "id": "fb43a585-4668-41ba-b533-a71e6fc2999c",
   "metadata": {},
   "source": [
    "#  Logging Debugger"
   ]
  },
  {
   "cell_type": "code",
   "execution_count": 57,
   "id": "a0cdf35b-7639-4e67-baaa-58dee72d7c86",
   "metadata": {},
   "outputs": [
    {
     "name": "stdout",
     "output_type": "stream",
     "text": [
      "This is my print\n"
     ]
    }
   ],
   "source": [
    "print(\"This is my print\")"
   ]
  },
  {
   "cell_type": "code",
   "execution_count": 58,
   "id": "ad99ae43-6421-4c8f-995d-bb39a0224871",
   "metadata": {},
   "outputs": [],
   "source": [
    "import logging"
   ]
  },
  {
   "cell_type": "raw",
   "id": "d4441793-7d8c-4999-93a6-5d86c0deb0b5",
   "metadata": {},
   "source": [
    "Lables of logging\n",
    "1. NOTSET\n",
    "2. DEBUG\n",
    "3. INFO\n",
    "4. WARNING\n",
    "5. ERROR\n",
    "6. CRITICAL"
   ]
  },
  {
   "cell_type": "code",
   "execution_count": 59,
   "id": "7fec43ae-35f8-4c0a-bf9d-8a1ba2562ef0",
   "metadata": {},
   "outputs": [],
   "source": [
    "logging.basicConfig(filename=\"testL.log\", level=logging.INFO)"
   ]
  },
  {
   "cell_type": "code",
   "execution_count": 60,
   "id": "3574f864-479e-4d0e-be54-8659802cce91",
   "metadata": {},
   "outputs": [],
   "source": [
    "logging.info(\"log this line of e\")"
   ]
  },
  {
   "cell_type": "code",
   "execution_count": 61,
   "id": "6e3e75ff-b252-4e5c-b038-cefccb1c42ab",
   "metadata": {},
   "outputs": [],
   "source": [
    "logging.info(\"This is my print\")"
   ]
  },
  {
   "cell_type": "code",
   "execution_count": 62,
   "id": "f105f393-a1fe-4aca-9620-3cd7b6d3c48d",
   "metadata": {},
   "outputs": [],
   "source": [
    "logging.warning(\"This is my warning\")"
   ]
  },
  {
   "cell_type": "code",
   "execution_count": 63,
   "id": "41ceb2f4-5d11-43b9-99c8-458e6b884571",
   "metadata": {},
   "outputs": [],
   "source": [
    "# this will not going to seve in log file\n",
    "logging.debug(\"This is my debug\")"
   ]
  },
  {
   "cell_type": "code",
   "execution_count": 64,
   "id": "f415853a-ba9c-451d-a631-2e2c97b0eb76",
   "metadata": {},
   "outputs": [],
   "source": [
    "logging.error(\"Tis is my error\")"
   ]
  },
  {
   "cell_type": "code",
   "execution_count": 65,
   "id": "af0b190f-f986-4f28-89b1-5773af6aabf8",
   "metadata": {},
   "outputs": [],
   "source": [
    "logging.critical(\"This is my critical\")"
   ]
  },
  {
   "cell_type": "code",
   "execution_count": 76,
   "id": "6609bb2d-aea1-4a88-8c26-2b9ec5f9b9af",
   "metadata": {},
   "outputs": [],
   "source": [
    "logging.shutdown()"
   ]
  },
  {
   "cell_type": "code",
   "execution_count": 77,
   "id": "ecb3f9b1-bf0e-42aa-9541-73b0d5e7e912",
   "metadata": {},
   "outputs": [],
   "source": [
    "import logging"
   ]
  },
  {
   "cell_type": "code",
   "execution_count": 78,
   "id": "aedc4ab9-4c2e-446c-8e72-182af09ebb56",
   "metadata": {},
   "outputs": [],
   "source": [
    "logging.basicConfig(filename = \"test1.log\", level = logging.DEBUG, format = '%(acstime)s %(message)s')"
   ]
  },
  {
   "cell_type": "code",
   "execution_count": 79,
   "id": "d3317350-baa7-40d9-a922-6107a975ac66",
   "metadata": {},
   "outputs": [],
   "source": [
    "logging.info(\"This is my info\")\n",
    "logging.error(\"This is my error\")\n",
    "logging.critical(\"This is my critical\")"
   ]
  },
  {
   "cell_type": "code",
   "execution_count": null,
   "id": "b51fd995-fba1-430b-9b12-d1603fe31e49",
   "metadata": {},
   "outputs": [],
   "source": []
  }
 ],
 "metadata": {
  "kernelspec": {
   "display_name": "Python 3 (ipykernel)",
   "language": "python",
   "name": "python3"
  },
  "language_info": {
   "codemirror_mode": {
    "name": "ipython",
    "version": 3
   },
   "file_extension": ".py",
   "mimetype": "text/x-python",
   "name": "python",
   "nbconvert_exporter": "python",
   "pygments_lexer": "ipython3",
   "version": "3.10.8"
  }
 },
 "nbformat": 4,
 "nbformat_minor": 5
}
