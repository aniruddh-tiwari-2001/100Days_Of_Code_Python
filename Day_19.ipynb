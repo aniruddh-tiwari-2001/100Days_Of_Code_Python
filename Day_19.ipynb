{
 "cells": [
  {
   "cell_type": "markdown",
   "id": "8ec07bb9-294a-494a-9e45-27f2041e8892",
   "metadata": {},
   "source": [
    "### Q1) Calculate the sum of digits in a given number using a for loop."
   ]
  },
  {
   "cell_type": "code",
   "execution_count": 1,
   "id": "891295e3-e4fb-478c-8ea7-d33660176e73",
   "metadata": {},
   "outputs": [
    {
     "name": "stdin",
     "output_type": "stream",
     "text": [
      "Enter the numbers:-  123\n"
     ]
    },
    {
     "name": "stdout",
     "output_type": "stream",
     "text": [
      "6\n"
     ]
    }
   ],
   "source": [
    "n = int(input(\"Enter the numbers:- \"))\n",
    "add = 0\n",
    "for i in str(n):\n",
    "    add = add+int(i)\n",
    "print(add)"
   ]
  },
  {
   "cell_type": "markdown",
   "id": "b4b083d9-b39c-4025-b493-1449f48ab957",
   "metadata": {},
   "source": [
    "### Q2) Generate a multiplication table for a given number using a for loop."
   ]
  },
  {
   "cell_type": "code",
   "execution_count": 4,
   "id": "585aa747-e7d7-424f-9097-4fd35bfbaaf1",
   "metadata": {},
   "outputs": [
    {
     "name": "stdin",
     "output_type": "stream",
     "text": [
      "Enter the numbe:-  5\n"
     ]
    },
    {
     "name": "stdout",
     "output_type": "stream",
     "text": [
      "5\n",
      "10\n",
      "15\n",
      "20\n",
      "25\n",
      "30\n",
      "35\n",
      "40\n",
      "45\n",
      "50\n"
     ]
    }
   ],
   "source": [
    "n = int(input(\"Enter the numbe:- \"))\n",
    "for i in range(1,11):\n",
    "    x = n*i\n",
    "    print(x)"
   ]
  },
  {
   "cell_type": "markdown",
   "id": "8180bfe1-f5ec-44de-a33b-451298371f1b",
   "metadata": {},
   "source": [
    "### Q3) Print a triangle of asterisks using a for loop."
   ]
  },
  {
   "cell_type": "code",
   "execution_count": 23,
   "id": "5c373248-c561-411c-b180-d9ce9b59ee4a",
   "metadata": {},
   "outputs": [
    {
     "name": "stdout",
     "output_type": "stream",
     "text": [
      "*\n",
      "**\n",
      "***\n",
      "****\n",
      "*****\n"
     ]
    }
   ],
   "source": [
    "n = 5\n",
    "for i in range(1,n+1):\n",
    "    print('*'*i)"
   ]
  },
  {
   "cell_type": "markdown",
   "id": "af3a67c0-7472-40a0-a65c-9d511d7225f6",
   "metadata": {},
   "source": [
    "### Q4) Count the number of vowels in a given string using a for loop."
   ]
  },
  {
   "cell_type": "code",
   "execution_count": 30,
   "id": "8e77c0df-d650-4cdf-8a79-2682c89b4c66",
   "metadata": {},
   "outputs": [
    {
     "name": "stdin",
     "output_type": "stream",
     "text": [
      "Enter the string:-  ain\n"
     ]
    },
    {
     "name": "stdout",
     "output_type": "stream",
     "text": [
      "2\n"
     ]
    }
   ],
   "source": [
    "s = input(\"Enter the string:- \")\n",
    "c = 0\n",
    "for i in s:\n",
    "    if i.lower() in 'aeiou':\n",
    "        c = c+1\n",
    "print(c)"
   ]
  },
  {
   "cell_type": "markdown",
   "id": "88fad48a-310a-4aa8-8692-81987857ae98",
   "metadata": {},
   "source": [
    "### Q5) Calculate the average of a list of numbers using a for loop"
   ]
  },
  {
   "cell_type": "code",
   "execution_count": 37,
   "id": "fbac636c-eaa5-44fb-b832-584cb963ec10",
   "metadata": {},
   "outputs": [
    {
     "name": "stdout",
     "output_type": "stream",
     "text": [
      "[5, 8, 12, 3, 9]\n",
      "7.4\n"
     ]
    }
   ],
   "source": [
    "l = [5,8,12,3,9]\n",
    "av = 0\n",
    "for i in l:\n",
    "    av = av+i\n",
    "av = av = av/len(l)\n",
    "print(l)\n",
    "print(av)"
   ]
  },
  {
   "cell_type": "markdown",
   "id": "1e6c6905-3655-4d37-b853-352649edfe57",
   "metadata": {},
   "source": [
    "### Q6) Print the factorial of a given number using a for loop."
   ]
  },
  {
   "cell_type": "code",
   "execution_count": 39,
   "id": "d00b598e-bc5f-4429-8fb4-915ba3b13e32",
   "metadata": {},
   "outputs": [
    {
     "name": "stdin",
     "output_type": "stream",
     "text": [
      "Enter the number:-  5\n"
     ]
    },
    {
     "name": "stdout",
     "output_type": "stream",
     "text": [
      "120\n"
     ]
    }
   ],
   "source": [
    "f = int(input(\"Enter the number:- \"))\n",
    "fa = 1\n",
    "for i in range(1,f+1):\n",
    "    fa = fa*i\n",
    "print(fa)"
   ]
  },
  {
   "cell_type": "markdown",
   "id": "d1e0af7d-d5bc-496a-8f9b-ddecdb280a44",
   "metadata": {},
   "source": [
    "### Q7) Calculate the sum of all odd numbers from 1 to 20 using a for loop."
   ]
  },
  {
   "cell_type": "code",
   "execution_count": 43,
   "id": "c5efdf25-3dc4-40e9-b0be-cd6803b7028f",
   "metadata": {},
   "outputs": [
    {
     "name": "stdout",
     "output_type": "stream",
     "text": [
      "100\n"
     ]
    }
   ],
   "source": [
    "n = 0\n",
    "for i in range(1,21):\n",
    "    if i % 2 == 1:\n",
    "        n = (i+n)\n",
    "print(n)"
   ]
  },
  {
   "cell_type": "code",
   "execution_count": 46,
   "id": "3693b02b-bcda-4fe8-a979-ecb649fbfce2",
   "metadata": {},
   "outputs": [
    {
     "name": "stdout",
     "output_type": "stream",
     "text": [
      "100\n"
     ]
    }
   ],
   "source": [
    "x = 0\n",
    "for i in range(1, 21, 2):\n",
    "    x += i\n",
    "print(x)\n"
   ]
  },
  {
   "cell_type": "markdown",
   "id": "8376cbf7-34bb-4c4f-bdf0-e6b91562a690",
   "metadata": {},
   "source": [
    "### Q8) Print the elements of a list in reverse order using a for loop."
   ]
  },
  {
   "cell_type": "code",
   "execution_count": 60,
   "id": "bcc250c6-573a-4a96-b43e-2cb131f60196",
   "metadata": {},
   "outputs": [
    {
     "name": "stdin",
     "output_type": "stream",
     "text": [
      "Enter the number of elements you want:- 5\n",
      "enter element 1:-  312\n",
      "enter element 2:-  5447\n",
      "enter element 3:-  234\n",
      "enter element 4:-  46\n",
      "enter element 5:-  86\n"
     ]
    },
    {
     "name": "stdout",
     "output_type": "stream",
     "text": [
      "[312, 5447, 234, 46, 86]\n",
      "[86, 46, 234, 5447, 312]\n"
     ]
    }
   ],
   "source": [
    "l = []\n",
    "y = []\n",
    "x = int(input(\"Enter the number of elements you want:-\" ))\n",
    "for i in range(x):\n",
    "    e = int(input(\"enter element {}:- \".format(i+1)))\n",
    "    l.append(e)\n",
    "\n",
    "for j in range(len(l)-1,-1,-1):\n",
    "        y.append(l[j])\n",
    "print(l)\n",
    "print(y)"
   ]
  },
  {
   "cell_type": "code",
   "execution_count": null,
   "id": "ae3842b8-8d03-463b-8525-66cce6d1fa4f",
   "metadata": {},
   "outputs": [],
   "source": []
  }
 ],
 "metadata": {
  "kernelspec": {
   "display_name": "Python 3 (ipykernel)",
   "language": "python",
   "name": "python3"
  },
  "language_info": {
   "codemirror_mode": {
    "name": "ipython",
    "version": 3
   },
   "file_extension": ".py",
   "mimetype": "text/x-python",
   "name": "python",
   "nbconvert_exporter": "python",
   "pygments_lexer": "ipython3",
   "version": "3.10.8"
  }
 },
 "nbformat": 4,
 "nbformat_minor": 5
}
